{
  "cells": [
    {
      "cell_type": "markdown",
      "metadata": {
        "id": "view-in-github",
        "colab_type": "text"
      },
      "source": [
        "<a href=\"https://colab.research.google.com/github/HafizYuzbasov/Math-2024-25-Winter/blob/main/Notebooks_EN/01_Linear_Algebra/01_Matrices/LA_Matrix_inversion_by_formula_en.ipynb\" target=\"_parent\"><img src=\"https://colab.research.google.com/assets/colab-badge.svg\" alt=\"Open In Colab\"/></a>"
      ]
    },
    {
      "cell_type": "markdown",
      "metadata": {
        "id": "Wv4AChYSkXcq"
      },
      "source": [
        "# Matrix Inversion\n",
        "\n",
        "The inverse of a matrix $A$ is a matrix $A^{-1}$ such that $A \\cdot A^{-1} = A^{-1} \\cdot A = I$, where $I$ is the identity matrix.\n",
        "\n",
        "**Example 1:**"
      ]
    },
    {
      "cell_type": "code",
      "execution_count": null,
      "metadata": {
        "id": "dmiAs1n3kXct",
        "outputId": "2e1a6b03-ae0e-49e0-c708-743ffa1fdc07"
      },
      "outputs": [
        {
          "data": {
            "text/latex": [
              "$\\displaystyle \\left[\\begin{matrix}2 & 1 & 2\\\\5 & 3 & 1\\\\1 & 1 & 5\\end{matrix}\\right]$"
            ],
            "text/plain": [
              "Matrix([\n",
              "[2, 1, 2],\n",
              "[5, 3, 1],\n",
              "[1, 1, 5]])"
            ]
          },
          "execution_count": 1,
          "metadata": {},
          "output_type": "execute_result"
        }
      ],
      "source": [
        "import sympy as sp # import sympy library\n",
        "k1 = sp.Matrix([[2, 1, 2], [5, 3, 1], [1, 1, 5]]) # create matrix k1\n",
        "k1"
      ]
    },
    {
      "cell_type": "code",
      "execution_count": null,
      "metadata": {
        "id": "Jc74qFvLkXcv",
        "outputId": "94c4b8ee-0d3d-4538-9f73-003dd8bdcf28"
      },
      "outputs": [
        {
          "data": {
            "text/latex": [
              "$\\displaystyle \\left[\\begin{matrix}\\frac{7}{4} & - \\frac{3}{8} & - \\frac{5}{8}\\\\-3 & 1 & 1\\\\\\frac{1}{4} & - \\frac{1}{8} & \\frac{1}{8}\\end{matrix}\\right]$"
            ],
            "text/plain": [
              "Matrix([\n",
              "[7/4, -3/8, -5/8],\n",
              "[ -3,    1,    1],\n",
              "[1/4, -1/8,  1/8]])"
            ]
          },
          "execution_count": 2,
          "metadata": {},
          "output_type": "execute_result"
        }
      ],
      "source": [
        "inverse_k1 = k1.inv() # calculate the inverse of matrix k1\n",
        "inverse_k1"
      ]
    },
    {
      "cell_type": "code",
      "execution_count": null,
      "metadata": {
        "id": "VjurlyJ9kXcw",
        "outputId": "0d8a2b1c-e061-4038-cbc2-52807aee0539"
      },
      "outputs": [
        {
          "data": {
            "text/latex": [
              "$\\displaystyle \\left[\\begin{matrix}1 & 0 & 0\\\\0 & 1 & 0\\\\0 & 0 & 1\\end{matrix}\\right]$"
            ],
            "text/plain": [
              "Matrix([\n",
              "[1, 0, 0],\n",
              "[0, 1, 0],\n",
              "[0, 0, 1]])"
            ]
          },
          "execution_count": 3,
          "metadata": {},
          "output_type": "execute_result"
        }
      ],
      "source": [
        "k1 * inverse_k1 # verify if multiplying the matrix by its inverse yields the identity matrix"
      ]
    },
    {
      "cell_type": "markdown",
      "metadata": {
        "id": "gF5ILyggkXcx"
      },
      "source": [
        "**Example 2:**"
      ]
    },
    {
      "cell_type": "code",
      "execution_count": null,
      "metadata": {
        "id": "tEDZFXGkkXcx",
        "outputId": "2f479384-47be-4794-8c61-b68e7facbe42"
      },
      "outputs": [
        {
          "data": {
            "text/latex": [
              "$\\displaystyle \\left[\\begin{matrix}\\frac{e i - f h}{a e i - a f h - b d i + b f g + c d h - c e g} & \\frac{- b i + c h}{a e i - a f h - b d i + b f g + c d h - c e g} & \\frac{b f - c e}{a e i - a f h - b d i + b f g + c d h - c e g}\\\\\\frac{- d i + f g}{a e i - a f h - b d i + b f g + c d h - c e g} & \\frac{a i - c g}{a e i - a f h - b d i + b f g + c d h - c e g} & \\frac{- a f + c d}{a e i - a f h - b d i + b f g + c d h - c e g}\\\\\\frac{d h - e g}{a e i - a f h - b d i + b f g + c d h - c e g} & \\frac{- a h + b g}{a e i - a f h - b d i + b f g + c d h - c e g} & \\frac{a e - b d}{a e i - a f h - b d i + b f g + c d h - c e g}\\end{matrix}\\right]$"
            ],
            "text/plain": [
              "Matrix([\n",
              "[ (e*i - f*h)/(a*e*i - a*f*h - b*d*i + b*f*g + c*d*h - c*e*g), (-b*i + c*h)/(a*e*i - a*f*h - b*d*i + b*f*g + c*d*h - c*e*g),  (b*f - c*e)/(a*e*i - a*f*h - b*d*i + b*f*g + c*d*h - c*e*g)],\n",
              "[(-d*i + f*g)/(a*e*i - a*f*h - b*d*i + b*f*g + c*d*h - c*e*g),  (a*i - c*g)/(a*e*i - a*f*h - b*d*i + b*f*g + c*d*h - c*e*g), (-a*f + c*d)/(a*e*i - a*f*h - b*d*i + b*f*g + c*d*h - c*e*g)],\n",
              "[ (d*h - e*g)/(a*e*i - a*f*h - b*d*i + b*f*g + c*d*h - c*e*g), (-a*h + b*g)/(a*e*i - a*f*h - b*d*i + b*f*g + c*d*h - c*e*g),  (a*e - b*d)/(a*e*i - a*f*h - b*d*i + b*f*g + c*d*h - c*e*g)]])"
            ]
          },
          "execution_count": 4,
          "metadata": {},
          "output_type": "execute_result"
        }
      ],
      "source": [
        "import sympy as sp\n",
        "a, b, c, d, e, f, g, h, i = sp.symbols('a b c d e f g h i') # define variables a-i\n",
        "k = sp.Matrix([[a, b, c], [d, e, f], [g, h, i]]) # create matrix k\n",
        "inverse_k = k.inv()\n",
        "inverse_k"
      ]
    },
    {
      "cell_type": "markdown",
      "metadata": {
        "id": "4HRqMJwqkXcx"
      },
      "source": [
        "This complex form results from the formula that allows for the calculation of the elements of the inverse matrix. Before we proceed, let's define a few concepts.\n",
        "\n",
        "**Matrix Transposition** is an operation that swaps rows with columns. The transpose of a matrix $A$ is a matrix $A^T$ such that $A^T_{ij} = A_{ji}$."
      ]
    },
    {
      "cell_type": "code",
      "execution_count": null,
      "metadata": {
        "id": "k9c8a4C_kXcy",
        "outputId": "5702e939-f3a4-4f43-87d5-9da54f164522"
      },
      "outputs": [
        {
          "data": {
            "text/latex": [
              "$\\displaystyle \\left[\\begin{matrix}a & b & c\\\\d & e & f\\\\g & h & i\\end{matrix}\\right]$"
            ],
            "text/plain": [
              "Matrix([\n",
              "[a, b, c],\n",
              "[d, e, f],\n",
              "[g, h, i]])"
            ]
          },
          "execution_count": 5,
          "metadata": {},
          "output_type": "execute_result"
        }
      ],
      "source": [
        "k"
      ]
    },
    {
      "cell_type": "code",
      "execution_count": null,
      "metadata": {
        "id": "cp74P2SQkXcy",
        "outputId": "4c676097-5aef-419a-fbc9-761a09d86854"
      },
      "outputs": [
        {
          "data": {
            "text/latex": [
              "$\\displaystyle \\left[\\begin{matrix}a & d & g\\\\b & e & h\\\\c & f & i\\end{matrix}\\right]$"
            ],
            "text/plain": [
              "Matrix([\n",
              "[a, d, g],\n",
              "[b, e, h],\n",
              "[c, f, i]])"
            ]
          },
          "execution_count": 6,
          "metadata": {},
          "output_type": "execute_result"
        }
      ],
      "source": [
        "k.transpose() # transpose matrix k"
      ]
    },
    {
      "cell_type": "markdown",
      "metadata": {
        "id": "ktmGDWylkXcy"
      },
      "source": [
        "**Minor** of a matrix $A$ is the determinant of the matrix obtained by removing the $i$-th row and $j$-th column. We denote it by $M_{ij}$."
      ]
    },
    {
      "cell_type": "code",
      "execution_count": null,
      "metadata": {
        "id": "bNqDJp-rkXcz",
        "outputId": "cf893ad2-542a-4bf9-f8f2-e9b234f3be66"
      },
      "outputs": [
        {
          "data": {
            "text/latex": [
              "$\\displaystyle \\left[\\begin{matrix}1 & 2 & 3\\\\4 & 5 & 6\\\\7 & 8 & 9\\end{matrix}\\right]$"
            ],
            "text/plain": [
              "Matrix([\n",
              "[1, 2, 3],\n",
              "[4, 5, 6],\n",
              "[7, 8, 9]])"
            ]
          },
          "execution_count": 7,
          "metadata": {},
          "output_type": "execute_result"
        }
      ],
      "source": [
        "# Minor of matrix $A$ is the determinant of the matrix obtained by removing the $i$-th row and $j$-th column. We denote it by $M_{ij}$.\n",
        "k2 = sp.Matrix([[1, 2, 3], [4, 5, 6], [7, 8, 9]])\n",
        "k2"
      ]
    },
    {
      "cell_type": "code",
      "execution_count": null,
      "metadata": {
        "id": "TYQQLF9AkXcz",
        "outputId": "e3e9c2c7-c323-4a83-fd82-8dd8c348dcd2"
      },
      "outputs": [
        {
          "data": {
            "text/latex": [
              "$\\displaystyle \\left[\\begin{matrix}4 & 6\\\\7 & 9\\end{matrix}\\right]$"
            ],
            "text/plain": [
              "Matrix([\n",
              "[4, 6],\n",
              "[7, 9]])"
            ]
          },
          "execution_count": 8,
          "metadata": {},
          "output_type": "execute_result"
        }
      ],
      "source": [
        "M01 = k2.minor_submatrix(0, 1) # calculate minor M01\n",
        "M01"
      ]
    },
    {
      "cell_type": "code",
      "execution_count": null,
      "metadata": {
        "id": "yxnDFUpGkXcz",
        "outputId": "345c9ebb-aa76-4a4c-f674-23f4ec49f2d1"
      },
      "outputs": [
        {
          "data": {
            "text/latex": [
              "$\\displaystyle \\left[\\begin{matrix}1 & 2\\\\4 & 5\\end{matrix}\\right]$"
            ],
            "text/plain": [
              "Matrix([\n",
              "[1, 2],\n",
              "[4, 5]])"
            ]
          },
          "execution_count": 9,
          "metadata": {},
          "output_type": "execute_result"
        }
      ],
      "source": [
        "M22 = k2.minor_submatrix(2, 2) # calculate minor M22\n",
        "M22"
      ]
    },
    {
      "cell_type": "markdown",
      "metadata": {
        "id": "P_U8d2b_kXc0"
      },
      "source": [
        "**Cofactor** of element $a_{ij} = (-1)^{i+j} \\, M_{ij}$, which is the minor multiplied by $(-1)^{i+j}$.\n",
        "\n",
        "**Rank of a Matrix** is the largest degree of a non-zero minor of the matrix. The rank of a matrix is equal to the number of linearly independent rows or columns in the matrix."
      ]
    },
    {
      "cell_type": "code",
      "execution_count": null,
      "metadata": {
        "id": "pKnowwTAkXc0",
        "outputId": "ca3c3550-03ac-463f-8e1d-63762a0e4e83"
      },
      "outputs": [
        {
          "data": {
            "text/plain": [
              "2"
            ]
          },
          "execution_count": 10,
          "metadata": {},
          "output_type": "execute_result"
        }
      ],
      "source": [
        "k2.rank() # calculate the rank of matrix k2"
      ]
    },
    {
      "cell_type": "markdown",
      "metadata": {
        "id": "HKjD96DxkXc0"
      },
      "source": [
        "### Inverse of a 3x3 Matrix\n",
        "\n",
        "Using the transpose of the cofactor matrix (minors):\n",
        "\n",
        "$$K^{-1} =\n",
        "\\begin{bmatrix}\n",
        "a & b & c \\\\\n",
        "d & e & f \\\\\n",
        "g & h & i\n",
        "\\end{bmatrix}^{-1}\n",
        "= \\frac{1}{\\det(\\mathbf{K})}\n",
        "\\begin{bmatrix}\n",
        "A & B & C \\\\\n",
        "D & E & F \\\\\n",
        "G & H & I\n",
        "\\end{bmatrix}^T\n",
        "= \\frac{1}{\\det(\\mathbf{A})}\n",
        "\\begin{bmatrix}\n",
        "A & D & G \\\\\n",
        "B & E & H \\\\\n",
        "C & F & I\n",
        "\\end{bmatrix}\n",
        "$$\n",
        "\n",
        "If the determinant is non-zero, the matrix is invertible, and the elements of the intermediate matrix on the right-hand side of the above formula are determined by:\n",
        "\n",
        "$$\n",
        "\\begin{aligned}\n",
        "A &= \\text{det} \\left( \\begin{bmatrix} e & f \\\\ h & i \\end{bmatrix} \\right) & B &= -\\text{det} \\left( \\begin{bmatrix} d & f \\\\ g & i \\end{bmatrix} \\right) & C &= \\text{det} \\left( \\begin{bmatrix} d & e \\\\ g & h \\end{bmatrix} \\right) \\\\\n",
        "D &= -\\text{det} \\left( \\begin{bmatrix} b & c \\\\ h & i \\end{bmatrix} \\right) & E &= \\text{det} \\left( \\begin{bmatrix} a & c \\\\ g & i \\end{bmatrix} \\right) & F &= -\\text{det} \\left( \\begin{bmatrix} a & b \\\\ g & h \\end{bmatrix} \\right) \\\\\n",
        "G &= \\text{det} \\left( \\begin{bmatrix} b & c \\\\ e & f \\end{bmatrix} \\right) & H &= -\\text{det} \\left( \\begin{bmatrix} a & c \\\\ d & f \\end{bmatrix} \\right) & I &= \\text{det} \\left( \\begin{bmatrix} a & b \\\\ d & e \\end{bmatrix} \\right)\n",
        "\\end{aligned}\n",
        "$$\n",
        "\n",
        "These are the determinants of 2x2 matrices formed by removing the appropriate rows and columns and taking into account the sign $(-1)^{i+j}$.\n",
        "\n",
        "### Inverse of a 2x2 Matrix\n",
        "\n",
        "Similarly, for a 2x2 matrix, the inverse can be calculated using the cofactor matrix:\n",
        "\n",
        "$$\n",
        "\\mathbf{L}^{-1} =\n",
        "\\begin{bmatrix}\n",
        "a & b \\\\\n",
        "c & d\n",
        "\\end{bmatrix}^{-1}\n",
        "= \\frac{1}{\\det(\\mathbf{L})}\n",
        "\\begin{bmatrix}\n",
        "D & C \\\\\n",
        "B & A\n",
        "\\end{bmatrix}^T\n",
        "= \\frac{1}{\\det(\\mathbf{L})}\n",
        "\\begin{bmatrix}\n",
        "D & B \\\\\n",
        "C & A\n",
        "\\end{bmatrix}\n",
        "$$\n",
        "\n",
        "where $\\det(\\mathbf{L}) = ad - bc$\n",
        "\n",
        "If the determinant is non-zero, the matrix is invertible, and the elements of the intermediate matrix are given as:\n",
        "\n",
        "$$\n",
        "\\begin{aligned}\n",
        "A &= \\text{det} \\begin{bmatrix} d \\end{bmatrix} = d, & B &= -\\text{det} \\begin{bmatrix} b \\end{bmatrix} = -b, & C &= -\\text{det} \\begin{bmatrix} c \\end{bmatrix} = -c, &\n",
        "D &= \\text{det} \\begin{bmatrix} a \\end{bmatrix} = a.\n",
        "\\end{aligned}\n",
        "$$\n",
        "\n",
        "These elements are determined by calculating the determinants of 1x1 matrices formed by removing the appropriate rows and columns from the original 2x2 matrix and applying the corresponding signs $(-1)^{i+j}$."
      ]
    },
    {
      "cell_type": "markdown",
      "metadata": {
        "id": "n4rItijgkXc1"
      },
      "source": [
        "---\n",
        "\n",
        "## Exercises for Students\n",
        "\n",
        "1. Find the inverse matrix for\n",
        "\n",
        "$$\n",
        "\\begin{bmatrix}\n",
        "2 & 0 & 1 \\\\\n",
        "0 & 1 & 0 \\\\\n",
        "1 & 2 & 0\n",
        "\\end{bmatrix}\n",
        "$$\n",
        "\n",
        "and verify if the result is correct.\n",
        "\n",
        "2. Using the `det()` command, determine the rank of the matrix below\n",
        "$$\n",
        "A =\n",
        "\\begin{bmatrix}\n",
        "4 & -3 & 7 \\\\\n",
        "-1 & 6 & 3 \\\\\n",
        "2 & 9 & 1\n",
        "\\end{bmatrix}\n",
        "$$"
      ]
    },
    {
      "cell_type": "markdown",
      "source": [
        "\n",
        "\n",
        "#### **1. Find the inverse of the matrix $ \\begin{bmatrix} 2 & 0 & 1 \\\\ 0 & 1 & 0 \\\\ 1 & 2 & 0 \\end{bmatrix} $ and verify the result.**\n",
        "\n",
        "Let $ M = \\begin{bmatrix} 2 & 0 & 1 \\\\ 0 & 1 & 0 \\\\ 1 & 2 & 0 \\end{bmatrix} $.\n",
        "\n",
        "The formula for the inverse is:\n",
        "$\n",
        "M^{-1} = \\frac{1}{\\det(M)} \\text{adj}(M),\n",
        "$\n",
        "where $ \\text{adj}(M) $ is the adjugate (transpose of the cofactor matrix), and $ \\det(M) $ is the determinant of $ M $.\n",
        "\n",
        "---\n",
        "\n",
        "#### **Step 1: Compute \\( \\det(M) \\):**\n",
        "Using cofactor expansion along the first row:\n",
        "\n",
        "$\n",
        "\\det(M) = 2 \\cdot \\det\\begin{bmatrix}\n",
        "1 & 0 \\\\\n",
        "2 & 0\n",
        "\\end{bmatrix}\n",
        "- 0 \\cdot \\det\\begin{bmatrix}\n",
        "0 & 0 \\\\\n",
        "1 & 0\n",
        "\\end{bmatrix}\n",
        "+ 1 \\cdot \\det\\begin{bmatrix}\n",
        "0 & 1 \\\\\n",
        "1 & 2\n",
        "\\end{bmatrix}.\n",
        "$\n",
        "\n",
        "- For \\( \\det\\begin{bmatrix} 1 & 0 \\\\ 2 & 0 \\end{bmatrix} \\):\n",
        "$\n",
        "\\det = (1)(0) - (0)(2) = 0.\n",
        "$\n",
        "\n",
        "- For \\( \\det\\begin{bmatrix} 0 & 1 \\\\ 1 & 2 \\end{bmatrix} \\):\n",
        "$\n",
        "\\det = (0)(2) - (1)(1) = -1.\n",
        "$\n",
        "\n",
        "Substitute back:\n",
        "$\n",
        "\\det(M) = 2(0) + 0 + 1(-1) = -1.\n",
        "$\n",
        "\n",
        "---\n",
        "\n",
        "#### **Step 2: Compute the cofactor matrix of \\( M \\):**\n",
        "\n",
        "The cofactor matrix is constructed element by element. Let \\( M = \\begin{bmatrix} m_{11} & m_{12} & m_{13} \\\\ m_{21} & m_{22} & m_{23} \\\\ m_{31} & m_{32} & m_{33} \\end{bmatrix} \\).\n",
        "\n",
        "##### Cofactor of \\( m_{11} = 2 \\):\n",
        "$\n",
        "C_{11} = \\det\\begin{bmatrix}\n",
        "1 & 0 \\\\\n",
        "2 & 0\n",
        "\\end{bmatrix} = 0.\n",
        "$\n",
        "\n",
        "##### Cofactor of \\( m_{12} = 0 \\):\n",
        "$\n",
        "C_{12} = -\\det\\begin{bmatrix}\n",
        "0 & 0 \\\\\n",
        "1 & 0\n",
        "\\end{bmatrix} = 0.\n",
        "$\n",
        "\n",
        "##### Cofactor of \\( m_{13} = 1 \\):\n",
        "$\n",
        "C_{13} = \\det\\begin{bmatrix}\n",
        "0 & 1 \\\\\n",
        "1 & 2\n",
        "\\end{bmatrix} = -1.\n",
        "$\n",
        "\n",
        "Repeat this process for all elements to get the cofactor matrix:\n",
        "$\n",
        "\\text{Cofactor matrix} = \\begin{bmatrix}\n",
        "0 & 0 & -1 \\\\\n",
        "2 & -2 & 0 \\\\\n",
        "-2 & 1 & 0\n",
        "\\end{bmatrix}.\n",
        "$\n",
        "\n",
        "---\n",
        "\n",
        "#### **Step 3: Adjugate of \\( M \\):**\n",
        "The adjugate is the transpose of the cofactor matrix:\n",
        "$\n",
        "\\text{adj}(M) = \\begin{bmatrix}\n",
        "0 & 2 & -2 \\\\\n",
        "0 & -2 & 1 \\\\\n",
        "-1 & 0 & 0\n",
        "\\end{bmatrix}.\n",
        "$\n",
        "\n",
        "---\n",
        "\n",
        "#### **Step 4: Compute \\( M^{-1} \\):**\n",
        "$\n",
        "M^{-1} = \\frac{1}{\\det(M)} \\text{adj}(M) = \\frac{1}{-1} \\begin{bmatrix}\n",
        "0 & 2 & -2 \\\\\n",
        "0 & -2 & 1 \\\\\n",
        "-1 & 0 & 0\n",
        "\\end{bmatrix}.\n",
        "$\n",
        "\n",
        "$\n",
        "M^{-1} = \\begin{bmatrix}\n",
        "0 & -2 & 2 \\\\\n",
        "0 & 2 & -1 \\\\\n",
        "1 & 0 & 0\n",
        "\\end{bmatrix}.\n",
        "$\n",
        "\n",
        "---\n",
        "\n",
        "#### **Verification: \\( M \\cdot M^{-1} = I \\):**\n",
        "\n",
        "Multiply \\( M \\) by \\( M^{-1} \\):\n",
        "$\n",
        "M \\cdot M^{-1} = \\begin{bmatrix}\n",
        "2 & 0 & 1 \\\\\n",
        "0 & 1 & 0 \\\\\n",
        "1 & 2 & 0\n",
        "\\end{bmatrix}\n",
        "\\cdot\n",
        "\\begin{bmatrix}\n",
        "0 & -2 & 2 \\\\\n",
        "0 & 2 & -1 \\\\\n",
        "1 & 0 & 0\n",
        "\\end{bmatrix}.\n",
        "$\n",
        "\n",
        "Perform the multiplication (you can confirm it step by step), and the result is the identity matrix:\n",
        "$\n",
        "I = \\begin{bmatrix}\n",
        "1 & 0 & 0 \\\\\n",
        "0 & 1 & 0 \\\\\n",
        "0 & 0 & 1\n",
        "\\end{bmatrix}.\n",
        "$\n",
        "\n",
        "Thus, the inverse is verified.\n",
        "\n",
        "---\n",
        "\n",
        "#### **2. Determine the rank of \\( A = \\begin{bmatrix} 4 & -3 & 7 \\\\ -1 & 6 & 3 \\\\ 2 & 9 & 1 \\end{bmatrix} \\):**\n",
        "\n",
        "To find the rank of \\( A \\), compute its determinant. If \\( \\det(A) \\neq 0 \\), the matrix is full rank (\\( \\text{rank} = 3 \\)).\n",
        "\n",
        "$\n",
        "\\det(A) = 4 \\cdot \\det\\begin{bmatrix}\n",
        "6 & 3 \\\\\n",
        "9 & 1\n",
        "\\end{bmatrix}\n",
        "- (-3) \\cdot \\det\\begin{bmatrix}\n",
        "-1 & 3 \\\\\n",
        "2 & 1\n",
        "\\end{bmatrix}\n",
        "+ 7 \\cdot \\det\\begin{bmatrix}\n",
        "-1 & 6 \\\\\n",
        "2 & 9\n",
        "\\end{bmatrix}.\n",
        "$\n",
        "\n",
        "---\n",
        "\n",
        "#### **Step 1: Compute minor determinants:**\n",
        "\n",
        "1. \\( \\det\\begin{bmatrix} 6 & 3 \\\\ 9 & 1 \\end{bmatrix} = (6)(1) - (3)(9) = 6 - 27 = -21. \\)\n",
        "\n",
        "2. \\( \\det\\begin{bmatrix} -1 & 3 \\\\ 2 & 1 \\end{bmatrix} = (-1)(1) - (3)(2) = -1 - 6 = -7. \\)\n",
        "\n",
        "3. \\( \\det\\begin{bmatrix} -1 & 6 \\\\ 2 & 9 \\end{bmatrix} = (-1)(9) - (6)(2) = -9 - 12 = -21. \\)\n",
        "\n",
        "---\n",
        "\n",
        "#### **Step 2: Substitute back:**\n",
        "$\n",
        "\\det(A) = 4(-21) - (-3)(-7) + 7(-21)\n",
        "$\n",
        "$\n",
        "\\det(A) = -84 - 21 - 147 = -252.\n",
        "$\n",
        "\n",
        "Since \\( \\det(A) \\neq 0 \\), the matrix \\( A \\) is full rank:\n",
        "$\n",
        "\\text{rank}(A) = 3.\n",
        "$\n",
        "\n",
        "---\n",
        "\n",
        "### Final Results:\n",
        "1. $ M^{-1} = \\begin{bmatrix} 0 & -2 & 2 \\\\ 0 & 2 & -1 \\\\ 1 & 0 & 0 \\end{bmatrix} $\n",
        "2. $ \\text{rank}(A) = 3 $"
      ],
      "metadata": {
        "id": "jlAo1_4Gkum0"
      }
    },
    {
      "cell_type": "code",
      "source": [
        "import sympy as sp\n",
        "\n",
        "M = sp.Matrix([[2, 0, 1], [0, 1, 2], [1, 0, 0]])"
      ],
      "metadata": {
        "id": "vWbzeWz8lVTr"
      },
      "execution_count": null,
      "outputs": []
    },
    {
      "cell_type": "code",
      "source": [
        "import sympy as sp\n",
        "\n",
        "A = sp.Matrix([[4, -3, 7], [-1, 6, 3], [2, 9, 1]])"
      ],
      "metadata": {
        "id": "qdhVPXhNlyDX"
      },
      "execution_count": null,
      "outputs": []
    }
  ],
  "metadata": {
    "kernelspec": {
      "display_name": "Python 3",
      "language": "python",
      "name": "python3"
    },
    "language_info": {
      "codemirror_mode": {
        "name": "ipython",
        "version": 3
      },
      "file_extension": ".py",
      "mimetype": "text/x-python",
      "name": "python",
      "nbconvert_exporter": "python",
      "pygments_lexer": "ipython3",
      "version": "3.11.9"
    },
    "colab": {
      "provenance": [],
      "include_colab_link": true
    }
  },
  "nbformat": 4,
  "nbformat_minor": 0
}