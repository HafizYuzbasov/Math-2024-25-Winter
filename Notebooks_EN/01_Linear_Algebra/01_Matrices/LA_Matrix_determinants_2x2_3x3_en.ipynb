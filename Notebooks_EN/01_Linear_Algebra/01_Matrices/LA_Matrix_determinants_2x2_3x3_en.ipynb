{
  "cells": [
    {
      "cell_type": "markdown",
      "metadata": {
        "id": "view-in-github",
        "colab_type": "text"
      },
      "source": [
        "<a href=\"https://colab.research.google.com/github/HafizYuzbasov/Math-2024-25-Winter/blob/main/Notebooks_EN/01_Linear_Algebra/01_Matrices/LA_Matrix_determinants_2x2_3x3_en.ipynb\" target=\"_parent\"><img src=\"https://colab.research.google.com/assets/colab-badge.svg\" alt=\"Open In Colab\"/></a>"
      ]
    },
    {
      "cell_type": "markdown",
      "metadata": {
        "id": "uwkIDWFehiLy"
      },
      "source": [
        "# Determinants of 2x2 and 3x3 matrices\n",
        "\n",
        "### Determinant of a 2x2 Matrix\n",
        "\n",
        "The general formula for the determinant of a 2x2 matrix, where the matrix looks as follows:\n",
        "\n",
        "$$\n",
        "\\mathbf{A} =\n",
        "\\begin{pmatrix}\n",
        "a_{11} & a_{12} \\\\\n",
        "a_{21} & a_{22}\n",
        "\\end{pmatrix}\n",
        "$$\n",
        "\n",
        "The determinant of a 2x2 matrix is calculated using the formula:\n",
        "\n",
        "$$\n",
        "\\text{det}(A) = a_{11} \\cdot a_{22} - a_{12} \\cdot a_{21}\n",
        "$$\n",
        "\n",
        "### Determinant of a 3x3 Matrix\n",
        "\n",
        "The general formula for the determinant of a 3x3 matrix, where the matrix looks as follows:\n",
        "\n",
        "$$\n",
        "\\mathbf{B} =\n",
        "\\begin{pmatrix}\n",
        "a_{11} & a_{12} & a_{13} \\\\\n",
        "a_{21} & a_{22} & a_{23} \\\\\n",
        "a_{31} & a_{32} & a_{33}\n",
        "\\end{pmatrix}\n",
        "$$\n",
        "\n",
        "The determinant of a 3x3 matrix can be calculated using Sarrus' rule or Laplace expansion. Here, we will use Sarrus' rule:\n",
        "\n",
        "$$\n",
        "\\text{det}(B) = a_{11} \\cdot a_{22} \\cdot a_{33} + a_{12} \\cdot a_{23} \\cdot a_{31} + a_{13} \\cdot a_{21} \\cdot a_{32}\n",
        "- a_{13} \\cdot a_{22} \\cdot a_{31} - a_{12} \\cdot a_{21} \\cdot a_{33} - a_{11} \\cdot a_{23} \\cdot a_{32}\n",
        "$$\n",
        "\n",
        "<img src=\"https://upload.wikimedia.org/wikipedia/commons/c/c0/Sarrus_rule1.svg\" alt=\"Image description\" width=\"300\" align=\"center\"/>\n",
        "\n",
        "Note: Sarrus' rule does not work for matrices larger than 3x3.\n",
        "\n",
        "### Calculating Determinants in Python using SymPy\n",
        "\n",
        "Now, using the SymPy library, we will calculate the determinants for 2x2 and 3x3 matrices."
      ]
    },
    {
      "cell_type": "code",
      "execution_count": null,
      "metadata": {
        "id": "ssDBSndJhiL2",
        "outputId": "97dcfb95-7e4b-419d-db3e-f9a95ef2aeab"
      },
      "outputs": [
        {
          "data": {
            "text/latex": [
              "$\\displaystyle \\left[\\begin{matrix}2 & 3\\\\1 & 4\\end{matrix}\\right]$"
            ],
            "text/plain": [
              "Matrix([\n",
              "[2, 3],\n",
              "[1, 4]])"
            ]
          },
          "execution_count": 1,
          "metadata": {},
          "output_type": "execute_result"
        }
      ],
      "source": [
        "import sympy as sp\n",
        "\n",
        "# Define the matrix\n",
        "A = sp.Matrix([[2, 3], [1, 4]])\n",
        "A # display the matrix"
      ]
    },
    {
      "cell_type": "code",
      "execution_count": null,
      "metadata": {
        "notebookRunGroups": {
          "groupValue": "2"
        },
        "id": "92R1s-aBhiL5",
        "outputId": "f5520bee-a87c-4d65-e41b-b7875abf1991"
      },
      "outputs": [
        {
          "data": {
            "text/plain": [
              "True"
            ]
          },
          "execution_count": 2,
          "metadata": {},
          "output_type": "execute_result"
        }
      ],
      "source": [
        "# Verify the correctness of the calculations\n",
        "(2*4 - 3*1) == A.det()"
      ]
    },
    {
      "cell_type": "code",
      "execution_count": null,
      "metadata": {
        "id": "v76b9iZThiL5",
        "outputId": "940a6860-a25f-4372-b631-938acc68b1c0"
      },
      "outputs": [
        {
          "data": {
            "text/latex": [
              "$\\displaystyle \\left[\\begin{matrix}2 & 3 & 1\\\\1 & 4 & 5\\\\3 & 2 & 1\\end{matrix}\\right]$"
            ],
            "text/plain": [
              "Matrix([\n",
              "[2, 3, 1],\n",
              "[1, 4, 5],\n",
              "[3, 2, 1]])"
            ]
          },
          "execution_count": 3,
          "metadata": {},
          "output_type": "execute_result"
        }
      ],
      "source": [
        "# 3x3 Matrix\n",
        "B = sp.Matrix([[2, 3, 1], [1, 4, 5], [3, 2, 1]])\n",
        "B"
      ]
    },
    {
      "cell_type": "code",
      "execution_count": null,
      "metadata": {
        "id": "twkaU621hiL6",
        "outputId": "bf92cbcb-aa20-41a7-a3fc-a67b8daddd28"
      },
      "outputs": [
        {
          "data": {
            "text/plain": [
              "True"
            ]
          },
          "execution_count": 4,
          "metadata": {},
          "output_type": "execute_result"
        }
      ],
      "source": [
        "# Verify the correctness of the calculations\n",
        "(2*4*1 + 3*5*3 + 1*1*2 - 1*4*3 - 5*2*2 - 3*1*1) == B.det()"
      ]
    },
    {
      "cell_type": "markdown",
      "metadata": {
        "id": "V0u-gk_6hiL6"
      },
      "source": [
        "---\n",
        "\n",
        "## Exercises for Students\n",
        "\n",
        "Calculate the determinants for the 2x2 and 3x3 matrices given below.\n",
        "\n",
        "1. 2x2 Matrices:\n",
        "\n",
        "$$\n",
        "\\mathbf{A} =\n",
        "\\begin{pmatrix}\n",
        "2 & 3 \\\\\n",
        "1 & 4\n",
        "\\end{pmatrix}\n",
        ", \\qquad\n",
        "\\mathbf{B} =\n",
        "\\begin{pmatrix}\n",
        "5 & 6 \\\\\n",
        "7 & 8\n",
        "\\end{pmatrix}\n",
        ", \\qquad\n",
        "\\mathbf{C} =\n",
        "\\begin{pmatrix}\n",
        "-1 & 2 \\\\\n",
        "3 & 0\n",
        "\\end{pmatrix}\n",
        "$$\n",
        "\n",
        "2. 3x3 Matrices:\n",
        "\n",
        "\n",
        "$$\n",
        "\\mathbf{D} =\n",
        "\\begin{pmatrix}\n",
        "1 & 0 & 2 \\\\\n",
        "-1 & 3 & 1 \\\\\n",
        "2 & 4 & -2\n",
        "\\end{pmatrix}\n",
        ", \\qquad\n",
        "\\mathbf{E} =\n",
        "\\begin{pmatrix}\n",
        "3 & 1 & -1 \\\\\n",
        "0 & 2 & 4 \\\\\n",
        "5 & 3 & 2\n",
        "\\end{pmatrix}\n",
        ", \\qquad\n",
        "\\mathbf{F} =\n",
        "\\begin{pmatrix}\n",
        "2 & -3 & 1 \\\\\n",
        "1 & 4 & -2 \\\\\n",
        "1 & 5 & 3\n",
        "\\end{pmatrix}\n",
        "$$"
      ]
    },
    {
      "cell_type": "markdown",
      "source": [
        "### Matrix A\n",
        "\n",
        "$\n",
        "A = \\begin{pmatrix} 2 & 1 \\\\ 3 & 4 \\end{pmatrix}\n",
        "$\n",
        "\n",
        "The determinant of a \\(2 \\times 2\\) matrix is calculated using the formula:\n",
        "\n",
        "$\n",
        "\\text{det}(A) = ad - bc\n",
        "$\n",
        "\n",
        "Where \\( a = 2 \\), \\( b = 1 \\), \\( c = 3 \\), \\( d = 4 \\).\n",
        "\n",
        "Calculating:\n",
        "\n",
        "$\n",
        "\\text{det}(A) = (2)(4) - (1)(3) = 8 - 3 = 5\n",
        "$\n",
        "\n",
        "### Matrix B\n",
        "\n",
        "$\n",
        "B = \\begin{pmatrix} 5 & 7 \\\\ 6 & 8 \\end{pmatrix}\n",
        "$\n",
        "\n",
        "Using the same formula:\n",
        "\n",
        "$\n",
        "\\text{det}(B) = ad - bc\n",
        "$\n",
        "\n",
        "Where \\( a = 5 \\), \\( b = 7 \\), \\( c = 6 \\), \\( d = 8 \\).\n",
        "\n",
        "Calculating:\n",
        "\n",
        "$\n",
        "\\text{det}(B) = (5)(8) - (7)(6) = 40 - 42 = -2\n",
        "$\n",
        "\n",
        "### Matrix C\n",
        "\n",
        "$\n",
        "C = \\begin{pmatrix} -1 & 3 \\\\ 2 & 0 \\end{pmatrix}\n",
        "$\n",
        "\n",
        "Again, using the same formula:\n",
        "\n",
        "$\n",
        "\\text{det}(C) = ad - bc\n",
        "$\n",
        "\n",
        "Where \\( a = -1 \\), \\( b = 3 \\), \\( c = 2 \\), \\( d = 0 \\).\n",
        "\n",
        "Calculating:\n",
        "\n",
        "$\n",
        "\\text{det}(C) = (-1)(0) - (3)(2) = 0 - 6 = -6\n",
        "$\n",
        "\n",
        "### Summary of Results\n",
        "\n",
        "1. $ \\text{det}(A) = 5 $\n",
        "2. $ \\text{det}(B) = -2 $\n",
        "3. $ \\text{det}(C) = -6 $"
      ],
      "metadata": {
        "id": "3K3yxq0oh43f"
      }
    },
    {
      "cell_type": "code",
      "source": [
        "import sympy as sp\n",
        "\n",
        "# Define the matrices\n",
        "A = sp.Matrix([[2, 1], [3, 4]])\n",
        "B = sp.Matrix([[5, 7], [6, 8]])\n",
        "C = sp.Matrix([[-1, 3], [2, 0]])\n",
        "\n",
        "# Calculate the determinants\n",
        "det_A = A.det()\n",
        "det_B = B.det()\n",
        "det_C = C.det()\n",
        "\n",
        "# Print the determinants\n",
        "print(\"Determinant of A:\", det_A)\n",
        "print(\"Determinant of B:\", det_B)\n",
        "print(\"Determinant of C:\", det_C)"
      ],
      "metadata": {
        "id": "OLntZtqRh83y",
        "outputId": "50ca9fbf-8d7c-4cfc-fe30-2420a119649a",
        "colab": {
          "base_uri": "https://localhost:8080/"
        }
      },
      "execution_count": 2,
      "outputs": [
        {
          "output_type": "stream",
          "name": "stdout",
          "text": [
            "Determinant of A: 5\n",
            "Determinant of B: -2\n",
            "Determinant of C: -6\n"
          ]
        }
      ]
    },
    {
      "cell_type": "markdown",
      "source": [
        "\n",
        "\n",
        "---\n",
        "\n",
        "### **Matrix $ D = \\begin{bmatrix} 1 & 0 & 2 \\\\ -1 & 3 & 1 \\\\ 2 & 4 & -2 \\end{bmatrix} $:**\n",
        "\n",
        "Using the cofactor expansion along the first row:\n",
        "\n",
        "$\n",
        "\\text{det}(D) = 1 \\cdot \\text{det}\\begin{bmatrix}\n",
        "3 & 1 \\\\\n",
        "4 & -2\n",
        "\\end{bmatrix}\n",
        "- 0 \\cdot \\text{det}\\begin{bmatrix}\n",
        "-1 & 1 \\\\\n",
        "2 & -2\n",
        "\\end{bmatrix}\n",
        "+ 2 \\cdot \\text{det}\\begin{bmatrix}\n",
        "-1 & 3 \\\\\n",
        "2 & 4\n",
        "\\end{bmatrix}\n",
        "$\n",
        "\n",
        "---\n",
        "\n",
        "#### **Step 1: Compute \\( \\text{det}\\begin{bmatrix} 3 & 1 \\\\ 4 & -2 \\end{bmatrix} \\):**\n",
        "$\n",
        "\\text{det} = (3)(-2) - (1)(4) = -6 - 4 = -10\n",
        "$\n",
        "\n",
        "#### **Step 2: Compute \\( \\text{det}\\begin{bmatrix} -1 & 3 \\\\ 2 & 4 \\end{bmatrix} \\):**\n",
        "$\n",
        "\\text{det} = (-1)(4) - (3)(2) = -4 - 6 = -10\n",
        "$\n",
        "\n",
        "---\n",
        "\n",
        "### Substitute back into \\( \\text{det}(D) \\):\n",
        "$\n",
        "\\text{det}(D) = 1 \\cdot (-10) - 0 + 2 \\cdot (-10)\n",
        "$\n",
        "$\n",
        "\\text{det}(D) = -10 - 20 = -30\n",
        "$\n",
        "\n",
        "---\n",
        "\n",
        "### **Matrix \\( E = \\begin{bmatrix} 3 & 1 & -1 \\\\ 0 & 2 & 4 \\\\ 5 & 3 & 2 \\end{bmatrix} \\):**\n",
        "\n",
        "Using the cofactor expansion along the first row:\n",
        "\n",
        "$\n",
        "\\text{det}(E) = 3 \\cdot \\text{det}\\begin{bmatrix}\n",
        "2 & 4 \\\\\n",
        "3 & 2\n",
        "\\end{bmatrix}\n",
        "- 1 \\cdot \\text{det}\\begin{bmatrix}\n",
        "0 & 4 \\\\\n",
        "5 & 2\n",
        "\\end{bmatrix}\n",
        "+ (-1) \\cdot \\text{det}\\begin{bmatrix}\n",
        "0 & 2 \\\\\n",
        "5 & 3\n",
        "\\end{bmatrix}\n",
        "\\]\n",
        "\n",
        "---\n",
        "\n",
        "#### **Step 1: Compute \\( \\text{det}\\begin{bmatrix} 2 & 4 \\\\ 3 & 2 \\end{bmatrix} \\):**\n",
        "$\n",
        "\\text{det} = (2)(2) - (4)(3) = 4 - 12 = -8\n",
        "$\n",
        "\n",
        "#### **Step 2: Compute \\( \\text{det}\\begin{bmatrix} 0 & 4 \\\\ 5 & 2 \\end{bmatrix} \\):**\n",
        "$\n",
        "\\text{det} = (0)(2) - (4)(5) = 0 - 20 = -20\n",
        "$\n",
        "\n",
        "#### **Step 3: Compute \\( \\text{det}\\begin{bmatrix} 0 & 2 \\\\ 5 & 3 \\end{bmatrix} \\):**\n",
        "$\n",
        "\\text{det} = (0)(3) - (2)(5) = 0 - 10 = -10\n",
        "$\n",
        "\n",
        "---\n",
        "\n",
        "### Substitute back into \\( \\text{det}(E) \\):\n",
        "$\n",
        "\\text{det}(E) = 3 \\cdot (-8) - 1 \\cdot (-20) + (-1) \\cdot (-10)\n",
        "$\n",
        "$\n",
        "\\text{det}(E) = -24 + 20 + 10\n",
        "$\n",
        "$\n",
        "\\text{det}(E) = 6\n",
        "$\n",
        "\n",
        "---\n",
        "\n",
        "### **Matrix \\( F = \\begin{bmatrix} 2 & -3 & 1 \\\\ 1 & 4 & -2 \\\\ 1 & 5 & 3 \\end{bmatrix} \\):**\n",
        "\n",
        "Using the cofactor expansion along the first row:\n",
        "\n",
        "$\n",
        "\\text{det}(F) = 2 \\cdot \\text{det}\\begin{bmatrix}\n",
        "4 & -2 \\\\\n",
        "5 & 3\n",
        "\\end{bmatrix}\n",
        "- (-3) \\cdot \\text{det}\\begin{bmatrix}\n",
        "1 & -2 \\\\\n",
        "1 & 3\n",
        "\\end{bmatrix}\n",
        "+ 1 \\cdot \\text{det}\\begin{bmatrix}\n",
        "1 & 4 \\\\\n",
        "1 & 5\n",
        "\\end{bmatrix}\n",
        "$\n",
        "\n",
        "---\n",
        "\n",
        "#### **Step 1: Compute \\( \\text{det}\\begin{bmatrix} 4 & -2 \\\\ 5 & 3 \\end{bmatrix} \\):**\n",
        "$\n",
        "\\text{det} = (4)(3) - (-2)(5) = 12 + 10 = 22\n",
        "$\n",
        "\n",
        "#### **Step 2: Compute \\( \\text{det}\\begin{bmatrix} 1 & -2 \\\\ 1 & 3 \\end{bmatrix} \\):**\n",
        "$\n",
        "\\text{det} = (1)(3) - (-2)(1) = 3 + 2 = 5\n",
        "\\]\n",
        "\n",
        "#### **Step 3: Compute \\( \\text{det}\\begin{bmatrix} 1 & 4 \\\\ 1 & 5 \\end{bmatrix} \\):**\n",
        "$\n",
        "\\text{det} = (1)(5) - (4)(1) = 5 - 4 = 1\n",
        "$\n",
        "\n",
        "---\n",
        "\n",
        "### Substitute back into \\( \\text{det}(F) \\):\n",
        "$\n",
        "\\text{det}(F) = 2 \\cdot 22 - (-3) \\cdot 5 + 1 \\cdot 1\n",
        "$\n",
        "$\n",
        "\\text{det}(F) = 44 + 15 + 1\n",
        "$\n",
        "$\n",
        "\\text{det}(F) = 60\n",
        "$\n",
        "\n",
        "---\n",
        "\n",
        "### Final Results:\n",
        "$\n",
        "\\text{det}(D) = -30, \\quad \\text{det}(E) = 6, \\quad \\text{det}(F) = 60\n",
        "$"
      ],
      "metadata": {
        "id": "_IFdXFt7iRpZ"
      }
    },
    {
      "cell_type": "code",
      "source": [
        "import sympy as sp\n",
        "\n",
        "# Define the matrices\n",
        "A = sp.Matrix([[2, 1], [3, 4]])\n",
        "B = sp.Matrix([[5, 7], [6, 8]])\n",
        "C = sp.Matrix([[-1, 3], [2, 0]])\n",
        "\n",
        "# Calculate the determinants\n",
        "det_A = A.det()\n",
        "det_B = B.det()\n",
        "det_C = C.det()\n",
        "\n",
        "# Print the determinants\n",
        "print(\"Determinant of A:\", det_A)\n",
        "print(\"Determinant of B:\", det_B)\n",
        "print(\"Determinant of C:\", det_C)"
      ],
      "metadata": {
        "id": "J6p7Qcz_i0uA",
        "outputId": "3754c5d1-5ce4-4410-c400-89b13d4e1478",
        "colab": {
          "base_uri": "https://localhost:8080/"
        }
      },
      "execution_count": 3,
      "outputs": [
        {
          "output_type": "stream",
          "name": "stdout",
          "text": [
            "Determinant of A: 5\n",
            "Determinant of B: -2\n",
            "Determinant of C: -6\n"
          ]
        }
      ]
    }
  ],
  "metadata": {
    "kernelspec": {
      "display_name": "Python 3",
      "language": "python",
      "name": "python3"
    },
    "language_info": {
      "codemirror_mode": {
        "name": "ipython",
        "version": 3
      },
      "file_extension": ".py",
      "mimetype": "text/x-python",
      "name": "python",
      "nbconvert_exporter": "python",
      "pygments_lexer": "ipython3",
      "version": "3.11.9"
    },
    "colab": {
      "provenance": [],
      "include_colab_link": true
    }
  },
  "nbformat": 4,
  "nbformat_minor": 0
}