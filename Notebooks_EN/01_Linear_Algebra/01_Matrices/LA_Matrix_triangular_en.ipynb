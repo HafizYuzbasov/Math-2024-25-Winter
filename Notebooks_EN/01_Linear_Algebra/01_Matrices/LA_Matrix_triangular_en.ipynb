{
  "cells": [
    {
      "cell_type": "markdown",
      "metadata": {
        "id": "view-in-github",
        "colab_type": "text"
      },
      "source": [
        "<a href=\"https://colab.research.google.com/github/HafizYuzbasov/Math-2024-25-Winter/blob/main/Notebooks_EN/01_Linear_Algebra/01_Matrices/LA_Matrix_triangular_en.ipynb\" target=\"_parent\"><img src=\"https://colab.research.google.com/assets/colab-badge.svg\" alt=\"Open In Colab\"/></a>"
      ]
    },
    {
      "cell_type": "markdown",
      "metadata": {
        "id": "itoKFI_CnyN-"
      },
      "source": [
        "# Triangular Matrices and determinant calculation"
      ]
    },
    {
      "cell_type": "code",
      "execution_count": null,
      "metadata": {
        "id": "UnIvQgdpnyOB",
        "outputId": "edb9b7a9-ecaa-4be7-b2a5-6abecfe11cf6"
      },
      "outputs": [
        {
          "data": {
            "text/markdown": [
              "**Initial Matrix:**"
            ],
            "text/plain": [
              "<IPython.core.display.Markdown object>"
            ]
          },
          "metadata": {},
          "output_type": "display_data"
        },
        {
          "data": {
            "text/latex": [
              "$\\displaystyle \\left[\\begin{matrix}1 & 2 & 3\\\\2 & 5 & 3\\\\3 & 2 & 1\\end{matrix}\\right]$"
            ],
            "text/plain": [
              "Matrix([\n",
              "[1, 2, 3],\n",
              "[2, 5, 3],\n",
              "[3, 2, 1]])"
            ]
          },
          "metadata": {},
          "output_type": "display_data"
        }
      ],
      "source": [
        "import sympy as sp\n",
        "from sympy import Matrix, symbols, Rational\n",
        "from IPython.display import display, Markdown\n",
        "\n",
        "class SymbolicMatrix:\n",
        "    def __init__(self, matrix):\n",
        "        self.matrix = Matrix(matrix).applyfunc(Rational)\n",
        "        self.operations = []\n",
        "        display(Markdown(\"**Initial Matrix:**\"))\n",
        "        display(self.matrix)  # Display the matrix upon initialization\n",
        "\n",
        "    def __repr__(self):\n",
        "        return repr(self.matrix)  # Use Matrix's repr\n",
        "\n",
        "    def __str__(self):\n",
        "        return str(self.matrix)  # Use Matrix's str\n",
        "\n",
        "    def _repr_latex_(self):\n",
        "        return self.matrix._repr_latex_()  # Delegate LaTeX display\n",
        "\n",
        "    def _validate_row_number(self, row):\n",
        "        if not isinstance(row, int):\n",
        "            raise TypeError(\"Row number must be an integer.\")\n",
        "        if row < 1 or row > self.matrix.rows:\n",
        "            raise IndexError(f\"Row number must be in the range from 1 to {self.matrix.rows}.\")\n",
        "        return row - 1\n",
        "\n",
        "    def _validate_col_number(self, col):\n",
        "        if not isinstance(col, int):\n",
        "            raise TypeError(\"Column number must be an integer.\")\n",
        "        if col < 1 or col > self.matrix.cols:\n",
        "            raise IndexError(f\"Column number must be in the range from 1 to {self.matrix.cols}.\")\n",
        "        return col - 1\n",
        "\n",
        "    # Row operations\n",
        "    def add_row(self, target_row, source_row, coefficient):\n",
        "        target_idx = self._validate_row_number(target_row)\n",
        "        source_idx = self._validate_row_number(source_row)\n",
        "        coefficient = Rational(coefficient)\n",
        "\n",
        "        self.matrix.row_op(target_idx, lambda v, j: v + coefficient * self.matrix[source_idx, j])\n",
        "        operation_str = f\"r{target_row} = r{target_row} + {coefficient}*r{source_row}\"\n",
        "        self.operations.append(operation_str)\n",
        "        display(Markdown(f\"**Operation:** {operation_str}\"))\n",
        "        display(self.matrix)\n",
        "\n",
        "    def multiply_row(self, row, coefficient):\n",
        "        row_idx = self._validate_row_number(row)\n",
        "        coefficient = Rational(coefficient)\n",
        "        self.matrix.row_op(row_idx, lambda v, _: coefficient * v)\n",
        "        operation_str = f\"r{row} = {coefficient}*r{row}\"\n",
        "        self.operations.append(operation_str)\n",
        "        display(Markdown(f\"**Operation:** {operation_str}\"))\n",
        "        display(self.matrix)\n",
        "\n",
        "    def swap_rows(self, row1, row2):\n",
        "        row1_idx = self._validate_row_number(row1)\n",
        "        row2_idx = self._validate_row_number(row2)\n",
        "        self.matrix.row_swap(row1_idx, row2_idx)\n",
        "        operation_str = f\"Swap r{row1} <-> r{row2}\"\n",
        "        self.operations.append(operation_str)\n",
        "        display(Markdown(f\"**Operation:** {operation_str}\"))\n",
        "        display(self.matrix)\n",
        "\n",
        "    # Column operations\n",
        "    def add_col(self, target_col, source_col, coefficient):\n",
        "        target_idx = self._validate_col_number(target_col)\n",
        "        source_idx = self._validate_col_number(source_col)\n",
        "        self.matrix.col_op(target_idx, lambda v, i: v + coefficient * self.matrix[i, source_idx])\n",
        "        operation_str = f\"c{target_col} = c{target_col} + {coefficient}*c{source_col}\"\n",
        "        self.operations.append(operation_str)\n",
        "        display(Markdown(f\"**Operation:** {operation_str}\"))\n",
        "        display(self.matrix)\n",
        "\n",
        "    def multiply_col(self, col, coefficient):\n",
        "        col_idx = self._validate_col_number(col)\n",
        "        self.matrix.col_op(col_idx, lambda v, _: coefficient * v)\n",
        "        operation_str = f\"c{col} = {coefficient}*c{col}\"\n",
        "        self.operations.append(operation_str)\n",
        "        display(Markdown(f\"**Operation:** {operation_str}\"))\n",
        "        display(self.matrix)\n",
        "\n",
        "    def swap_cols(self, col1, col2):\n",
        "        col1_idx = self._validate_col_number(col1)\n",
        "        col2_idx = self._validate_col_number(col2)\n",
        "        self.matrix.col_swap(col1_idx, col2_idx)\n",
        "        operation_str = f\"Swap c{col1} <-> c{col2}\"\n",
        "        self.operations.append(operation_str)\n",
        "        display(Markdown(f\"**Operation:** {operation_str}\"))\n",
        "        display(self.matrix)\n",
        "\n",
        "    # Display the operations performed\n",
        "    def print_operations(self):\n",
        "        display(Markdown(\"**Performed Operations:**\"))\n",
        "        for op in self.operations:\n",
        "            print(op)\n",
        "\n",
        "# Example usage\n",
        "mat = [[1, 2, 3], [2, 5, 3], [3, 2, 1]]\n",
        "\n",
        "m = SymbolicMatrix(mat) # instance of SymbolicMatrix class\n",
        "\n",
        "# define the same matrix for computation check\n",
        "original_matrix = sp.Matrix(mat)"
      ]
    },
    {
      "cell_type": "code",
      "execution_count": null,
      "metadata": {
        "id": "cz3xQ9LvnyOF",
        "outputId": "22f1a723-a346-4367-f123-b589fc269776"
      },
      "outputs": [
        {
          "data": {
            "text/markdown": [
              "**Operation:** r2 = r2 + -2*r1"
            ],
            "text/plain": [
              "<IPython.core.display.Markdown object>"
            ]
          },
          "metadata": {},
          "output_type": "display_data"
        },
        {
          "data": {
            "text/latex": [
              "$\\displaystyle \\left[\\begin{matrix}1 & 2 & 3\\\\0 & 1 & -3\\\\3 & 2 & 1\\end{matrix}\\right]$"
            ],
            "text/plain": [
              "Matrix([\n",
              "[1, 2,  3],\n",
              "[0, 1, -3],\n",
              "[3, 2,  1]])"
            ]
          },
          "metadata": {},
          "output_type": "display_data"
        }
      ],
      "source": [
        "m.add_row(2, 1, -2)"
      ]
    },
    {
      "cell_type": "code",
      "execution_count": null,
      "metadata": {
        "id": "HkBz-781nyOG",
        "outputId": "2851510f-214c-47b1-af8d-1808b5dcd2d2"
      },
      "outputs": [
        {
          "data": {
            "text/markdown": [
              "**Operation:** r3 = r3 + -3*r1"
            ],
            "text/plain": [
              "<IPython.core.display.Markdown object>"
            ]
          },
          "metadata": {},
          "output_type": "display_data"
        },
        {
          "data": {
            "text/latex": [
              "$\\displaystyle \\left[\\begin{matrix}1 & 2 & 3\\\\0 & 1 & -3\\\\0 & -4 & -8\\end{matrix}\\right]$"
            ],
            "text/plain": [
              "Matrix([\n",
              "[1,  2,  3],\n",
              "[0,  1, -3],\n",
              "[0, -4, -8]])"
            ]
          },
          "metadata": {},
          "output_type": "display_data"
        }
      ],
      "source": [
        "m.add_row(3, 1, -3)"
      ]
    },
    {
      "cell_type": "code",
      "execution_count": null,
      "metadata": {
        "id": "7LzFM_z8nyOG",
        "outputId": "7793540c-3e79-451b-d287-5919d0e9f802"
      },
      "outputs": [
        {
          "data": {
            "text/markdown": [
              "**Operation:** r3 = r3 + 4*r2"
            ],
            "text/plain": [
              "<IPython.core.display.Markdown object>"
            ]
          },
          "metadata": {},
          "output_type": "display_data"
        },
        {
          "data": {
            "text/latex": [
              "$\\displaystyle \\left[\\begin{matrix}1 & 2 & 3\\\\0 & 1 & -3\\\\0 & 0 & -20\\end{matrix}\\right]$"
            ],
            "text/plain": [
              "Matrix([\n",
              "[1, 2,   3],\n",
              "[0, 1,  -3],\n",
              "[0, 0, -20]])"
            ]
          },
          "metadata": {},
          "output_type": "display_data"
        }
      ],
      "source": [
        "m.add_row(3, 2, 4)"
      ]
    },
    {
      "cell_type": "markdown",
      "metadata": {
        "id": "vi84AieWnyOH"
      },
      "source": [
        "The resulting matrix is an upper triangular matrix.\n",
        "\n",
        "### Determinant of a Triangular Matrix\n",
        "\n",
        "For a triangular matrix, the determinant is equal to the product of the elements on its diagonal."
      ]
    },
    {
      "cell_type": "code",
      "execution_count": null,
      "metadata": {
        "id": "KyQCrSOTnyOH",
        "outputId": "d09c5beb-4462-49f2-d3c5-c096f9b5c921"
      },
      "outputs": [
        {
          "data": {
            "text/plain": [
              "True"
            ]
          },
          "execution_count": 5,
          "metadata": {},
          "output_type": "execute_result"
        }
      ],
      "source": [
        "# The determinant of a triangular matrix is the product of the diagonal elements!\n",
        "original_matrix.det() == 1 * 1 * (-20)"
      ]
    },
    {
      "cell_type": "markdown",
      "metadata": {
        "id": "h8JIIB-cnyOH"
      },
      "source": [
        "---\n",
        "\n",
        "## Exercises for Students\n",
        "\n",
        "Perform row and column operations to reduce the following matrices to an upper triangular form and calculate their determinants by taking the product of the diagonal elements.\n",
        "\n",
        "1.\n",
        "$$\n",
        "A = \\begin{bmatrix}\n",
        "12 & 3 \\\\\n",
        "-18 & -4\n",
        "\\end{bmatrix}\n",
        "$$\n",
        "\n",
        "2.\n",
        "\n",
        "$$\n",
        "B = \\begin{bmatrix}\n",
        "1 & 2 & 3 \\\\\n",
        "4 & 5 & 6 \\\\\n",
        "7 & 8 & 9\n",
        "\\end{bmatrix}\n",
        "$$"
      ]
    },
    {
      "cell_type": "markdown",
      "metadata": {
        "id": "gwU_36fbnyOI"
      },
      "source": [
        "\n",
        "\n",
        "### \\( A = \\begin{bmatrix} 12 & 3 \\\\ -18 & -4 \\end{bmatrix} \\)\n",
        "1. **Matrix Setup**:\n",
        "   We aim to reduce \\( A \\) into an upper triangular matrix (zero below the diagonal).\n",
        "\n",
        "2. **Step 1: Eliminate the element below the first pivot** (\\( -18 \\)):\n",
        "   Divide the first row by 12 (to make the pivot clear):\n",
        "   $\n",
        "   R_1 \\rightarrow R_1 / 12 \\quad \\text{(optional normalization for easier calculation)}\n",
        "   $\n",
        "   This gives:\n",
        "   $\n",
        "   \\begin{bmatrix}\n",
        "   1 & \\frac{1}{4} \\\\\n",
        "   -18 & -4\n",
        "   \\end{bmatrix}\n",
        "   $\n",
        "\n",
        "   Add \\( 18 \\cdot R_1 \\) to \\( R_2 \\):\n",
        "   $\n",
        "   R_2 \\rightarrow R_2 + 18 \\cdot R_1\n",
        "   $\n",
        "   This gives:\n",
        "   $\n",
        "   \\begin{bmatrix}\n",
        "   1 & \\frac{1}{4} \\\\\n",
        "   0 & 0.5\n",
        "   \\end{bmatrix}\n",
        "   $\n",
        "\n",
        "3. **Upper Triangular Matrix**:\n",
        "   The resulting upper triangular form is:\n",
        "   $\n",
        "   \\begin{bmatrix}\n",
        "   1 & \\frac{1}{4} \\\\\n",
        "   0 & 0.5\n",
        "   \\end{bmatrix}\n",
        "   $\n",
        "\n",
        "4. **Determinant**:\n",
        "   The determinant is the product of the diagonal elements:\n",
        "   $\n",
        "   \\det(A) = 1 \\cdot 0.5 = 0.5\n",
        "   $\n",
        "\n",
        "---\n",
        "\n",
        "### \\( B = \\begin{bmatrix} 1 & 2 & 3 \\\\ 4 & 5 & 6 \\\\ 7 & 8 & 9 \\end{bmatrix} \\)\n",
        "1. **Matrix Setup**:\n",
        "   Start with \\( B \\) and aim to eliminate elements below the diagonal.\n",
        "\n",
        "2. **Step 1: Eliminate elements below the pivot (1 in the first column):**\n",
        "   Subtract \\( 4 \\cdot R_1 \\) from \\( R_2 \\) and \\( 7 \\cdot R_1 \\) from \\( R_3 \\):\n",
        "   $\n",
        "   R_2 \\rightarrow R_2 - 4 \\cdot R_1, \\quad R_3 \\rightarrow R_3 - 7 \\cdot R_1\n",
        "   $\n",
        "   This gives:\n",
        "   $\n",
        "   \\begin{bmatrix}\n",
        "   1 & 2 & 3 \\\\\n",
        "   0 & -3 & -6 \\\\\n",
        "   0 & -6 & -12\n",
        "   \\end{bmatrix}\n",
        "   $\n",
        "\n",
        "3. **Step 2: Eliminate elements below the second pivot (−3 in the second column):**\n",
        "   Divide \\( R_2 \\) by \\( -3 \\):\n",
        "   $\n",
        "   R_2 \\rightarrow R_2 / -3\n",
        "   $\n",
        "   This gives:\n",
        "   $\n",
        "   \\begin{bmatrix}\n",
        "   1 & 2 & 3 \\\\\n",
        "   0 & 1 & 2 \\\\\n",
        "   0 & -6 & -12\n",
        "   \\end{bmatrix}\n",
        "   $\n",
        "\n",
        "   Add \\( 6 \\cdot R_2 \\) to \\( R_3 \\):\n",
        "   $\n",
        "   R_3 \\rightarrow R_3 + 6 \\cdot R_2\n",
        "   $\n",
        "   This gives:\n",
        "   $\n",
        "   \\begin{bmatrix}\n",
        "   1 & 2 & 3 \\\\\n",
        "   0 & 1 & 2 \\\\\n",
        "   0 & 0 & 0\n",
        "   \\end{bmatrix}\n",
        "   $\n",
        "\n",
        "4. **Upper Triangular Matrix**:\n",
        "   The resulting upper triangular form is:\n",
        "   $\n",
        "   \\begin{bmatrix}\n",
        "   1 & 2 & 3 \\\\\n",
        "   0 & 1 & 2 \\\\\n",
        "   0 & 0 & 0\n",
        "   \\end{bmatrix}\n",
        "   $\n",
        "\n",
        "5. **Determinant**:\n",
        "   The determinant is the product of the diagonal elements:\n",
        "   $\n",
        "   \\det(B) = 1 \\cdot 1 \\cdot 0 = 0\n",
        "   $\n",
        "\n",
        "---\n",
        "\n",
        "### Final Results:\n",
        "1. \\( A \\):\n",
        "   - Upper triangular matrix:\n",
        "     $\n",
        "     \\begin{bmatrix}\n",
        "     1 & \\frac{1}{4} \\\\\n",
        "     0 & 0.5\n",
        "     \\end{bmatrix}\n",
        "     $\n",
        "   - Determinant: \\( 0.5 \\)\n",
        "\n",
        "2. \\( B \\):\n",
        "   - Upper triangular matrix:\n",
        "     $\n",
        "     \\begin{bmatrix}\n",
        "     1 & 2 & 3 \\\\\n",
        "     0 & 1 & 2 \\\\\n",
        "     0 & 0 & 0\n",
        "     \\end{bmatrix}\n",
        "     $\n",
        "   - Determinant: \\( 0 \\) (singular matrix)\n"
      ]
    },
    {
      "cell_type": "code",
      "source": [
        "import sympy as sp\n",
        "\n",
        "A = sp.Matrix([[12, -18], [3, -4]])\n",
        "\n",
        "# Row operations to reduce to upper triangular form\n",
        "A[1,:] = A[1,:] - (A[1,0]/A[0,0])*A[0,:]  # R2 = R2 - (3/12)*R1\n",
        "\n",
        "# Display the upper triangular form\n",
        "display(A)\n",
        "\n",
        "# Calculate the determinant\n",
        "determinant_A = A[0,0] * A[1,1]\n",
        "print(\"Determinant of A:\", determinant_A)"
      ],
      "metadata": {
        "id": "s6UtYSF-onaz"
      },
      "execution_count": null,
      "outputs": []
    },
    {
      "cell_type": "code",
      "source": [
        "import sympy as sp\n",
        "\n",
        "B = sp.Matrix([[1, 2, 3], [4, 5, 6], [7, 8, 9]])\n",
        "\n",
        "# Row operations to reduce to upper triangular form\n",
        "B[1,:] = B[1,:] - (B[1,0]/B[0,0])*B[0,:]  # R2 = R2 - (4/1)*R1\n",
        "B[2,:] = B[2,:] - (B[2,0]/B[0,0])*B[0,:]  # R3 = R3 - (7/1)*R1\n",
        "B[2,:] = B[2,:] - (B[2,1]/B[1,1])*B[1,:]  # R3 = R3 - (-6/-3)*R2\n",
        "\n",
        "# Display the upper triangular form\n",
        "display(B)\n",
        "\n",
        "# Calculate the determinant\n",
        "determinant_B = B[0,0] * B[1,1] * B[2,2]\n",
        "print(\"Determinant of B:\", determinant_B)"
      ],
      "metadata": {
        "id": "fRNTajWqopj0"
      },
      "execution_count": null,
      "outputs": []
    }
  ],
  "metadata": {
    "kernelspec": {
      "display_name": "Python 3",
      "language": "python",
      "name": "python3"
    },
    "language_info": {
      "codemirror_mode": {
        "name": "ipython",
        "version": 3
      },
      "file_extension": ".py",
      "mimetype": "text/x-python",
      "name": "python",
      "nbconvert_exporter": "python",
      "pygments_lexer": "ipython3",
      "version": "3.11.9"
    },
    "colab": {
      "provenance": [],
      "include_colab_link": true
    }
  },
  "nbformat": 4,
  "nbformat_minor": 0
}