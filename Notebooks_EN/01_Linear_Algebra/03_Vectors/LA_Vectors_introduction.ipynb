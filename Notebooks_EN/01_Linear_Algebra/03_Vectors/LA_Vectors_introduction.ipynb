{
  "cells": [
    {
      "cell_type": "markdown",
      "metadata": {
        "id": "view-in-github",
        "colab_type": "text"
      },
      "source": [
        "<a href=\"https://colab.research.google.com/github/HafizYuzbasov/Math-2024-25-Winter/blob/main/Notebooks_EN/01_Linear_Algebra/03_Vectors/LA_Vectors_introduction.ipynb\" target=\"_parent\"><img src=\"https://colab.research.google.com/assets/colab-badge.svg\" alt=\"Open In Colab\"/></a>"
      ]
    },
    {
      "cell_type": "markdown",
      "metadata": {
        "id": "Crt6yRsnyYE0"
      },
      "source": [
        "# Vectors - Introduction\n",
        "\n",
        "**Vectors** are quantities that have both magnitude and direction in space. They are used to describe various physical quantities such as velocity, force, or electric field intensity. Unlike scalars, which have only magnitude (e.g., mass, temperature), vectors require a direction to be specified.\n",
        "\n",
        "A vector is represented with an arrow above the symbol $\\vec{a}$ or in bold type $\\mathbf{a}$.\n",
        "- The magnitude of a vector can be written as $\\vec{a}|$ or $a$.\n",
        "- A vector of length 1 is called a unit vector and is denoted by $\\hat{\\mathbf{a}} = \\frac{\\vec{a}}{|\\vec{a}|}$.\n",
        "\n",
        "**Example:**\n",
        "\n",
        "The vector $\\mathbf{a}= [3, 4]$ has a magnitude $a = 5$, and the corresponding unit vector (unit vector along the direction of vector $\\mathbf{a}$) is expressed as $\\hat{\\mathbf{a}} = \\left[\\frac{3}{5}, \\frac{4}{5}\\right]$.\n"
      ]
    },
    {
      "cell_type": "code",
      "execution_count": null,
      "metadata": {
        "id": "Un2oqPaNyYE3",
        "outputId": "fe7c2923-765f-4ab4-c428-e7ced2c17882"
      },
      "outputs": [
        {
          "data": {
            "text/latex": [
              "$\\displaystyle \\sqrt{a_{x}^{2} + a_{y}^{2}}$"
            ],
            "text/plain": [
              "sqrt(a_x**2 + a_y**2)"
            ]
          },
          "execution_count": 2,
          "metadata": {},
          "output_type": "execute_result"
        }
      ],
      "source": [
        "import sympy as sp  # import the sympy module\n",
        "\n",
        "# For vector $\\mathbf{a} = [a_x, a_y]$, the magnitude is given by the formula:\n",
        "# $$ |\\mathbf{a}| = a = \\sqrt{a_x^2 + a_y^2} $$\n",
        "\n",
        "a_x, a_y = sp.symbols('a_x a_y')  # Step 1: Define symbolic variables a_x and a_y\n",
        "magnitude_a = sp.sqrt(a_x**2 + a_y**2)  # Step 2: Create the formula for the magnitude of vector a\n",
        "magnitude_a  # Step 3: Display the result"
      ]
    },
    {
      "cell_type": "code",
      "execution_count": null,
      "metadata": {
        "id": "vojGvrLRyYE6",
        "outputId": "f6d85e00-57ab-470b-d842-9238d6d89fbe"
      },
      "outputs": [
        {
          "data": {
            "text/latex": [
              "$\\displaystyle 5.0$"
            ],
            "text/plain": [
              "5.00000000000000"
            ]
          },
          "execution_count": 3,
          "metadata": {},
          "output_type": "execute_result"
        }
      ],
      "source": [
        "# Assign values to a_x and a_y\n",
        "a_x = 3  # x component of the vector\n",
        "a_y = 4  # y component of the vector\n",
        "\n",
        "magnitude_a = sp.sqrt(a_x**2 + a_y**2)  # Calculate the magnitude of the vector for a_x = 3 and a_y = 4\n",
        "magnitude_a.evalf()  # Numerically calculate the magnitude of the vector (expected result: 5)"
      ]
    },
    {
      "cell_type": "markdown",
      "metadata": {
        "id": "CqtY8WTwyYE6"
      },
      "source": [
        "## Vector Addition\n",
        "\n",
        "Vector addition involves adding the corresponding components of vectors of the same length.\n",
        "\n",
        "For two vectors $\\mathbf{a}$ and $\\mathbf{b}$ in the space $\\mathbb{R}^n$, where:\n",
        "\n",
        "$$\n",
        "\\mathbf{a} = [a_1, a_2, \\dots, a_n], \\quad \\mathbf{b} = [b_1, b_2, \\dots, b_n]\n",
        "$$\n",
        "\n",
        "Vector addition is defined as follows:\n",
        "\n",
        "$$\n",
        "\\mathbf{a} + \\mathbf{b} = [a_1 + b_1, a_2 + b_2, \\dots, a_n + b_n]\n",
        "$$\n",
        "\n",
        "## Scalar Multiplication of a Vector\n",
        "\n",
        "Scalar multiplication of a vector involves multiplying each component of the vector by the same number.\n",
        "\n",
        "For a vector $\\mathbf{a}$ and a scalar $k$:\n",
        "\n",
        "$$\n",
        "k \\mathbf{a} = [k a_1, k a_2, \\dots, k a_n]\n",
        "$$\n",
        "\n",
        "## Vectors in the Plane and Space\n",
        "\n",
        "**Vectors in 2D:**\n",
        "\n",
        "If $\\mathbf{a} = [a_x, a_y]$, then the magnitude is given by the formula $|\\mathbf{a}| = a = \\sqrt{a_x^2 + a_y^2}$.\n",
        "\n",
        "**Vectors in 3D:**\n",
        "\n",
        "If $\\mathbf{a} = [a_x, a_y, a_z]$, then the magnitude of the vector is $|\\mathbf{a}| = a = \\sqrt{a_x^2 + a_y^2 + a_z^2}$.\n",
        "\n",
        "## Plotting a Vector"
      ]
    },
    {
      "cell_type": "code",
      "execution_count": null,
      "metadata": {
        "id": "D6mWlB0NyYE7",
        "outputId": "01e33cf8-18af-4c58-dece-8fa0b9caa7ab"
      },
      "outputs": [
        {
          "data": {
            "image/png": "[encoded data removed]",
            "text/plain": [
              "<Figure size 640x480 with 1 Axes>"
            ]
          },
          "metadata": {},
          "output_type": "display_data"
        }
      ],
      "source": [
        "import matplotlib.pyplot as plt # import the matplotlib.pyplot module\n",
        "\n",
        "plt.figure() # create a new figure\n",
        "plt.quiver(0, 0, 3, 4, angles='xy', scale_units='xy', scale=1, color='r') # quick way to plot a vector quiver(x_start, y_start, x_end, y_end)\n",
        "plt.xlim(0, 5) # set x-axis range\n",
        "plt.ylim(0, 5) # set y-axis range\n",
        "plt.grid(True) # enable grid\n",
        "plt.gca().set_aspect('equal') # set equal scaling on x and y axes\n",
        "plt.show()"
      ]
    },
    {
      "cell_type": "markdown",
      "metadata": {
        "id": "qbcBN6FLyYE7"
      },
      "source": [
        "## Example of Simple Vector Implementation in Python\n",
        "\n",
        "Given vectors $\\mathbf{a}=[1, 2]$ and $\\mathbf{b}=[3, 4]$, we want to calculate their sum $\\mathbf{c}=\\mathbf{a}+\\mathbf{b}= [1+3, 2+4] = [4, 6]$"
      ]
    },
    {
      "cell_type": "code",
      "execution_count": null,
      "metadata": {
        "id": "qn3ppbmmyYE8",
        "outputId": "7f4540be-dbe2-43bb-c7e6-7ead5658feee"
      },
      "outputs": [
        {
          "data": {
            "text/plain": [
              "[4, 6]"
            ]
          },
          "execution_count": 5,
          "metadata": {},
          "output_type": "execute_result"
        }
      ],
      "source": [
        "import sympy as sp # import the sympy module\n",
        "\n",
        "a=[1, 2] # vector a\n",
        "b=[3, 4] # vector b\n",
        "c = [a[0] + b[0], a[1] + b[1]] # sum of vectors a and b\n",
        "c # display the result"
      ]
    },
    {
      "cell_type": "markdown",
      "metadata": {
        "id": "VLTz0bzvyYE8"
      },
      "source": [
        "## Example of Better Vector Implementation in Python\n",
        "\n",
        "Vectors are represented as column matrices. Then vector addition is the same as matrix addition."
      ]
    },
    {
      "cell_type": "code",
      "execution_count": null,
      "metadata": {
        "id": "nIEfaYj6yYE9",
        "outputId": "c8f8e36e-a958-42d3-ed80-3564fab6e2d9"
      },
      "outputs": [
        {
          "data": {
            "text/latex": [
              "$\\displaystyle \\left[\\begin{matrix}12\\\\5\\\\18\\end{matrix}\\right]$"
            ],
            "text/plain": [
              "Matrix([\n",
              "[12],\n",
              "[ 5],\n",
              "[18]])"
            ]
          },
          "execution_count": 6,
          "metadata": {},
          "output_type": "execute_result"
        }
      ],
      "source": [
        "import sympy as sp\n",
        "\n",
        "# Vector definitions\n",
        "a = sp.Matrix([1, 2, 3])\n",
        "b = sp.Matrix([4, 5, 6])\n",
        "c = sp.Matrix([7, 0, 9])\n",
        "d = sp.Matrix([0, 2, 0])\n",
        "\n",
        "a + b + c - d # An operation involving addition and subtraction of vectors"
      ]
    },
    {
      "cell_type": "markdown",
      "metadata": {
        "id": "FLQLzJE6yYE-"
      },
      "source": [
        "## Plotting Vector Addition\n",
        "\n",
        "Example: $\\mathbf{a}=[2,1]$ and $\\mathbf{b}=[1,2]$ results in vector $\\mathbf{c}=\\mathbf{a}+\\mathbf{b}=[3,3]$."
      ]
    },
    {
      "cell_type": "code",
      "execution_count": null,
      "metadata": {
        "id": "8QC6qCJTyYE_",
        "outputId": "205f55c2-653c-4627-94b7-f9d1f77ab01b"
      },
      "outputs": [
        {
          "data": {
            "image/png": "[encoded data removed]",
            "text/plain": [
              "<Figure size 640x480 with 1 Axes>"
            ]
          },
          "metadata": {},
          "output_type": "display_data"
        }
      ],
      "source": [
        "import matplotlib.pyplot as plt # import the matplotlib.pyplot module #example of vector addition in two-dimensional space\n",
        "\n",
        "plt.figure() # create a new figure\n",
        "plt.quiver(0, 0, 2, 1, angles='xy', scale_units='xy', scale=1, color='r') # quick way to plot vectors quiver(x_start, y_start, x_end, y_end)\n",
        "plt.quiver(0, 0, 1, 2, angles='xy', scale_units='xy', scale=1, color='b') # quick way to plot vectors quiver(x_start, y_start, x_end, y_end)\n",
        "plt.quiver(0, 0, 3, 3, angles='xy', scale_units='xy', scale=1, color='g') # quick way to plot vectors quiver(x_start, y_start, x_end, y_end)\n",
        "plt.xlim(-1, 4) # set x-axis range\n",
        "plt.ylim(-1, 4) # set y-axis range\n",
        "plt.grid(True) # enable grid\n",
        "plt.gca().set_aspect('equal') # set equal scaling on x and y axes\n",
        "plt.show()"
      ]
    },
    {
      "cell_type": "markdown",
      "metadata": {
        "id": "glFMDlwCyYE_"
      },
      "source": [
        "## Coordinate Systems in the Plane and Space\n",
        "\n",
        "**Cartesian Coordinate System** is the basic coordinate system in which points in space are specified by their distances from fixed axes: $x$, $y$ (for 2D) and $z$ (for 3D).\n",
        "\n",
        "- In 2D, each point can be written as $(x, y)$.\n",
        "- In 3D, points are of the form $(x, y, z)$.\n",
        "\n",
        "**Polar Coordinate System** is used in 2D and defines a point by its distance from the origin (r) and the angle (θ) relative to the reference axis.\n",
        "\n",
        "**Spherical Coordinate System** is used in 3D and defines a point by its distance from the origin (r), azimuth angle (θ), and elevation angle (φ).\n",
        "\n",
        "Vectors can be represented using components in the Cartesian coordinate system, where each component corresponds to the distance of the point from the respective coordinate axis.\n",
        "\n",
        "- For a vector in two-dimensional space: $\\mathbf{a} = [a_x, a_y] = a_x\\hat{\\mathbf{i}} + a_y\\hat{\\mathbf{j}}$\n",
        "- For a vector in three-dimensional space: $\\mathbf{a} = [a_x, a_y, a_z] = a_x\\hat{\\mathbf{i}} + a_y\\hat{\\mathbf{j}} + a_z\\hat{\\mathbf{k}}$\n",
        "\n",
        "## Basis\n",
        "\n",
        "**Basis** of vectors is a set of vectors that spans a vector space. In Cartesian space, the standard basis vectors are $\\hat{\\mathbf{i}}, \\hat{\\mathbf{j}}, \\hat{\\mathbf{k}}$.\n",
        "\n",
        "For 2D:\n",
        "\n",
        "$$\n",
        "\\hat{\\mathbf{i}} = [1, 0], \\quad \\hat{\\mathbf{j}} = [0, 1]\n",
        "$$\n",
        "\n",
        "For 3D:\n",
        "\n",
        "$$\n",
        "\\hat{\\mathbf{i}} = [1, 0, 0], \\quad \\hat{\\mathbf{j}} = [0, 1, 0], \\quad \\hat{\\mathbf{k}} = [0, 0, 1]\n",
        "$$\n",
        "\n",
        "These basis vectors are unit vectors and are perpendicular to each other.\n",
        "\n",
        "### Finding the Coordinates of a Vector in a New Basis\n",
        "\n",
        "To find the coordinates of vector $\\mathbf{v}$ in a new basis $\\{\\mathbf{b_1}, \\mathbf{b_2}, \\mathbf{b_3}\\}$, express $\\mathbf{v}$ as a linear combination of the basis vectors.\n",
        "\n",
        "$$\n",
        "\\mathbf{v} = c_1 \\mathbf{b_1} + c_2 \\mathbf{b_2} + c_3 \\mathbf{b_3}\n",
        "$$\n",
        "\n",
        "The coefficients $c_1, c_2, c_3$ are the coordinates of vector $\\mathbf{v}$ in the new basis.\n",
        "\n",
        "---\n",
        "\n",
        "## Student Exercises\n",
        "\n",
        "A. By what number should vector $\\mathbf{a} = [3, 4]$ be multiplied so that its length is equal to 1?\n",
        "\n",
        "B. Calculate the length of vector $\\mathbf{b} = [1, 1]$ and find the unit vector of this vector.\n",
        "\n",
        "C. Plot the vector and the unit vector from the previous exercise.\n",
        "\n",
        "D. Calculate the length of vector $\\mathbf{c} = [1, 2, 3]$ and find the unit vector of this vector.\n",
        "\n",
        "E. Find the Cartesian coordinates of vector $\\mathbf{v} = [2, 3, 4]$ in the basis $\\{\\mathbf{b_1} = [1, 0, 1], \\mathbf{b_2} = [0, 1, 0], \\mathbf{b_3} = [1, 0, -1]\\}$."
      ]
    },
    {
      "cell_type": "markdown",
      "source": [
        "### Part A: By what number should vector $ \\mathbf{a} = [3, 4]  be multiplied so that its length is equal to 1?$\n",
        "\n",
        "\n",
        "The length (or magnitude) of vector \\( \\mathbf{a} \\) is calculated as:\n",
        "\n",
        "$\n",
        "\\|\\mathbf{a}\\| = \\sqrt{3^2 + 4^2} = \\sqrt{9 + 16} = 5\n",
        "$\n",
        "\n",
        "To make the length of the vector equal to 1, we need to divide each component of $ \\mathbf{a} $ by its magnitude $ \\|\\mathbf{a}\\| = 5 $. Therefore, the number to multiply $ \\mathbf{a} $ by is:\n",
        "\n",
        "$\n",
        "\\text{Scale factor} = \\frac{1}{\\|\\mathbf{a}\\|} = \\frac{1}{5}\n",
        "$\n",
        "\n",
        "---\n",
        "\n",
        "### Part B: Calculate the length of vector $ \\mathbf{b} = [1, 1] $ and find the unit vector of this vector.\n",
        "\n",
        "#### Length of $ \\mathbf{b} $:\n",
        "\n",
        "$\n",
        "\\|\\mathbf{b}\\| = \\sqrt{1^2 + 1^2} = \\sqrt{2}\n",
        "$\n",
        "\n",
        "#### Unit vector of $ \\mathbf{b} $:\n",
        "\n",
        "The unit vector is given by:\n",
        "\n",
        "$\n",
        "\\mathbf{b_{\\text{unit}}} = \\frac{\\mathbf{b}}{\\|\\mathbf{b}\\|} = \\left[\\frac{1}{\\sqrt{2}}, \\frac{1}{\\sqrt{2}}\\right]\n",
        "$\n",
        "\n",
        "Simplified:\n",
        "\n",
        "$\n",
        "\\mathbf{b_{\\text{unit}}} = \\left[\\frac{\\sqrt{2}}{2}, \\frac{\\sqrt{2}}{2}\\right]\n",
        "$\n",
        "\n",
        "---\n",
        "\n",
        "### Part C: Plot the vector and the unit vector from the previous exercise.\n",
        "\n",
        "I will plot $\\mathbf{b} = [1, 1] $ and $ \\mathbf{b_{\\text{unit}}} = \\left[\\frac{\\sqrt{2}}{2}, \\frac{\\sqrt{2}}{2}\\right] $ on a 2D Cartesian plane.\n",
        "\n",
        "IN THE CODE YOU CAN SEE GRAFIC\n",
        "\n",
        "Here is the plot of vector $ \\mathbf{b} = [1, 1] $ (in blue) and its unit vector $ \\mathbf{b_{\\text{unit}}} = \\left[\\frac{\\sqrt{2}}{2}, \\frac{\\sqrt{2}}{2}\\right] $ (in orange).\n",
        "\n",
        "---\n",
        "\n",
        "### Part D: Calculate the length of vector $ \\mathbf{c} = [1, 2, 3] $ and find the unit vector of this vector.\n",
        "\n",
        "#### Length of $ \\mathbf{c} $:\n",
        "\n",
        "$\n",
        "\\|\\mathbf{c}\\| = \\sqrt{1^2 + 2^2 + 3^2} = \\sqrt{1 + 4 + 9} = \\sqrt{14}\n",
        "$\n",
        "\n",
        "#### Unit vector of $ \\mathbf{c} $:\n",
        "\n",
        "The unit vector is given by:\n",
        "\n",
        "$\n",
        "\\mathbf{c_{\\text{unit}}} = \\frac{\\mathbf{c}}{\\|\\mathbf{c}\\|} = \\left[\\frac{1}{\\sqrt{14}}, \\frac{2}{\\sqrt{14}}, \\frac{3}{\\sqrt{14}}\\right]\n",
        "$\n",
        "\n",
        "Simplified:\n",
        "\n",
        "$\n",
        "\\mathbf{c_{\\text{unit}}} = \\left[\\frac{\\sqrt{14}}{14}, \\frac{2\\sqrt{14}}{14}, \\frac{3\\sqrt{14}}{14}\\right]\n",
        "$\n",
        "\n",
        "---\n",
        "\n",
        "### Part E: Find the Cartesian coordinates of vector $ \\mathbf{v} = [2, 3, 4] $ in the basis $ \\{\\mathbf{b}_1 = [1, 0, 1], \\mathbf{b}_2 = [0, 1, 0], \\mathbf{b}_3 = [1, 0, -1]\\} $.\n",
        "\n",
        "The vector $ \\mathbf{v} $ in terms of the basis vectors $ \\mathbf{b}_1, \\mathbf{b}_2, \\mathbf{b}_3 $ can be expressed as:\n",
        "\n",
        "$\n",
        "\\mathbf{v} = c_1 \\mathbf{b}_1 + c_2 \\mathbf{b}_2 + c_3 \\mathbf{b}_3\n",
        "$\n",
        "\n",
        "This translates to solving the system:\n",
        "\n",
        "$\n",
        "\\begin{aligned}\n",
        "c_1 [1, 0, 1] + c_2 [0, 1, 0] + c_3 [1, 0, -1] &= [2, 3, 4]\n",
        "\\end{aligned}\n",
        "$\n",
        "\n",
        "Breaking this into equations:\n",
        "\n",
        "$\n",
        "\\begin{aligned}\n",
        "c_1 + c_3 &= 2 \\\\\n",
        "c_2 &= 3 \\\\\n",
        "c_1 - c_3 &= 4\n",
        "\\end{aligned}\n",
        "$\n",
        "\n",
        "\n",
        "The solution to the system is:\n",
        "\n",
        "$\n",
        "c_1 = 3, \\quad c_2 = 3, \\quad c_3 = -1\n",
        "$\n",
        "\n",
        "Thus, the Cartesian coordinates of $ \\mathbf{v} = [2, 3, 4] $ in the basis $ \\{\\mathbf{b}_1 = [1, 0, 1], \\mathbf{b}_2 = [0, 1, 0], \\mathbf{b}_3 = [1, 0, -1]\\} $ are:\n",
        "\n",
        "$\n",
        "\\mathbf{v} = 3 \\mathbf{b}_1 + 3 \\mathbf{b}_2 - 1 \\mathbf{b}_3\n",
        "$"
      ],
      "metadata": {
        "id": "MxB-4PJV0xph"
      }
    },
    {
      "cell_type": "code",
      "source": [
        "import math\n",
        "\n",
        "a = [3, 4]\n",
        "\n",
        "# Calculate the magnitude of vector a\n",
        "magnitude_a = math.sqrt(a[0]**2 + a[1]**2)\n",
        "\n",
        "# The scaling factor is 1/magnitude\n",
        "scaling_factor = 1 / magnitude_a\n",
        "\n",
        "print(\"Scaling factor:\", scaling_factor)  # Output: 0.2"
      ],
      "metadata": {
        "id": "b5vw1coK2Smr",
        "outputId": "9b6a0e7f-4533-4da7-cb80-9c5364174e64",
        "colab": {
          "base_uri": "https://localhost:8080/"
        }
      },
      "execution_count": 4,
      "outputs": [
        {
          "output_type": "stream",
          "name": "stdout",
          "text": [
            "Scaling factor: 0.2\n"
          ]
        }
      ]
    },
    {
      "cell_type": "code",
      "source": [
        "import math\n",
        "\n",
        "b = [1, 1]\n",
        "\n",
        "# Calculate the length (magnitude) of vector b\n",
        "magnitude_b = math.sqrt(b[0]**2 + b[1]**2)\n",
        "print(\"Magnitude of b:\", magnitude_b)\n",
        "\n",
        "# Calculate the unit vector of b\n",
        "unit_vector_b = [b[0] / magnitude_b, b[1] / magnitude_b]\n",
        "print(\"Unit vector of b:\", unit_vector_b)"
      ],
      "metadata": {
        "id": "71p2o_SJ2TSa",
        "outputId": "a2f54604-36e9-4fda-d56a-e0d22b5e6392",
        "colab": {
          "base_uri": "https://localhost:8080/"
        }
      },
      "execution_count": 5,
      "outputs": [
        {
          "output_type": "stream",
          "name": "stdout",
          "text": [
            "Magnitude of b: 1.4142135623730951\n",
            "Unit vector of b: [0.7071067811865475, 0.7071067811865475]\n"
          ]
        }
      ]
    },
    {
      "cell_type": "code",
      "source": [
        "import matplotlib.pyplot as plt\n",
        "import math\n",
        "\n",
        "b = [1, 1]\n",
        "magnitude_b = math.sqrt(b[0]**2 + b[1]**2)\n",
        "unit_vector_b = [b[0] / magnitude_b, b[1] / magnitude_b]\n",
        "\n",
        "plt.figure()\n",
        "plt.quiver(0, 0, b[0], b[1], angles='xy', scale_units='xy', scale=1, color='r', label='b')\n",
        "plt.quiver(0, 0, unit_vector_b[0], unit_vector_b[1], angles='xy', scale_units='xy', scale=1, color='b', label='unit vector of b')\n",
        "plt.xlim(-0.5, 1.5)\n",
        "plt.ylim(-0.5, 1.5)\n",
        "plt.grid(True)\n",
        "plt.gca().set_aspect('equal')\n",
        "plt.legend()\n",
        "plt.show()"
      ],
      "metadata": {
        "id": "7UUnIniR2WtD",
        "outputId": "8d2efe43-aaac-465f-f749-37e4eb44c6a3",
        "colab": {
          "base_uri": "https://localhost:8080/",
          "height": 435
        }
      },
      "execution_count": 6,
      "outputs": [
        {
          "output_type": "display_data",
          "data": {
            "text/plain": [
              "<Figure size 640x480 with 1 Axes>"
            ],
            "image/png": "[encoded data removed]"
          },
          "metadata": {}
        }
      ]
    },
    {
      "cell_type": "code",
      "source": [
        "import math\n",
        "\n",
        "c = [1, 2, 3]\n",
        "\n",
        "# Calculate the length (magnitude) of vector c\n",
        "magnitude_c = math.sqrt(c[0]**2 + c[1]**2 + c[2]**2)\n",
        "print(\"Magnitude of c:\", magnitude_c)\n",
        "\n",
        "# Calculate the unit vector of c\n",
        "unit_vector_c = [c[0] / magnitude_c, c[1] / magnitude_c, c[2] / magnitude_c]\n",
        "print(\"Unit vector of c:\", unit_vector_c)"
      ],
      "metadata": {
        "id": "dqt3fO0o2Zec",
        "outputId": "e4bb02c8-d252-40bb-aa5f-b3e8dc30069e",
        "colab": {
          "base_uri": "https://localhost:8080/"
        }
      },
      "execution_count": 7,
      "outputs": [
        {
          "output_type": "stream",
          "name": "stdout",
          "text": [
            "Magnitude of c: 3.7416573867739413\n",
            "Unit vector of c: [0.2672612419124244, 0.5345224838248488, 0.8017837257372732]\n"
          ]
        }
      ]
    },
    {
      "cell_type": "code",
      "source": [
        "import numpy as np\n",
        "\n",
        "v = [2, 3, 4]\n",
        "b1 = [1, 0, 1]\n",
        "b2 = [0, 1, 0]\n",
        "b3 = [1, 0, -1]\n",
        "\n",
        "# Create a matrix with the basis vectors as columns\n",
        "basis_matrix = np.array([b1, b2, b3]).T\n",
        "\n",
        "# Solve for the coefficients (coordinates)\n",
        "coordinates = np.linalg.solve(basis_matrix, v)\n",
        "\n",
        "print(\"Coordinates of v in the new basis:\", coordinates)"
      ],
      "metadata": {
        "id": "YLrln0zn2c8s",
        "outputId": "ce5aa403-4b03-47e3-8199-67c13a52b004",
        "colab": {
          "base_uri": "https://localhost:8080/"
        }
      },
      "execution_count": 8,
      "outputs": [
        {
          "output_type": "stream",
          "name": "stdout",
          "text": [
            "Coordinates of v in the new basis: [ 3.  3. -1.]\n"
          ]
        }
      ]
    }
  ],
  "metadata": {
    "kernelspec": {
      "display_name": ".venv",
      "language": "python",
      "name": "python3"
    },
    "language_info": {
      "codemirror_mode": {
        "name": "ipython",
        "version": 3
      },
      "file_extension": ".py",
      "mimetype": "text/x-python",
      "name": "python",
      "nbconvert_exporter": "python",
      "pygments_lexer": "ipython3",
      "version": "3.11.9"
    },
    "colab": {
      "provenance": [],
      "include_colab_link": true
    }
  },
  "nbformat": 4,
  "nbformat_minor": 0
}