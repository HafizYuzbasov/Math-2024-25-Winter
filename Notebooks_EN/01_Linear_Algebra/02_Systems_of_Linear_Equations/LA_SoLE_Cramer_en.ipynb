{
  "cells": [
    {
      "cell_type": "markdown",
      "metadata": {
        "id": "view-in-github",
        "colab_type": "text"
      },
      "source": [
        "<a href=\"https://colab.research.google.com/github/HafizYuzbasov/Math-2024-25-Winter/blob/main/Notebooks_EN/01_Linear_Algebra/02_Systems_of_Linear_Equations/LA_SoLE_Cramer_en.ipynb\" target=\"_parent\"><img src=\"https://colab.research.google.com/assets/colab-badge.svg\" alt=\"Open In Colab\"/></a>"
      ]
    },
    {
      "cell_type": "markdown",
      "metadata": {
        "id": "kOvzUH9Wo_OB"
      },
      "source": [
        "# Cramer's Rule - Examples for 2x2, 3x3, and 4x4 Systems\n",
        "\n",
        "Cramer's rule is used only when the number of equations is equal to the number of unknowns. In other words, the coefficient matrix must be a square matrix.\n",
        "\n",
        "**These formulas are used only** when the **determinant** of the coefficient matrix is **non-zero**. Otherwise, the system of equations is either inconsistent or indeterminate.\n",
        "\n",
        "## 2x2 System of Equations\n",
        "\n",
        "Consider a system of two equations with two unknowns:\n",
        "\n",
        "$$\n",
        "\\begin{cases}\n",
        "a_{11}x_1 + a_{12}x_2 = b_1 \\\\\n",
        "a_{21}x_1 + a_{22}x_2 = b_2\n",
        "\\end{cases}\n",
        "$$\n",
        "\n",
        "Cramer's rule for the unknowns $ x_1 $ and $ x_2 $ is as follows:\n",
        "\n",
        "$$\n",
        "x_1 = \\frac{\\det(A_1)}{\\det(A)} \\quad \\text{and} \\quad x_2 = \\frac{\\det(A_2)}{\\det(A)}\n",
        "$$\n",
        "\n",
        "Where:\n",
        "\n",
        "$$\n",
        "\\det(A) =\n",
        "\\begin{vmatrix}\n",
        "a_{11} & a_{12} \\\\\n",
        "a_{21} & a_{22}\n",
        "\\end{vmatrix}\n",
        "= a_{11}a_{22} - a_{12}a_{21}\n",
        "$$\n",
        "\n",
        "$$\n",
        "\\det(A_1) =\n",
        "\\begin{vmatrix}\n",
        "b_1 & a_{12} \\\\\n",
        "b_2 & a_{22}\n",
        "\\end{vmatrix}\n",
        "= b_1a_{22} - a_{12}b_2\n",
        "$$\n",
        "\n",
        "$$\n",
        "\\det(A_2) =\n",
        "\\begin{vmatrix}\n",
        "a_{11} & b_1 \\\\\n",
        "a_{21} & b_2\n",
        "\\end{vmatrix}\n",
        "= a_{11}b_2 - b_1a_{21}\n",
        "$$\n",
        "\n",
        "## 3x3 System of Equations\n",
        "\n",
        "Consider a system of three equations with three unknowns:\n",
        "\n",
        "$$\n",
        "\\begin{cases}\n",
        "a_{11}x_1 + a_{12}x_2 + a_{13}x_3 = b_1 \\\\\n",
        "a_{21}x_1 + a_{22}x_2 + a_{23}x_3 = b_2 \\\\\n",
        "a_{31}x_1 + a_{32}x_2 + a_{33}x_3 = b_3\n",
        "\\end{cases}\n",
        "$$\n",
        "\n",
        "Cramer's rule for $ x_1 $, $ x_2 $, and $ x_3 $:\n",
        "\n",
        "$$\n",
        "x_1 = \\frac{\\det(A_1)}{\\det(A)} \\quad x_2 = \\frac{\\det(A_2)}{\\det(A)} \\quad x_3 = \\frac{\\det(A_3)}{\\det(A)}\n",
        "$$\n",
        "\n",
        "Where:\n",
        "\n",
        "$$\n",
        "\\det(A) =\n",
        "\\begin{vmatrix}\n",
        "a_{11} & a_{12} & a_{13} \\\\\n",
        "a_{21} & a_{22} & a_{23} \\\\\n",
        "a_{31} & a_{32} & a_{33}\n",
        "\\end{vmatrix}\n",
        "$$\n",
        "\n",
        "$$\n",
        "\\det(A_1) =\n",
        "\\begin{vmatrix}\n",
        "b_1 & a_{12} & a_{13} \\\\\n",
        "b_2 & a_{22} & a_{23} \\\\\n",
        "b_3 & a_{32} & a_{33}\n",
        "\\end{vmatrix}\n",
        "$$\n",
        "\n",
        "$$\n",
        "\\det(A_2) =\n",
        "\\begin{vmatrix}\n",
        "a_{11} & b_1 & a_{13} \\\\\n",
        "a_{21} & b_2 & a_{23} \\\\\n",
        "a_{31} & b_3 & a_{33}\n",
        "\\end{vmatrix}\n",
        "$$\n",
        "\n",
        "$$\n",
        "\\det(A_3) =\n",
        "\\begin{vmatrix}\n",
        "a_{11} & a_{12} & b_1 \\\\\n",
        "a_{21} & a_{22} & b_2 \\\\\n",
        "a_{31} & a_{32} & b_3\n",
        "\\end{vmatrix}\n",
        "$$\n",
        "\n",
        "## 4x4 System of Equations\n",
        "\n",
        "Consider a system of four equations with four unknowns:\n",
        "\n",
        "$$\n",
        "\\begin{cases}\n",
        "a_{11}x_1 + a_{12}x_2 + a_{13}x_3 + a_{14}x_4 = b_1 \\\\\n",
        "a_{21}x_1 + a_{22}x_2 + a_{23}x_3 + a_{24}x_4 = b_2 \\\\\n",
        "a_{31}x_1 + a_{32}x_2 + a_{33}x_3 + a_{34}x_4 = b_3 \\\\\n",
        "a_{41}x_1 + a_{42}x_2 + a_{43}x_3 + a_{44}x_4 = b_4\n",
        "\\end{cases}\n",
        "$$\n",
        "\n",
        "Cramer's rule for $ x_1 $, $ x_2 $, $ x_3 $, and $ x_4 $:\n",
        "\n",
        "$$\n",
        "x_1 = \\frac{\\det(A_1)}{\\det(A)} \\quad x_2 = \\frac{\\det(A_2)}{\\det(A)} \\quad x_3 = \\frac{\\det(A_3)}{\\det(A)} \\quad x_4 = \\frac{\\det(A_4)}{\\det(A)}\n",
        "$$\n",
        "\n",
        "Where:\n",
        "\n",
        "$$\n",
        "\\det(A) =\n",
        "\\begin{vmatrix}\n",
        "a_{11} & a_{12} & a_{13} & a_{14} \\\\\n",
        "a_{21} & a_{22} & a_{23} & a_{24} \\\\\n",
        "a_{31} & a_{32} & a_{33} & a_{34} \\\\\n",
        "a_{41} & a_{42} & a_{43} & a_{44}\n",
        "\\end{vmatrix}\n",
        "$$\n",
        "\n",
        "$$\n",
        "\\det(A_1) =\n",
        "\\begin{vmatrix}\n",
        "b_1 & a_{12} & a_{13} & a_{14} \\\\\n",
        "b_2 & a_{22} & a_{23} & a_{24} \\\\\n",
        "b_3 & a_{32} & a_{33} & a_{34} \\\\\n",
        "b_4 & a_{42} & a_{43} & a_{44}\n",
        "\\end{vmatrix}\n",
        "$$\n",
        "\n",
        "$$\n",
        "\\det(A_2) =\n",
        "\\begin{vmatrix}\n",
        "a_{11} & b_1 & a_{13} & a_{14} \\\\\n",
        "a_{21} & b_2 & a_{23} & a_{24} \\\\\n",
        "a_{31} & b_3 & a_{33} & a_{34} \\\\\n",
        "a_{41} & b_4 & a_{43} & a_{44}\n",
        "\\end{vmatrix}\n",
        "$$\n",
        "\n",
        "$$\n",
        "\\det(A_3) =\n",
        "\\begin{vmatrix}\n",
        "a_{11} & a_{12} & b_1 & a_{14} \\\\\n",
        "a_{21} & a_{22} & b_2 & a_{24} \\\\\n",
        "a_{31} & a_{32} & b_3 & a_{34} \\\\\n",
        "a_{41} & a_{42} & b_4 & a_{44}\n",
        "\\end{vmatrix}\n",
        "$$\n",
        "\n",
        "$$\n",
        "\\det(A_4) =\n",
        "\\begin{vmatrix}\n",
        "a_{11} & a_{12} & a_{13} & b_1 \\\\\n",
        "a_{21} & a_{22} & a_{23} & b_2 \\\\\n",
        "a_{31} & a_{32} & a_{33} & b_3 \\\\\n",
        "a_{41} & a_{42} & a_{43} & b_4\n",
        "\\end{vmatrix}\n",
        "$$\n",
        "\n",
        "## Example"
      ]
    },
    {
      "cell_type": "code",
      "execution_count": null,
      "metadata": {
        "id": "yMK8KSTKo_OI"
      },
      "outputs": [],
      "source": [
        "import sympy as sp\n",
        "\n",
        "# Define symbols\n",
        "x, y, z = sp.symbols('x y z')\n",
        "\n",
        "# Define the system of equations\n",
        "eq1 = sp.Eq(2*x + 3*y + z, 1)\n",
        "eq2 = sp.Eq(3*x + 2*y + 2*z, 2)\n",
        "eq3 = sp.Eq(x + y + z, 3)\n",
        "\n",
        "# Coefficient matrix of the system\n",
        "A = sp.Matrix([[2, 3, 1], [3, 2, 2], [1, 1, 1]])\n",
        "# Free terms vector\n",
        "b = sp.Matrix([1, 2, 3])"
      ]
    },
    {
      "cell_type": "code",
      "execution_count": null,
      "metadata": {
        "id": "-fy4BKjBo_OK",
        "outputId": "0da6917b-070a-4c24-c6c6-8e50ec48ce62"
      },
      "outputs": [
        {
          "data": {
            "text/latex": [
              "$\\displaystyle \\left[\\begin{matrix}2 & 3 & 1\\\\3 & 2 & 2\\\\1 & 1 & 1\\end{matrix}\\right]$"
            ],
            "text/plain": [
              "Matrix([\n",
              "[2, 3, 1],\n",
              "[3, 2, 2],\n",
              "[1, 1, 1]])"
            ]
          },
          "execution_count": 2,
          "metadata": {},
          "output_type": "execute_result"
        }
      ],
      "source": [
        "A"
      ]
    },
    {
      "cell_type": "code",
      "execution_count": null,
      "metadata": {
        "id": "1nEL1_eio_OM",
        "outputId": "4fa16978-17c9-42f9-c614-fd7c0cb16129"
      },
      "outputs": [
        {
          "data": {
            "text/latex": [
              "$\\displaystyle \\left[\\begin{matrix}1\\\\2\\\\3\\end{matrix}\\right]$"
            ],
            "text/plain": [
              "Matrix([\n",
              "[1],\n",
              "[2],\n",
              "[3]])"
            ]
          },
          "execution_count": 3,
          "metadata": {},
          "output_type": "execute_result"
        }
      ],
      "source": [
        "b"
      ]
    },
    {
      "cell_type": "code",
      "execution_count": null,
      "metadata": {
        "id": "fIlt1emmo_OM",
        "outputId": "2861c229-d85e-4c95-cd90-9b3581e7ff7d"
      },
      "outputs": [
        {
          "data": {
            "text/latex": [
              "$\\displaystyle \\left[\\begin{matrix}1 & 3 & 1\\\\2 & 2 & 2\\\\3 & 1 & 1\\end{matrix}\\right]$"
            ],
            "text/plain": [
              "Matrix([\n",
              "[1, 3, 1],\n",
              "[2, 2, 2],\n",
              "[3, 1, 1]])"
            ]
          },
          "execution_count": 4,
          "metadata": {},
          "output_type": "execute_result"
        }
      ],
      "source": [
        "# Define matrix A_1\n",
        "A_1 = A.copy() # Copy matrix A\n",
        "A_1[:, 0] = b # Replace the first column of A with vector b\n",
        "A_1 # Check if the replacement was successful"
      ]
    },
    {
      "cell_type": "code",
      "execution_count": null,
      "metadata": {
        "id": "Hp5zvFOqo_ON",
        "outputId": "eed86bdd-f401-43a6-a9d0-445cc2a2322c"
      },
      "outputs": [
        {
          "data": {
            "text/latex": [
              "$\\displaystyle -4$"
            ],
            "text/plain": [
              "-4"
            ]
          },
          "execution_count": 5,
          "metadata": {},
          "output_type": "execute_result"
        }
      ],
      "source": [
        "det_A_1 = A_1.det() # Calculate determinant of A_1\n",
        "sol_x = det_A_1 / A.det() # Calculate x_1\n",
        "sol_x # Calculated value of x_1"
      ]
    },
    {
      "cell_type": "code",
      "execution_count": null,
      "metadata": {
        "id": "QFEJzPHqo_ON",
        "outputId": "2a099716-4890-408d-a4cb-bf59ceafcc2f"
      },
      "outputs": [
        {
          "data": {
            "text/latex": [
              "$\\displaystyle \\left[\\begin{matrix}2 & 1 & 1\\\\3 & 2 & 2\\\\1 & 3 & 1\\end{matrix}\\right]$"
            ],
            "text/plain": [
              "Matrix([\n",
              "[2, 1, 1],\n",
              "[3, 2, 2],\n",
              "[1, 3, 1]])"
            ]
          },
          "execution_count": 6,
          "metadata": {},
          "output_type": "execute_result"
        }
      ],
      "source": [
        "# Similarly for y\n",
        "A_2 = A.copy()\n",
        "A_2[:, 1] = b\n",
        "A_2 # Check if the replacement was successful"
      ]
    },
    {
      "cell_type": "code",
      "execution_count": null,
      "metadata": {
        "id": "-lFlIeLXo_ON",
        "outputId": "c6a6b8c1-c461-4490-a19f-7a9b8192d65b"
      },
      "outputs": [
        {
          "data": {
            "text/latex": [
              "$\\displaystyle 1$"
            ],
            "text/plain": [
              "1"
            ]
          },
          "execution_count": 7,
          "metadata": {},
          "output_type": "execute_result"
        }
      ],
      "source": [
        "det_A_2 = A_2.det()\n",
        "sol_y = det_A_2 / A.det()\n",
        "sol_y"
      ]
    },
    {
      "cell_type": "code",
      "execution_count": null,
      "metadata": {
        "id": "6OX6CjSSo_OO",
        "outputId": "26adeced-bd17-4cd3-8a13-6dcbcbf727b5"
      },
      "outputs": [
        {
          "data": {
            "text/latex": [
              "$\\displaystyle 6$"
            ],
            "text/plain": [
              "6"
            ]
          },
          "execution_count": 8,
          "metadata": {},
          "output_type": "execute_result"
        }
      ],
      "source": [
        "# Finally for z\n",
        "A_3 = A.copy()\n",
        "A_3[:, 2] = b\n",
        "det_A_3 = A_3.det()\n",
        "sol_z = det_A_3 / A.det()\n",
        "sol_z"
      ]
    },
    {
      "cell_type": "code",
      "execution_count": null,
      "metadata": {
        "id": "25ngzFyZo_OO",
        "outputId": "fa7c5aa9-d3c6-4550-8e91-1192ebb296d8"
      },
      "outputs": [
        {
          "data": {
            "text/plain": [
              "{x: -4, y: 1, z: 6}"
            ]
          },
          "execution_count": 9,
          "metadata": {},
          "output_type": "execute_result"
        }
      ],
      "source": [
        "# Solve the system of equations\n",
        "sp.solve((eq1, eq2, eq3), (x, y, z))"
      ]
    },
    {
      "cell_type": "markdown",
      "metadata": {
        "id": "AfMri9Lwo_OP"
      },
      "source": [
        "---\n",
        "\n",
        "## Exercises for Students\n",
        "\n",
        "1. Solve the system of equations:\n",
        "   $$\n",
        "   \\begin{cases}\n",
        "   2x_1 - 3x_2 = 7 \\\\\n",
        "   3x_1 + 5x_2 = 2\n",
        "   \\end{cases}\n",
        "   $$\n",
        "\n",
        "2. Solve the system of equations:\n",
        "   $$\n",
        "   \\begin{cases}\n",
        "   2x + y - z = 1 \\\\\n",
        "   x - y + 2z = 4 \\\\\n",
        "   3x - 2z = -1\n",
        "   \\end{cases}\n",
        "   $$\n",
        "\n",
        "3. Solve the system of equations:\n",
        "   $$\n",
        "   \\begin{cases}\n",
        "   x + y + z - t = 2 \\\\\n",
        "   x - z + 2t = 6 \\\\\n",
        "   2x - 3y + t = 4 \\\\\n",
        "   3x + y + 3z - 4t = -2\n",
        "   \\end{cases}\n",
        "   $$\n",
        "\n",
        "4. Why can't the following system of equations be solved using Cramer's rule?\n",
        "$$\n",
        "\\begin{cases}\n",
        "x_1 + 2x_2 + 3x_3 = 3 \\\\\n",
        "4x_1 + 5x_2 + 6x_3 = 2 \\\\\n",
        "7x_1 + 8x_2 + 9x_3 = 1\n",
        "\\end{cases}\n",
        "$$"
      ]
    },
    {
      "cell_type": "markdown",
      "source": [
        "Let's solve the provided systems of equations step by step.\n",
        "\n",
        "---\n",
        "\n",
        "### **1. Solve the system of equations:**\n",
        "$\n",
        "\\begin{aligned}\n",
        "2x_1 - 3x_2 &= 7, \\\\\n",
        "3x_1 + 5x_2 &= 2.\n",
        "\\end{aligned}\n",
        "$\n",
        "\n",
        "#### Step 1: Write in matrix form\n",
        "$\n",
        "\\begin{bmatrix}\n",
        "2 & -3 \\\\\n",
        "3 & 5\n",
        "\\end{bmatrix}\n",
        "\\begin{bmatrix}\n",
        "x_1 \\\\\n",
        "x_2\n",
        "\\end{bmatrix}\n",
        "=\n",
        "\\begin{bmatrix}\n",
        "7 \\\\\n",
        "2\n",
        "\\end{bmatrix}.\n",
        "$\n",
        "\n",
        "#### Step 2: Use elimination or substitution to solve\n",
        "Multiply the first equation by \\( 5 \\) and the second by \\( 3 \\) to eliminate \\( x_2 \\):\n",
        "$\n",
        "\\begin{aligned}\n",
        "10x_1 - 15x_2 &= 35, \\\\\n",
        "9x_1 + 15x_2 &= 6.\n",
        "\\end{aligned}\n",
        "$\n",
        "\n",
        "Add the two equations:\n",
        "$\n",
        "19x_1 = 41 \\quad \\implies \\quad x_1 = \\frac{41}{19}.\n",
        "$\n",
        "\n",
        "Substitute \\( x_1 = \\frac{41}{19} \\) into the first equation:\n",
        "$\n",
        "2\\left(\\frac{41}{19}\\right) - 3x_2 = 7 \\quad \\implies \\quad \\frac{82}{19} - 3x_2 = 7.\n",
        "$\n",
        "\n",
        "Simplify:\n",
        "$\n",
        "3x_2 = \\frac{82}{19} - \\frac{133}{19} = \\frac{-51}{19} \\quad \\implies \\quad x_2 = \\frac{-51}{57} = -\\frac{17}{19}.\n",
        "$\n",
        "\n",
        "#### Solution:\n",
        "$\n",
        "x_1 = \\frac{41}{19}, \\quad x_2 = -\\frac{17}{19}.\n",
        "$\n",
        "\n",
        "---\n",
        "\n",
        "### **2. Solve the system of equations:**\n",
        "$\n",
        "\\begin{aligned}\n",
        "2x + y - z &= 1, \\\\\n",
        "x - y + 2z &= 4, \\\\\n",
        "3x - 2y &= -1.\n",
        "\\end{aligned}\n",
        "$\n",
        "\n",
        "#### Step 1: Write in matrix form\n",
        "$\n",
        "\\begin{bmatrix}\n",
        "2 & 1 & -1 \\\\\n",
        "1 & -1 & 2 \\\\\n",
        "3 & -2 & 0\n",
        "\\end{bmatrix}\n",
        "\\begin{bmatrix}\n",
        "x \\\\\n",
        "y \\\\\n",
        "z\n",
        "\\end{bmatrix}\n",
        "=\n",
        "\\begin{bmatrix}\n",
        "1 \\\\\n",
        "4 \\\\\n",
        "-1\n",
        "\\end{bmatrix}.\n",
        "$\n",
        "\n",
        "#### Step 2: Use elimination to solve\n",
        "Eliminate \\( x \\) from the second and third equations using the first equation:\n",
        "- From equation 2, subtract \\( \\frac{1}{2} \\cdot \\text{(eq. 1)} \\):\n",
        "  $\n",
        "  x - y + 2z - \\frac{1}{2}(2x + y - z) = 4 - \\frac{1}{2}(1).\n",
        "  $\n",
        "  Simplify:\n",
        "  $\n",
        "  -\\frac{1}{2}x - \\frac{3}{2}y + \\frac{5}{2}z = \\frac{7}{2}.\n",
        "  $\n",
        "\n",
        "- From equation 3, subtract \\( \\frac{3}{2} \\cdot \\text{(eq. 1)} \\):\n",
        "  $\n",
        "  3x - 2y - \\frac{3}{2}(2x + y - z) = -1 - \\frac{3}{2}(1).\n",
        "  $\n",
        "  Simplify:\n",
        "  $\n",
        "  -2x - \\frac{5}{2}y + \\frac{3}{2}z = -\\frac{5}{2}.\n",
        "  $\n",
        "\n",
        "Now solve the reduced system using back-substitution.\n",
        "\n",
        "---\n",
        "\n",
        "### **3. Solve the system of equations:**\n",
        "$\n",
        "\\begin{aligned}\n",
        "x + y + z - t &= 2, \\\\\n",
        "x - z + 2t &= 6, \\\\\n",
        "2x - 3y + t &= 4, \\\\\n",
        "3x + y + 3z - 4t &= -2.\n",
        "\\end{aligned}\n",
        "$\n",
        "\n",
        "\n",
        "---\n",
        "\n",
        "### **4. Why can't the system be solved using Cramer's rule?**\n",
        "The system is:\n",
        "$\n",
        "\\begin{aligned}\n",
        "x_1 + 2x_2 + 3x_3 &= 3, \\\\\n",
        "4x_1 + 5x_2 + 6x_3 &= 2, \\\\\n",
        "7x_1 + 8x_2 + 9x_3 &= 1.\n",
        "\\end{aligned}\n",
        "$\n",
        "\n",
        "#### Step 1: Determinant of the coefficient matrix\n",
        "The coefficient matrix is:\n",
        "$\n",
        "\\begin{bmatrix}\n",
        "1 & 2 & 3 \\\\\n",
        "4 & 5 & 6 \\\\\n",
        "7 & 8 & 9\n",
        "\\end{bmatrix}.\n",
        "$\n",
        "\n",
        "The determinant of this matrix is:\n",
        "$\n",
        "\\det =\n",
        "1(5 \\cdot 9 - 6 \\cdot 8) - 2(4 \\cdot 9 - 6 \\cdot 7) + 3(4 \\cdot 8 - 5 \\cdot 7).\n",
        "$\n",
        "\n",
        "Simplify:\n",
        "$\n",
        "\\det = 1(45 - 48) - 2(36 - 42) + 3(32 - 35),\n",
        "$\n",
        "$\n",
        "\\det = -3 + 12 - 9 = 0.\n",
        "$\n",
        "\n",
        "\n"
      ],
      "metadata": {
        "id": "M930zNpLpPcu"
      }
    },
    {
      "cell_type": "code",
      "source": [
        "import numpy as np\n",
        "\n",
        "# Define the coefficient matrix and the constant vector\n",
        "A = np.array([[2, -3], [3, 5]])\n",
        "b = np.array([7, 2])\n",
        "\n",
        "# Calculate the determinant of the coefficient matrix\n",
        "det_A = np.linalg.det(A)\n",
        "\n",
        "# If the determinant is non-zero, proceed with Cramer's rule\n",
        "if det_A != 0:\n",
        "  # Calculate the determinants of the matrices obtained by replacing\n",
        "  # the columns with the constant vector\n",
        "  A1 = np.array([[b[0], A[0, 1]], [b[1], A[1, 1]]])\n",
        "  A2 = np.array([[A[0, 0], b[0]], [A[1, 0], b[1]]])\n",
        "  det_A1 = np.linalg.det(A1)\n",
        "  det_A2 = np.linalg.det(A2)\n",
        "\n",
        "  # Calculate the solutions\n",
        "  x1 = det_A1 / det_A\n",
        "  x2 = det_A2 / det_A\n",
        "\n",
        "  print(f\"x1 = {x1}, x2 = {x2}\")\n",
        "else:\n",
        "  print(\"The system cannot be solved using Cramer's rule (determinant is zero).\")"
      ],
      "metadata": {
        "id": "a9jCLTnDp-ML"
      },
      "execution_count": null,
      "outputs": []
    },
    {
      "cell_type": "code",
      "source": [
        "import numpy as np\n",
        "\n",
        "# Define the coefficient matrix and the constant vector\n",
        "A = np.array([[2, 1, -1], [1, -1, 2], [3, 0, -2]])  # Corrected the matrix\n",
        "b = np.array([1, 4, -1])\n",
        "\n",
        "# Calculate the determinant of the coefficient matrix\n",
        "det_A = np.linalg.det(A)\n",
        "\n",
        "# If the determinant is non-zero, proceed with Cramer's rule\n",
        "if det_A != 0:\n",
        "  # Calculate the determinants of the matrices obtained by replacing\n",
        "  # the columns with the constant vector\n",
        "  A1 = np.array([[b[0], A[0, 1], A[0, 2]], [b[1], A[1, 1], A[1, 2]], [b[2], A[2, 1], A[2, 2]]])\n",
        "  A2 = np.array([[A[0, 0], b[0], A[0, 2]], [A[1, 0], b[1], A[1, 2]], [A[2, 0], b[2], A[2, 2]]])\n",
        "  A3 = np.array([[A[0, 0], A[0, 1], b[0]], [A[1, 0], A[1, 1], b[1]], [A[2, 0], A[2, 1], b[2]]])\n",
        "  det_A1 = np.linalg.det(A1)\n",
        "  det_A2 = np.linalg.det(A2)\n",
        "  det_A3 = np.linalg.det(A3)\n",
        "\n",
        "  # Calculate the solutions\n",
        "  x = det_A1 / det_A\n",
        "  y = det_A2 / det_A\n",
        "  z = det_A3 / det_A\n",
        "\n",
        "  print(f\"x = {x}, y = {y}, z = {z}\")\n",
        "else:\n",
        "  print(\"The system cannot be solved using Cramer's rule (determinant is zero).\")"
      ],
      "metadata": {
        "id": "aUWTdzLBp_Ur"
      },
      "execution_count": null,
      "outputs": []
    },
    {
      "cell_type": "code",
      "source": [
        "import numpy as np\n",
        "\n",
        "A = np.array([[1, 2, 3], [4, 5, 6], [7, 8, 9]])\n",
        "det_A = np.linalg.det(A)\n",
        "print(det_A)  # Output: 0.0"
      ],
      "metadata": {
        "id": "axwwM3KmqCHW"
      },
      "execution_count": null,
      "outputs": []
    }
  ],
  "metadata": {
    "kernelspec": {
      "display_name": "Python 3",
      "language": "python",
      "name": "python3"
    },
    "language_info": {
      "codemirror_mode": {
        "name": "ipython",
        "version": 3
      },
      "file_extension": ".py",
      "mimetype": "text/x-python",
      "name": "python",
      "nbconvert_exporter": "python",
      "pygments_lexer": "ipython3",
      "version": "3.11.9"
    },
    "colab": {
      "provenance": [],
      "include_colab_link": true
    }
  },
  "nbformat": 4,
  "nbformat_minor": 0
}