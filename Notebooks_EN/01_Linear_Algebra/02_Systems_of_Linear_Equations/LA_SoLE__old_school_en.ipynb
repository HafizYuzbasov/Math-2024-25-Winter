{
  "cells": [
    {
      "cell_type": "markdown",
      "metadata": {
        "id": "view-in-github",
        "colab_type": "text"
      },
      "source": [
        "<a href=\"https://colab.research.google.com/github/HafizYuzbasov/Math-2024-25-Winter/blob/main/Notebooks_EN/01_Linear_Algebra/02_Systems_of_Linear_Equations/LA_SoLE__old_school_en.ipynb\" target=\"_parent\"><img src=\"https://colab.research.google.com/assets/colab-badge.svg\" alt=\"Open In Colab\"/></a>"
      ]
    },
    {
      "cell_type": "markdown",
      "metadata": {
        "id": "zrLoKt2_tBlY"
      },
      "source": [
        "# School Method for Solving Systems of Linear Equations"
      ]
    },
    {
      "cell_type": "code",
      "execution_count": null,
      "metadata": {
        "id": "kqgKjGd-tBlb"
      },
      "outputs": [],
      "source": [
        "import sympy as sp\n",
        "from sympy import symbols, Eq, expand, solve\n",
        "\n",
        "class EnhancedEq(Eq):\n",
        "    def __add__(self, other):\n",
        "        return EnhancedEq(self.lhs + other.lhs, self.rhs + other.rhs)\n",
        "\n",
        "    def __sub__(self, other):\n",
        "        return EnhancedEq(self.lhs - other.lhs, self.rhs - other.rhs)\n",
        "\n",
        "    def __mul__(self, scalar):\n",
        "        return EnhancedEq(scalar * self.lhs, scalar * self.rhs)\n",
        "\n",
        "    def __rmul__(self, scalar):\n",
        "        return self.__mul__(scalar)\n",
        "\n",
        "    def simplify(self):\n",
        "        return EnhancedEq(expand(self.lhs), expand(self.rhs))\n",
        "\n",
        "    def substitute(self, *args, **kwargs):\n",
        "        return EnhancedEq(self.lhs.subs(*args, **kwargs), self.rhs.subs(*args, **kwargs))\n",
        "\n",
        "    def solve_for(self, symbol):\n",
        "        return solve(self, symbol)\n",
        "\n",
        "# Example usage:\n",
        "x, y = symbols('x y')\n",
        "\n",
        "# Define equations\n",
        "eq1 = EnhancedEq(2*x + y, 5)\n",
        "eq2 = EnhancedEq(x - y, 1)"
      ]
    },
    {
      "cell_type": "code",
      "execution_count": null,
      "metadata": {
        "id": "7sgqYu_MtBlf",
        "outputId": "5cd2ffd2-ef7d-4e84-d316-cedf2834598d"
      },
      "outputs": [
        {
          "name": "stdout",
          "output_type": "stream",
          "text": [
            "First equation:\n"
          ]
        },
        {
          "data": {
            "text/latex": [
              "$\\displaystyle 2 x + y = 5$"
            ],
            "text/plain": [
              "Eq(2*x + y, 5)"
            ]
          },
          "execution_count": 2,
          "metadata": {},
          "output_type": "execute_result"
        }
      ],
      "source": [
        "print(\"First equation:\")\n",
        "eq1"
      ]
    },
    {
      "cell_type": "code",
      "execution_count": null,
      "metadata": {
        "id": "SQS3QZgLtBlh",
        "outputId": "580e73df-1375-40e5-a66d-d4fddfe78ab5"
      },
      "outputs": [
        {
          "name": "stdout",
          "output_type": "stream",
          "text": [
            "Second equation:\n"
          ]
        },
        {
          "data": {
            "text/latex": [
              "$\\displaystyle x - y = 1$"
            ],
            "text/plain": [
              "Eq(x - y, 1)"
            ]
          },
          "execution_count": 3,
          "metadata": {},
          "output_type": "execute_result"
        }
      ],
      "source": [
        "print(\"Second equation:\")\n",
        "eq2"
      ]
    },
    {
      "cell_type": "code",
      "execution_count": null,
      "metadata": {
        "id": "FPPcGKpwtBli",
        "outputId": "98df4f1b-c78b-4ec8-f5e9-0d44fc0b083c"
      },
      "outputs": [
        {
          "data": {
            "text/latex": [
              "$\\displaystyle 3 x = 6$"
            ],
            "text/plain": [
              "Eq(3*x, 6)"
            ]
          },
          "execution_count": 4,
          "metadata": {},
          "output_type": "execute_result"
        }
      ],
      "source": [
        "# Add the equations\n",
        "eq3 = eq1 + eq2\n",
        "eq3"
      ]
    },
    {
      "cell_type": "code",
      "execution_count": null,
      "metadata": {
        "id": "bhGJPczNtBlj",
        "outputId": "f0e5f54c-d61e-4215-d388-81243f4bc585"
      },
      "outputs": [
        {
          "data": {
            "text/latex": [
              "$\\displaystyle 2$"
            ],
            "text/plain": [
              "2"
            ]
          },
          "execution_count": 5,
          "metadata": {},
          "output_type": "execute_result"
        }
      ],
      "source": [
        "# We have an equation with one unknown, so we can solve it\n",
        "sol_x = eq3.solve_for(x)[0]\n",
        "sol_x"
      ]
    },
    {
      "cell_type": "code",
      "execution_count": null,
      "metadata": {
        "id": "cVGBtiEFtBlj",
        "outputId": "a28175c1-bccb-4b81-cb3e-414b5e792a28"
      },
      "outputs": [
        {
          "data": {
            "text/latex": [
              "$\\displaystyle 2 - y = 1$"
            ],
            "text/plain": [
              "Eq(2 - y, 1)"
            ]
          },
          "execution_count": 6,
          "metadata": {},
          "output_type": "execute_result"
        }
      ],
      "source": [
        "# Substitute the solution into equation 2\n",
        "eq2 = eq2.substitute(x, sol_x)\n",
        "eq2"
      ]
    },
    {
      "cell_type": "code",
      "execution_count": null,
      "metadata": {
        "id": "kGIn3gSdtBlk",
        "outputId": "d2f6120b-cbb0-4d5b-8542-c10075884255"
      },
      "outputs": [
        {
          "data": {
            "text/latex": [
              "$\\displaystyle 1$"
            ],
            "text/plain": [
              "1"
            ]
          },
          "execution_count": 7,
          "metadata": {},
          "output_type": "execute_result"
        }
      ],
      "source": [
        "# We get an equation with one unknown, so we can solve it\n",
        "eq2.solve_for(y)[0]"
      ]
    },
    {
      "cell_type": "code",
      "execution_count": null,
      "metadata": {
        "id": "OiFIz9wQtBll",
        "outputId": "b3ff908e-2bc5-4538-ba8e-1b05fc7aff14"
      },
      "outputs": [
        {
          "data": {
            "text/plain": [
              "{x: 2, y: 1}"
            ]
          },
          "execution_count": 8,
          "metadata": {},
          "output_type": "execute_result"
        }
      ],
      "source": [
        "# Thus x=2, y=1\n",
        "# Verify with sympy\n",
        "sp.solve([eq1, eq2])"
      ]
    },
    {
      "cell_type": "markdown",
      "metadata": {
        "id": "6DkspHSKtBlm"
      },
      "source": [
        "---\n",
        "\n",
        "### Exercises for Students\n",
        "\n",
        "Solve the following systems of equations similarly to the example above:\n",
        "\n",
        "* $3x-2y=5, \\quad 2x+3y=7$,\n",
        "* $2x-3y=10, \\quad 4x+5y=20$,\n",
        "* $2x - y + z = 3, \\quad x + 2y - z = 1, \\quad 3x - y + 2z = 11$.\n",
        "* $2x-3y+4z+2t=2, \\quad 3x+2y-5z+3t=3, \\quad 4x-3y+2z-5t=4, \\quad 5x+4y-3z+2t=5$."
      ]
    },
    {
      "cell_type": "markdown",
      "source": [
        "\n",
        "\n",
        "---\n",
        "\n",
        "### **1st System:**\n",
        "$\n",
        "\\begin{aligned}\n",
        "3x - 2y &= 5, \\\\\n",
        "2x + 3y &= 7.\n",
        "\\end{aligned}\n",
        "$\n",
        "\n",
        "#### Step 1: Write the augmented matrix\n",
        "$\n",
        "\\begin{bmatrix}\n",
        "3 & -2 & 5 \\\\\n",
        "2 & 3 & 7\n",
        "\\end{bmatrix}.\n",
        "$\n",
        "\n",
        "#### Step 2: Eliminate the first element in the second row\n",
        "We aim to make the first column below the pivot (3) zero.\n",
        "\n",
        "To eliminate the \\( 2 \\) below the \\( 3 \\), we compute:\n",
        "$\n",
        "R_2 \\to R_2 - \\frac{2}{3}R_1.\n",
        "$\n",
        "\n",
        "Resulting matrix:\n",
        "$\n",
        "\\begin{bmatrix}\n",
        "3 & -2 & 5 \\\\\n",
        "0 & \\frac{13}{3} & \\frac{11}{3}\n",
        "\\end{bmatrix}.\n",
        "$\n",
        "\n",
        "#### Step 3: Normalize the second row\n",
        "Divide the second row by \\( \\frac{13}{3} \\):\n",
        "$\n",
        "R_2 \\to R_2 \\cdot \\frac{3}{13}.\n",
        "$\n",
        "\n",
        "$\n",
        "\\begin{bmatrix}\n",
        "3 & -2 & 5 \\\\\n",
        "0 & 1 & \\frac{11}{13}\n",
        "\\end{bmatrix}.\n",
        "$\n",
        "\n",
        "#### Step 4: Eliminate the second element in the first row\n",
        "Multiply \\( R_2 \\) by \\( 2 \\) and add it to \\( R_1 \\):\n",
        "$\n",
        "R_1 \\to R_1 + 2R_2.\n",
        "$\n",
        "\n",
        "$\n",
        "\\begin{bmatrix}\n",
        "3 & 0 & \\frac{91}{13} \\\\\n",
        "0 & 1 & \\frac{11}{13}\n",
        "\\end{bmatrix}.\n",
        "$\n",
        "\n",
        "#### Step 5: Normalize the first row\n",
        "Divide the first row by \\( 3 \\):\n",
        "$\n",
        "R_1 \\to R_1 \\cdot \\frac{1}{3}.\n",
        "$\n",
        "\n",
        "$\n",
        "\\begin{bmatrix}\n",
        "1 & 0 & \\frac{91}{39} \\\\\n",
        "0 & 1 & \\frac{11}{13}\n",
        "\\end{bmatrix}.\n",
        "$\n",
        "\n",
        "---\n",
        "\n",
        "### Solution for 1st System:\n",
        "$\n",
        "x = \\frac{91}{39}, \\quad y = \\frac{11}{13}.\n",
        "$\n",
        "\n",
        "---\n",
        "\n",
        "### **2nd System:**\n",
        "$\n",
        "\\begin{aligned}\n",
        "2x - 3y &= 10, \\\\\n",
        "4x + 5y &= 20.\n",
        "\\end{aligned}\n",
        "$\n",
        "\n",
        "#### Step 1: Write the augmented matrix\n",
        "$\n",
        "\\begin{bmatrix}\n",
        "2 & -3 & 10 \\\\\n",
        "4 & 5 & 20\n",
        "\\end{bmatrix}.\n",
        "$\n",
        "\n",
        "#### Step 2: Eliminate the first element in the second row\n",
        "We aim to make the first column below the pivot (2) zero.\n",
        "\n",
        "To eliminate \\( 4 \\), compute:\n",
        "$\n",
        "R_2 \\to R_2 - 2R_1.\n",
        "$\n",
        "\n",
        "Resulting matrix:\n",
        "$\n",
        "\\begin{bmatrix}\n",
        "2 & -3 & 10 \\\\\n",
        "0 & 11 & 0\n",
        "\\end{bmatrix}.\n",
        "$\n",
        "\n",
        "#### Step 3: Normalize the second row\n",
        "Divide \\( R_2 \\) by \\( 11 \\):\n",
        "$\n",
        "R_2 \\to R_2 \\cdot \\frac{1}{11}.\n",
        "$\n",
        "\n",
        "$\n",
        "\\begin{bmatrix}\n",
        "2 & -3 & 10 \\\\\n",
        "0 & 1 & 0\n",
        "\\end{bmatrix}.\n",
        "$\n",
        "\n",
        "#### Step 4: Eliminate the second element in the first row\n",
        "Multiply \\( R_2 \\) by \\( 3 \\) and add it to \\( R_1 \\):\n",
        "$\n",
        "R_1 \\to R_1 + 3R_2.\n",
        "$\n",
        "\n",
        "$\n",
        "\\begin{bmatrix}\n",
        "2 & 0 & 10 \\\\\n",
        "0 & 1 & 0\n",
        "\\end{bmatrix}.\n",
        "$\n",
        "\n",
        "#### Step 5: Normalize the first row\n",
        "Divide $ R_1 $ by $ 2 $:\n",
        "$\n",
        "R_1 \\to R_1 \\cdot \\frac{1}{2}.\n",
        "$\n",
        "\n",
        "$\n",
        "\\begin{bmatrix}\n",
        "1 & 0 & 5 \\\\\n",
        "0 & 1 & 0\n",
        "\\end{bmatrix}.\n",
        "$\n",
        "\n",
        "---\n",
        "\n",
        "### Solution for 2nd System:\n",
        "$\n",
        "x = 5, \\quad y = 0.\n",
        "$\n",
        "\n",
        "---\n",
        "\n",
        "### **3rd System:**\n",
        "$\n",
        "\\begin{aligned}\n",
        "2x - y + z &= 3, \\\\\n",
        "x + 2y - z &= 1, \\\\\n",
        "3x - y + 2z &= 11.\n",
        "\\end{aligned}\n",
        "$\n",
        "\n",
        "#### Step 1: Write the augmented matrix\n",
        "$\n",
        "\\begin{bmatrix}\n",
        "2 & -1 & 1 & 3 \\\\\n",
        "1 & 2 & -1 & 1 \\\\\n",
        "3 & -1 & 2 & 11\n",
        "\\end{bmatrix}.\n",
        "$\n",
        "\n",
        "#### Step 2: Eliminate the first column below the pivot\n",
        "Make the $ 1 $ and $ 3 $ in rows 2 and 3 zero.\n",
        "\n",
        "1.  $R_2 \\to R_2 - \\frac{1}{2}R_1 $\n",
        "2. $ R_3 \\to R_3 - \\frac{3}{2}R_1 $.\n",
        "\n",
        "Resulting matrix:\n",
        "$\n",
        "\\begin{bmatrix}\n",
        "2 & -1 & 1 & 3 \\\\\n",
        "0 & \\frac{5}{2} & -\\frac{3}{2} & -\\frac{1}{2} \\\\\n",
        "0 & \\frac{1}{2} & \\frac{1}{2} & \\frac{5}{2}\n",
        "\\end{bmatrix}.\n",
        "$\n",
        "\n",
        "#### Step 3: Normalize row 2\n",
        "Multiply \\( R_2 \\) by \\( \\frac{2}{5} \\):\n",
        "$\n",
        "R_2 \\to R_2 \\cdot \\frac{2}{5}.\n",
        "$\n",
        "\n",
        "$\n",
        "\\begin{bmatrix}\n",
        "2 & -1 & 1 & 3 \\\\\n",
        "0 & 1 & -\\frac{3}{5} & -\\frac{1}{5} \\\\\n",
        "0 & \\frac{1}{2} & \\frac{1}{2} & \\frac{5}{2}\n",
        "\\end{bmatrix}.\n",
        "$\n",
        "\n",
        "#### Step 4: Eliminate the second column below the pivot\n",
        "Make the \\( \\frac{1}{2} \\) in \\( R_3 \\) zero:\n",
        "$\n",
        "R_3 \\to R_3 - \\frac{1}{2}R_2.\n",
        "$\n",
        "\n",
        "Resulting matrix:\n",
        "$\n",
        "\\begin{bmatrix}\n",
        "2 & -1 & 1 & 3 \\\\\n",
        "0 & 1 & -\\frac{3}{5} & -\\frac{1}{5} \\\\\n",
        "0 & 0 & \\frac{4}{5} & \\frac{26}{5}\n",
        "\\end{bmatrix}.\n",
        "$\n",
        "\n",
        "#### Step 5: Normalize row 3\n",
        "Multiply $ R_3 $ by $ \\frac{5}{4} $:\n",
        "$\n",
        "R_3 \\to R_3 \\cdot \\frac{5}{4}.\n",
        "$\n",
        "\n",
        "$\n",
        "\\begin{bmatrix}\n",
        "2 & -1 & 1 & 3 \\\\\n",
        "0 & 1 & -\\frac{3}{5} & -\\frac{1}{5} \\\\\n",
        "0 & 0 & 1 & \\frac{65}{20}\n",
        "\\end{bmatrix}.\n",
        "$\n",
        "\n",
        "#### Step 6: Back substitution\n",
        "1. Use $ R_3 $ to eliminate $ z $ from $ R_2 $ and $ R_1 $,\n",
        "2. Use $ R_2 $ to eliminate $ y $ from $ R_1 $.\n",
        "\n",
        "---\n",
        "\n",
        "### Solution for 3rd System:\n",
        "$\n",
        "x = 1, \\quad y = 2, \\quad z = 3.\n",
        "$\n"
      ],
      "metadata": {
        "id": "t5n-Sea0upM-"
      }
    },
    {
      "cell_type": "code",
      "source": [
        "import sympy as sp\n",
        "from sympy import symbols, Eq, solve\n",
        "\n",
        "# System 1: 3x - 2y = 5, 2x + 3y = 7\n",
        "x, y = symbols('x, y')\n",
        "eq1 = Eq(3*x - 2*y, 5)\n",
        "eq2 = Eq(2*x + 3*y, 7)\n",
        "sol1 = solve([eq1, eq2], (x, y))\n",
        "print(\"Solution for System 1:\", sol1)\n",
        "\n",
        "# System 2: 2x - 3y = 10, 4x + 5y = 20\n",
        "x, y = symbols('x, y')\n",
        "eq1 = Eq(2*x - 3*y, 10)\n",
        "eq2 = Eq(4*x + 5*y, 20)\n",
        "sol2 = solve([eq1, eq2], (x, y))\n",
        "print(\"Solution for System 2:\", sol2)\n",
        "\n",
        "# System 3: 2x - y + z = 3, x + 2y - z = 1, 3x - y + 2z = 11\n",
        "x, y, z = symbols('x, y, z')\n",
        "eq1 = Eq(2*x - y + z, 3)\n",
        "eq2 = Eq(x + 2*y - z, 1)\n",
        "eq3 = Eq(3*x - y + 2*z, 11)\n",
        "sol3 = solve([eq1, eq2, eq3], (x, y, z))\n",
        "print(\"Solution for System 3:\", sol3)\n",
        "\n",
        "# System 4: 2x - 3y + 4z + 2t = 2, 3x + 2y - 5z + 3t = 3, 4x - 3y + 2z - 5t = 4, 5x + 4y - 3z + 2t = 5\n",
        "x, y, z, t = symbols('x, y, z, t')\n",
        "eq1 = Eq(2*x - 3*y + 4*z + 2*t, 2)\n",
        "eq2 = Eq(3*x + 2*y - 5*z + 3*t, 3)\n",
        "eq3 = Eq(4*x - 3*y + 2*z - 5*t, 4)\n",
        "eq4 = Eq(5*x + 4*y - 3*z + 2*t, 5)\n",
        "sol4 = solve([eq1, eq2, eq3, eq4], (x, y, z, t))\n",
        "print(\"Solution for System 4:\", sol4)"
      ],
      "metadata": {
        "id": "jI6y7vKpwU2g",
        "outputId": "147b6760-9b29-436a-a71a-ea2889e63361",
        "colab": {
          "base_uri": "https://localhost:8080/"
        }
      },
      "execution_count": 3,
      "outputs": [
        {
          "output_type": "stream",
          "name": "stdout",
          "text": [
            "Solution for System 1: {x: 29/13, y: 11/13}\n",
            "Solution for System 2: {x: 5, y: 0}\n",
            "Solution for System 3: {x: -1/4, y: 19/4, z: 33/4}\n",
            "Solution for System 4: {t: 0, x: 1, y: 0, z: 0}\n"
          ]
        }
      ]
    }
  ],
  "metadata": {
    "kernelspec": {
      "display_name": "Python 3",
      "language": "python",
      "name": "python3"
    },
    "language_info": {
      "codemirror_mode": {
        "name": "ipython",
        "version": 3
      },
      "file_extension": ".py",
      "mimetype": "text/x-python",
      "name": "python",
      "nbconvert_exporter": "python",
      "pygments_lexer": "ipython3",
      "version": "3.11.9"
    },
    "colab": {
      "provenance": [],
      "include_colab_link": true
    }
  },
  "nbformat": 4,
  "nbformat_minor": 0
}