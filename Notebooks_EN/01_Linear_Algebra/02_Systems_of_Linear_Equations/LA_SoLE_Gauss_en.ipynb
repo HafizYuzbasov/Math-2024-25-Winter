{
  "cells": [
    {
      "cell_type": "markdown",
      "metadata": {
        "id": "view-in-github",
        "colab_type": "text"
      },
      "source": [
        "<a href=\"https://colab.research.google.com/github/HafizYuzbasov/Math-2024-25-Winter/blob/main/Notebooks_EN/01_Linear_Algebra/02_Systems_of_Linear_Equations/LA_SoLE_Gauss_en.ipynb\" target=\"_parent\"><img src=\"https://colab.research.google.com/assets/colab-badge.svg\" alt=\"Open In Colab\"/></a>"
      ]
    },
    {
      "cell_type": "markdown",
      "metadata": {
        "id": "ilajjYIuqXUh"
      },
      "source": [
        "# Gaussian Elimination Method\n",
        "\n",
        "Solving a system of linear equations using the Gaussian elimination method involves transforming the coefficient matrix of the system into an upper triangular matrix, followed by solving the system using back substitution.\n",
        "\n",
        "This is one of the most fundamental methods for solving systems of linear equations, especially in cases where the number of unknowns is different from the number of equations."
      ]
    },
    {
      "cell_type": "code",
      "execution_count": null,
      "metadata": {
        "id": "HA5T8viyqXUk",
        "outputId": "cfec3eb5-0519-4096-e36f-c92f0336a92e"
      },
      "outputs": [
        {
          "data": {
            "text/markdown": [
              "**Initial equations:**"
            ],
            "text/plain": [
              "<IPython.core.display.Markdown object>"
            ]
          },
          "metadata": {},
          "output_type": "display_data"
        },
        {
          "data": {
            "text/markdown": [
              "System of equations:"
            ],
            "text/plain": [
              "<IPython.core.display.Markdown object>"
            ]
          },
          "metadata": {},
          "output_type": "display_data"
        },
        {
          "data": {
            "text/markdown": [
              "$$\\begin{aligned} 1 x_{1} + 2 x_{2} + 3 x_{3} = 10 \\\\ 4 x_{1} + 5 x_{2} + 6 x_{3} = 11 \\\\ 7 x_{1} + 8 x_{2} + 12 x_{3} = 18 \\end{aligned}$$"
            ],
            "text/plain": [
              "<IPython.core.display.Markdown object>"
            ]
          },
          "metadata": {},
          "output_type": "display_data"
        }
      ],
      "source": [
        "from sympy import Matrix, symbols, Eq, latex\n",
        "from IPython.display import display, Markdown\n",
        "import sympy as sp\n",
        "\n",
        "class SymbolicMatrix:\n",
        "    def __init__(self, matrix, column_labels=None, free_terms=None, display_mode=\"table\"):\n",
        "        self.matrix = Matrix(matrix)\n",
        "        self.operations = []\n",
        "        self.display_mode = display_mode\n",
        "\n",
        "        if column_labels:\n",
        "            if len(column_labels) != self.matrix.cols:\n",
        "                raise ValueError(\"The number of column labels must be equal to the number of columns in the matrix.\")\n",
        "            self.column_labels = column_labels\n",
        "        else:\n",
        "            self.column_labels = [f\"x{i+1}\" for i in range(self.matrix.cols)]\n",
        "\n",
        "        if free_terms:\n",
        "            if len(free_terms) != self.matrix.rows:\n",
        "                raise ValueError(\"The number of free terms must be equal to the number of rows in the matrix.\")\n",
        "            self.free_terms = free_terms\n",
        "        else:\n",
        "            self.free_terms = [0 for _ in range(self.matrix.rows)]\n",
        "\n",
        "        display(Markdown(\"**Initial equations:**\"))\n",
        "        self.display_matrix()\n",
        "\n",
        "    def set_display_mode(self, mode):\n",
        "        if mode not in [\"table\", \"equations\"]:\n",
        "            raise ValueError(\"Display mode must be 'table' or 'equations'.\")\n",
        "        self.display_mode = mode\n",
        "\n",
        "    def display_matrix(self):\n",
        "        if self.display_mode == \"table\":\n",
        "            self._display_table()\n",
        "        elif self.display_mode == \"equations\":\n",
        "            self._display_equations()\n",
        "\n",
        "    def _display_table(self):\n",
        "        matrix_with_free_terms = self.matrix.row_join(Matrix(self.free_terms))\n",
        "        headers = self.column_labels + [\"Free term\"]\n",
        "        display(Markdown(self._matrix_to_markdown(matrix_with_free_terms, headers)))\n",
        "\n",
        "    def _matrix_to_markdown(self, matrix, headers):\n",
        "        markdown_str = \"| \" + \" | \".join(headers) + \" |\\n\"\n",
        "        markdown_str += \"| \" + \" | \".join([\"---\"] * len(headers)) + \" |\\n\"\n",
        "        for i in range(matrix.rows):\n",
        "            row = [str(matrix[i, j]) for j in range(matrix.cols)]\n",
        "            markdown_str += \"| \" + \" | \".join(row) + \" |\\n\"\n",
        "        return markdown_str\n",
        "\n",
        "    def _display_equations(self):\n",
        "        equations = []\n",
        "        for i in range(self.matrix.rows):\n",
        "            terms = []\n",
        "            for j in range(self.matrix.cols):\n",
        "                coef = self.matrix[i, j]\n",
        "                var = symbols(self.column_labels[j])\n",
        "\n",
        "                # Check if the coefficient is positive, negative, or zero\n",
        "                if coef > 0:\n",
        "                    if j == 0:\n",
        "                        terms.append(f\"{latex(coef)} {latex(var)}\")\n",
        "                    else:\n",
        "                        terms.append(f\"+ {latex(coef)} {latex(var)}\")\n",
        "                elif coef < 0:\n",
        "                    terms.append(f\"- {latex(abs(coef))} {latex(var)}\")\n",
        "                elif coef == 0:\n",
        "                    if j == 0:\n",
        "                        terms.append(f\"0 {latex(var)}\")\n",
        "                    else:\n",
        "                        terms.append(f\"+0 {latex(var)}\")\n",
        "\n",
        "            lhs = \" \".join(terms)\n",
        "            rhs = latex(self.free_terms[i])\n",
        "\n",
        "            equation = f\"{lhs} = {rhs}\"\n",
        "            equations.append(equation)\n",
        "\n",
        "        display(Markdown(\"System of equations:\"))\n",
        "        display(Markdown(f\"$$\\\\begin{{aligned}} {self._equations_to_latex(equations)} \\\\end{{aligned}}$$\"))\n",
        "\n",
        "    def _equations_to_latex(self, equations):\n",
        "        return \" \\\\\\\\ \".join(equations)\n",
        "\n",
        "    def add_row(self, target_row, source_row, coefficient):\n",
        "        target_idx = self._validate_row_number(target_row)\n",
        "        source_idx = self._validate_row_number(source_row)\n",
        "\n",
        "        # Operation on the matrix\n",
        "        self.matrix.row_op(target_idx, lambda v, j: v + coefficient * self.matrix[source_idx, j])\n",
        "\n",
        "        # Operation on the free terms\n",
        "        self.free_terms[target_idx] += coefficient * self.free_terms[source_idx]\n",
        "\n",
        "        operation_str = f\"r{target_row} = r{target_row} + {coefficient}*r{source_row}\"\n",
        "        self.operations.append(operation_str)\n",
        "        display(Markdown(f\"**Operation:** {operation_str}\"))\n",
        "        self.display_matrix()\n",
        "\n",
        "    def multiply_row(self, row, coefficient):\n",
        "        row_idx = self._validate_row_number(row)\n",
        "\n",
        "        # Operation on the matrix\n",
        "        self.matrix.row_op(row_idx, lambda v, _: coefficient * v)\n",
        "\n",
        "        # Operation on the free terms\n",
        "        self.free_terms[row_idx] *= coefficient\n",
        "\n",
        "        operation_str = f\"r{row} = {coefficient}*r{row}\"\n",
        "        self.operations.append(operation_str)\n",
        "        display(Markdown(f\"**Operation:** {operation_str}\"))\n",
        "        self.display_matrix()\n",
        "\n",
        "    def swap_rows(self, row1, row2):\n",
        "        row1_idx = self._validate_row_number(row1)\n",
        "        row2_idx = self._validate_row_number(row2)\n",
        "\n",
        "        self.matrix.row_swap(row1_idx, row2_idx)\n",
        "        self.free_terms[row1_idx], self.free_terms[row2_idx] = self.free_terms[row2_idx], self.free_terms[row1_idx]\n",
        "\n",
        "        operation_str = f\"Swap r{row1} <-> r{row2}\"\n",
        "        self.operations.append(operation_str)\n",
        "        display(Markdown(f\"**Operation:** {operation_str}\"))\n",
        "        self.display_matrix()\n",
        "\n",
        "    def swap_columns(self, col1, col2):\n",
        "        col1_idx = self._validate_col_number(col1)\n",
        "        col2_idx = self._validate_col_number(col2)\n",
        "\n",
        "        self.matrix.col_swap(col1_idx, col2_idx)\n",
        "        self.column_labels[col1_idx], self.column_labels[col2_idx] = self.column_labels[col2_idx], self.column_labels[col1_idx]\n",
        "\n",
        "        operation_str = f\"Swap col{col1} <-> col{col2}\"\n",
        "        self.operations.append(operation_str)\n",
        "        display(Markdown(f\"**Operation:** {operation_str}\"))\n",
        "        self.display_matrix()\n",
        "\n",
        "    def _validate_row_number(self, row):\n",
        "        if not isinstance(row, int):\n",
        "            raise TypeError(\"Row number must be an integer.\")\n",
        "        if row < 1 or row > self.matrix.rows:\n",
        "            raise IndexError(f\"Row number must be between 1 and {self.matrix.rows}.\")\n",
        "        return row - 1\n",
        "\n",
        "    def _validate_col_number(self, col):\n",
        "        if not isinstance(col, int):\n",
        "            raise TypeError(\"Column number must be an integer.\")\n",
        "        if col < 1 or col > self.matrix.cols:\n",
        "            raise IndexError(f\"Column number must be between 1 and {self.matrix.cols}.\")\n",
        "        return col - 1\n",
        "\n",
        "    def print_operations(self):\n",
        "        display(Markdown(\"**Performed operations:**\"))\n",
        "        for op in self.operations:\n",
        "            print(op)\n",
        "\n",
        "# Example usage:\n",
        "m = SymbolicMatrix([[1,2,3], [4,5,6], [7,8,12]], column_labels=[\"x1\", \"x2\", \"x3\"], free_terms=[10, 11, 18], display_mode=\"equations\")\n"
      ]
    },
    {
      "cell_type": "code",
      "execution_count": null,
      "metadata": {
        "id": "ONMyd8tqqXUo",
        "outputId": "8b763c63-820a-4652-c11e-b533768b153e"
      },
      "outputs": [
        {
          "data": {
            "text/markdown": [
              "**Operation:** r2 = r2 + -4*r1"
            ],
            "text/plain": [
              "<IPython.core.display.Markdown object>"
            ]
          },
          "metadata": {},
          "output_type": "display_data"
        },
        {
          "data": {
            "text/markdown": [
              "System of equations:"
            ],
            "text/plain": [
              "<IPython.core.display.Markdown object>"
            ]
          },
          "metadata": {},
          "output_type": "display_data"
        },
        {
          "data": {
            "text/markdown": [
              "$$\\begin{aligned} 1 x_{1} + 2 x_{2} + 3 x_{3} = 10 \\\\ 0 x_{1} - 3 x_{2} - 6 x_{3} = -29 \\\\ 7 x_{1} + 8 x_{2} + 12 x_{3} = 18 \\end{aligned}$$"
            ],
            "text/plain": [
              "<IPython.core.display.Markdown object>"
            ]
          },
          "metadata": {},
          "output_type": "display_data"
        }
      ],
      "source": [
        "m.add_row(2, 1, -4)"
      ]
    },
    {
      "cell_type": "code",
      "execution_count": null,
      "metadata": {
        "id": "go05S7PUqXUo",
        "outputId": "e1d7271f-0996-42df-d58e-eb22fe37cb83"
      },
      "outputs": [
        {
          "data": {
            "text/markdown": [
              "**Operation:** r3 = r3 + -7*r1"
            ],
            "text/plain": [
              "<IPython.core.display.Markdown object>"
            ]
          },
          "metadata": {},
          "output_type": "display_data"
        },
        {
          "data": {
            "text/markdown": [
              "System of equations:"
            ],
            "text/plain": [
              "<IPython.core.display.Markdown object>"
            ]
          },
          "metadata": {},
          "output_type": "display_data"
        },
        {
          "data": {
            "text/markdown": [
              "$$\\begin{aligned} 1 x_{1} + 2 x_{2} + 3 x_{3} = 10 \\\\ 0 x_{1} - 3 x_{2} - 6 x_{3} = -29 \\\\ 0 x_{1} - 6 x_{2} - 9 x_{3} = -52 \\end{aligned}$$"
            ],
            "text/plain": [
              "<IPython.core.display.Markdown object>"
            ]
          },
          "metadata": {},
          "output_type": "display_data"
        }
      ],
      "source": [
        "m.add_row(3, 1, -7)"
      ]
    },
    {
      "cell_type": "code",
      "execution_count": null,
      "metadata": {
        "id": "4XA9j_IkqXUp",
        "outputId": "78467662-07c8-474c-d0b5-d76d85ae0289"
      },
      "outputs": [
        {
          "data": {
            "text/markdown": [
              "**Operation:** r3 = r3 + -2*r2"
            ],
            "text/plain": [
              "<IPython.core.display.Markdown object>"
            ]
          },
          "metadata": {},
          "output_type": "display_data"
        },
        {
          "data": {
            "text/markdown": [
              "System of equations:"
            ],
            "text/plain": [
              "<IPython.core.display.Markdown object>"
            ]
          },
          "metadata": {},
          "output_type": "display_data"
        },
        {
          "data": {
            "text/markdown": [
              "$$\\begin{aligned} 1 x_{1} + 2 x_{2} + 3 x_{3} = 10 \\\\ 0 x_{1} - 3 x_{2} - 6 x_{3} = -29 \\\\ 0 x_{1} +0 x_{2} + 3 x_{3} = 6 \\end{aligned}$$"
            ],
            "text/plain": [
              "<IPython.core.display.Markdown object>"
            ]
          },
          "metadata": {},
          "output_type": "display_data"
        }
      ],
      "source": [
        "m.add_row(3, 2, -2)"
      ]
    },
    {
      "cell_type": "code",
      "execution_count": null,
      "metadata": {
        "id": "brnYQCTsqXUp"
      },
      "outputs": [],
      "source": [
        "# We have 3 equations, so we end the operation\n",
        "# Define symbols\n",
        "x1, x2, x3 = symbols('x1 x2 x3')\n",
        "# Define equations\n",
        "eq1 = Eq(x1 + 2*x2 + 3*x3, 10)\n",
        "eq2 = Eq(-3*x2 - 6*x3, -29)\n",
        "eq3 = Eq(3*x3, 6)"
      ]
    },
    {
      "cell_type": "code",
      "execution_count": null,
      "metadata": {
        "id": "wd8XxmxGqXUq",
        "outputId": "fdc0559a-5d5c-4dd4-a560-3a2873559d21"
      },
      "outputs": [
        {
          "data": {
            "text/latex": [
              "$\\displaystyle 2$"
            ],
            "text/plain": [
              "2"
            ]
          },
          "execution_count": 14,
          "metadata": {},
          "output_type": "execute_result"
        }
      ],
      "source": [
        "sol_x3 = sp.solve(eq3, x3)[0]\n",
        "sol_x3"
      ]
    },
    {
      "cell_type": "code",
      "execution_count": null,
      "metadata": {
        "id": "Ge6zIh-xqXUq",
        "outputId": "95e0755b-fe36-485e-dd55-0a756906b1fb"
      },
      "outputs": [
        {
          "data": {
            "text/latex": [
              "$\\displaystyle \\frac{17}{3}$"
            ],
            "text/plain": [
              "17/3"
            ]
          },
          "execution_count": 15,
          "metadata": {},
          "output_type": "execute_result"
        }
      ],
      "source": [
        "# Substitute solution x3 into equation 2\n",
        "eq2 = eq2.subs(x3, sol_x3)\n",
        "# Solve equation 2\n",
        "sol_x2 = sp.solve(eq2, x2)[0]\n",
        "sol_x2"
      ]
    },
    {
      "cell_type": "code",
      "execution_count": null,
      "metadata": {
        "id": "hacEJSnfqXUr",
        "outputId": "217f2964-047f-4b77-af11-36ed4932449c"
      },
      "outputs": [
        {
          "data": {
            "text/latex": [
              "$\\displaystyle - \\frac{22}{3}$"
            ],
            "text/plain": [
              "-22/3"
            ]
          },
          "execution_count": 16,
          "metadata": {},
          "output_type": "execute_result"
        }
      ],
      "source": [
        "# Substitute solutions x2 and x3 into equation 1\n",
        "eq1 = eq1.subs({x2: sol_x2, x3: sol_x3})\n",
        "# Solve equation 1\n",
        "sol_x1 = sp.solve(eq1, x1)[0]\n",
        "sol_x1"
      ]
    },
    {
      "cell_type": "markdown",
      "metadata": {
        "id": "W3y_ZnRjqXUr"
      },
      "source": [
        "---\n",
        "\n",
        "## Exercises for Students\n",
        "\n",
        "$$\n",
        "\\left\\{\\begin{array}{c}{x+2 y-2 z=4} \\\\ {2 x+y+z=0} \\\\ {3 x+2 y+z=1}\\end{array}\\right.\\quad\n",
        "\\left\\{\\begin{array}{c}{x+y+z-t=2} \\\\ {2 x+y+z=3} \\\\ {-x+z-t=0} \\\\ {3 x+2 y-z+2 t=-1}\\end{array}\\right.\\quad\n",
        "\\left\\{\\begin{array}{c}{x+y-z-t=0} \\\\ {2 x+3 y-2 z+t=4} \\\\ {3 x+5 z=0} \\\\ {-x+y-3 z+2 t=3}\\end{array}\\right.\n",
        "$$"
      ]
    },
    {
      "cell_type": "markdown",
      "metadata": {
        "id": "iTG2Eqm8qXUr"
      },
      "source": [
        "\n",
        "\n",
        "---\n",
        "\n",
        "### **1. Solve the first system of equations:**\n",
        "$\n",
        "\\begin{aligned}\n",
        "x + 2y - 2z &= 4, \\\\\n",
        "2x + y + z &= 0, \\\\\n",
        "3x + 2y + z &= 1.\n",
        "\\end{aligned}\n",
        "$\n",
        "\n",
        "#### Step 1: Write in augmented matrix form\n",
        "The system can be written as:\n",
        "$\n",
        "\\begin{bmatrix}\n",
        "1 & 2 & -2 & 4 \\\\\n",
        "2 & 1 & 1 & 0 \\\\\n",
        "3 & 2 & 1 & 1\n",
        "\\end{bmatrix}.\n",
        "$\n",
        "\n",
        "#### Step 2: Use Gaussian elimination\n",
        "1. Divide the first row by $ 1 $ (leading coefficient of the first row remains the same):\n",
        "$\n",
        "\\begin{bmatrix}\n",
        "1 & 2 & -2 & 4 \\\\\n",
        "2 & 1 & 1 & 0 \\\\\n",
        "3 & 2 & 1 & 1\n",
        "\\end{bmatrix}.\n",
        "$\n",
        "\n",
        "2. Subtract \\( 2 \\times \\) (row 1) from row 2:\n",
        "$\n",
        "R_2 \\to R_2 - 2R_1.\n",
        "$\n",
        "$\n",
        "\\begin{bmatrix}\n",
        "1 & 2 & -2 & 4 \\\\\n",
        "0 & -3 & 5 & -8 \\\\\n",
        "3 & 2 & 1 & 1\n",
        "\\end{bmatrix}.\n",
        "$\n",
        "\n",
        "3. Subtract \\( 3 \\times \\) (row 1) from row 3:\n",
        "$\n",
        "R_3 \\to R_3 - 3R_1.\n",
        "$\n",
        "$\n",
        "\\begin{bmatrix}\n",
        "1 & 2 & -2 & 4 \\\\\n",
        "0 & -3 & 5 & -8 \\\\\n",
        "0 & -4 & 7 & -11\n",
        "\\end{bmatrix}.\n",
        "$\n",
        "\n",
        "4. Divide row 2 by \\(-3\\) to make the pivot element \\( 1 \\):\n",
        "$\n",
        "R_2 \\to \\frac{R_2}{-3}.\n",
        "$\n",
        "$\n",
        "\\begin{bmatrix}\n",
        "1 & 2 & -2 & 4 \\\\\n",
        "0 & 1 & -\\frac{5}{3} & \\frac{8}{3} \\\\\n",
        "0 & -4 & 7 & -11\n",
        "\\end{bmatrix}.\n",
        "$\n",
        "\n",
        "5. Eliminate the second element in row 3 using row 2:\n",
        "$\n",
        "R_3 \\to R_3 + 4R_2.\n",
        "$\n",
        "$\n",
        "\\begin{bmatrix}\n",
        "1 & 2 & -2 & 4 \\\\\n",
        "0 & 1 & -\\frac{5}{3} & \\frac{8}{3} \\\\\n",
        "0 & 0 & \\frac{1}{3} & \\frac{1}{3}\n",
        "\\end{bmatrix}.\n",
        "$\n",
        "\n",
        "6. Multiply row 3 by \\( 3 \\) to make the pivot \\( 1 \\):\n",
        "$\n",
        "R_3 \\to 3R_3.\n",
        "$\n",
        "$\n",
        "\\begin{bmatrix}\n",
        "1 & 2 & -2 & 4 \\\\\n",
        "0 & 1 & -\\frac{5}{3} & \\frac{8}{3} \\\\\n",
        "0 & 0 & 1 & 1\n",
        "\\end{bmatrix}.\n",
        "$\n",
        "\n",
        "7. Eliminate the third element in row 2 and row 1:\n",
        "$\n",
        "R_2 \\to R_2 + \\frac{5}{3}R_3, \\quad R_1 \\to R_1 + 2R_3.\n",
        "$\n",
        "$\n",
        "\\begin{bmatrix}\n",
        "1 & 2 & 0 & 6 \\\\\n",
        "0 & 1 & 0 & 3 \\\\\n",
        "0 & 0 & 1 & 1\n",
        "\\end{bmatrix}.\n",
        "$\n",
        "\n",
        "8. Eliminate the second element in row 1:\n",
        "$\n",
        "R_1 \\to R_1 - 2R_2.\n",
        "$\n",
        "$\n",
        "\\begin{bmatrix}\n",
        "1 & 0 & 0 & 0 \\\\\n",
        "0 & 1 & 0 & 3 \\\\\n",
        "0 & 0 & 1 & 1\n",
        "\\end{bmatrix}.\n",
        "\\]\n",
        "\n",
        "#### Solution:\n",
        "$\n",
        "x = 0, \\quad y = 3, \\quad z = 1.\n",
        "$\n",
        "\n",
        "---\n",
        "\n",
        "### **2. Solve the second system of equations:**\n",
        "$\n",
        "\\begin{aligned}\n",
        "x + y + z - t &= 2, \\\\\n",
        "2x + y + z &= 3, \\\\\n",
        "-x + z - t &= 0, \\\\\n",
        "3x + 2y - z + 2t &= -1.\n",
        "\\end{aligned}\n",
        "$\n",
        "\n",
        "\n",
        "---\n",
        "EXERCISE 3\n",
        "\n",
        "$\n",
        "\\begin{aligned}\n",
        "1. & \\quad x + y - z - t = 0, \\\\\n",
        "2. & \\quad 2x + 3y - 2z + t = 4, \\\\\n",
        "3. & \\quad 3x + 5z = 0, \\\\\n",
        "4. & \\quad -x + y - 3z + 2t = 3.\n",
        "\\end{aligned}\n",
        "$\n",
        "\n",
        "---\n",
        "\n",
        "### **Step 1: Write the system in augmented matrix form**\n",
        "\n",
        "The augmented matrix is:\n",
        "\n",
        "$\n",
        "\\begin{bmatrix}\n",
        "1 & 1 & -1 & -1 & 0 \\\\\n",
        "2 & 3 & -2 & 1 & 4 \\\\\n",
        "3 & 0 & 5 & 0 & 0 \\\\\n",
        "-1 & 1 & -3 & 2 & 3\n",
        "\\end{bmatrix}.\n",
        "$\n",
        "\n",
        "---\n",
        "\n",
        "### **Step 2: Perform Gaussian elimination**\n",
        "\n",
        "#### 1. Make the pivot in the first row (row 1) equal to \\(1\\).  \n",
        "The first row is already normalized:\n",
        "$\n",
        "\\begin{bmatrix}\n",
        "1 & 1 & -1 & -1 & 0 \\\\\n",
        "2 & 3 & -2 & 1 & 4 \\\\\n",
        "3 & 0 & 5 & 0 & 0 \\\\\n",
        "-1 & 1 & -3 & 2 & 3\n",
        "\\end{bmatrix}.\n",
        "$\n",
        "\n",
        "#### 2. Eliminate the first element in rows 2, 3, and 4.\n",
        "\n",
        "- Row 2: \\( R_2 \\to R_2 - 2R_1 \\)\n",
        "$\n",
        "\\begin{bmatrix}\n",
        "1 & 1 & -1 & -1 & 0 \\\\\n",
        "0 & 1 & 0 & 3 & 4 \\\\\n",
        "3 & 0 & 5 & 0 & 0 \\\\\n",
        "-1 & 1 & -3 & 2 & 3\n",
        "\\end{bmatrix}.\n",
        "$\n",
        "\n",
        "- Row 3: $ R_3 \\to R_3 - 3R_1 $\n",
        "$\n",
        "\\begin{bmatrix}\n",
        "1 & 1 & -1 & -1 & 0 \\\\\n",
        "0 & 1 & 0 & 3 & 4 \\\\\n",
        "0 & -3 & 8 & 3 & 0 \\\\\n",
        "-1 & 1 & -3 & 2 & 3\n",
        "\\end{bmatrix}.\n",
        "$\n",
        "\n",
        "- Row 4: $ R_4 \\to R_4 + R_1 $\n",
        "$\n",
        "\\begin{bmatrix}\n",
        "1 & 1 & -1 & -1 & 0 \\\\\n",
        "0 & 1 & 0 & 3 & 4 \\\\\n",
        "0 & -3 & 8 & 3 & 0 \\\\\n",
        "0 & 2 & -4 & 1 & 3\n",
        "\\end{bmatrix}.\n",
        "$\n",
        "\n",
        "---\n",
        "\n",
        "#### 3. Make the pivot in the second row (row 2) equal to $1$.\n",
        "\n",
        "Row 2 is already normalized, so no changes are needed.\n",
        "\n",
        "---\n",
        "\n",
        "#### 4. Eliminate the second element in rows 3 and 4.\n",
        "\n",
        "- Row 3: $ R_3 \\to R_3 + 3R_2 $\n",
        "$\n",
        "\\begin{bmatrix}\n",
        "1 & 1 & -1 & -1 & 0 \\\\\n",
        "0 & 1 & 0 & 3 & 4 \\\\\n",
        "0 & 0 & 8 & 12 & 12 \\\\\n",
        "0 & 2 & -4 & 1 & 3\n",
        "\\end{bmatrix}.\n",
        "$\n",
        "\n",
        "- Row 4: $ R_4 \\to R_4 - 2R_2 $\n",
        "$\n",
        "\\begin{bmatrix}\n",
        "1 & 1 & -1 & -1 & 0 \\\\\n",
        "0 & 1 & 0 & 3 & 4 \\\\\n",
        "0 & 0 & 8 & 12 & 12 \\\\\n",
        "0 & 0 & -4 & -5 & -5\n",
        "\\end{bmatrix}.\n",
        "$\n",
        "\n",
        "---\n",
        "\n",
        "#### 5. Make the pivot in the third row (row 3) equal to $1$.\n",
        "\n",
        "Divide row 3 by $8$:\n",
        "$\n",
        "R_3 \\to \\frac{R_3}{8}.\n",
        "$\n",
        "$\n",
        "\\begin{bmatrix}\n",
        "1 & 1 & -1 & -1 & 0 \\\\\n",
        "0 & 1 & 0 & 3 & 4 \\\\\n",
        "0 & 0 & 1 & \\frac{3}{2} & \\frac{3}{2} \\\\\n",
        "0 & 0 & -4 & -5 & -5\n",
        "\\end{bmatrix}.\n",
        "$\n",
        "\n",
        "---\n",
        "\n",
        "#### 6. Eliminate the third element in rows 4 and 1.\n",
        "\n",
        "- Row 4: $ R_4 \\to R_4 + 4R_3 $\n",
        "$\n",
        "\\begin{bmatrix}\n",
        "1 & 1 & -1 & -1 & 0 \\\\\n",
        "0 & 1 & 0 & 3 & 4 \\\\\n",
        "0 & 0 & 1 & \\frac{3}{2} & \\frac{3}{2} \\\\\n",
        "0 & 0 & 0 & 1 & 1\n",
        "\\end{bmatrix}.\n",
        "$\n",
        "\n",
        "- Row 1: $ R_1 \\to R_1 + R_3 $\n",
        "$\n",
        "\\begin{bmatrix}\n",
        "1 & 1 & 0 & \\frac{1}{2} & \\frac{3}{2} \\\\\n",
        "0 & 1 & 0 & 3 & 4 \\\\\n",
        "0 & 0 & 1 & \\frac{3}{2} & \\frac{3}{2} \\\\\n",
        "0 & 0 & 0 & 1 & 1\n",
        "\\end{bmatrix}.\n",
        "$\n",
        "\n",
        "---\n",
        "\n",
        "#### 7. Eliminate the fourth element in rows 1 and 2.\n",
        "\n",
        "- Row 1: $ R_1 \\to R_1 - \\frac{1}{2}R_4 $\n",
        "$\n",
        "\\begin{bmatrix}\n",
        "1 & 1 & 0 & 0 & 1 \\\\\n",
        "0 & 1 & 0 & 3 & 4 \\\\\n",
        "0 & 0 & 1 & \\frac{3}{2} & \\frac{3}{2} \\\\\n",
        "0 & 0 & 0 & 1 & 1\n",
        "\\end{bmatrix}.\n",
        "$\n",
        "\n",
        "- Row 2: $ R_2 \\to R_2 - 3R_4 $\n",
        "$\n",
        "\\begin{bmatrix}\n",
        "1 & 1 & 0 & 0 & 1 \\\\\n",
        "0 & 1 & 0 & 0 & 1 \\\\\n",
        "0 & 0 & 1 & \\frac{3}{2} & \\frac{3}{2} \\\\\n",
        "0 & 0 & 0 & 1 & 1\n",
        "\\end{bmatrix}.\n",
        "$\n",
        "\n",
        "---\n",
        "\n",
        "#### Final Back-substitution:\n",
        "\n",
        "$\n",
        "x = 1, \\quad y = 1, \\quad z = \\frac{3}{2}, \\quad t = 1.\n",
        "$\n",
        "\n",
        "---\n",
        "\n",
        "### Solution:\n",
        "$\n",
        "x = 1, \\; y = 1, \\; z = \\frac{3}{2}, \\; t = 1.\n",
        "$\n",
        "\n"
      ]
    },
    {
      "cell_type": "code",
      "source": [
        "import sympy as sp\n",
        "\n",
        "# Define variables\n",
        "x, y, z = sp.symbols('x, y, z')\n",
        "\n",
        "# Define equations\n",
        "eq1 = sp.Eq(x + 2*y - 2*z, 4)\n",
        "eq2 = sp.Eq(2*x + y + z, 0)\n",
        "eq3 = sp.Eq(3*x + 2*y + z, 1)\n",
        "\n",
        "# Solve the system\n",
        "solution = sp.solve((eq1, eq2, eq3), (x, y, z))\n",
        "\n",
        "# Print the solution\n",
        "print(solution)"
      ],
      "metadata": {
        "id": "YWei6HhPsfi9"
      },
      "execution_count": null,
      "outputs": []
    },
    {
      "cell_type": "code",
      "source": [
        "import sympy as sp\n",
        "\n",
        "# Define variables\n",
        "x, y, z, t = sp.symbols('x, y, z, t')\n",
        "\n",
        "# Define equations\n",
        "eq1 = sp.Eq(x + y + z - t, 2)\n",
        "eq2 = sp.Eq(2*x + y + z, 3)\n",
        "eq3 = sp.Eq(-x + z - t, 0)\n",
        "eq4 = sp.Eq(3*x + 2*y - z + 2*t, -1)\n",
        "\n",
        "# Solve the system\n",
        "solution = sp.solve((eq1, eq2, eq3, eq4), (x, y, z, t))\n",
        "\n",
        "# Print the solution\n",
        "print(solution)"
      ],
      "metadata": {
        "id": "Y7QJUraRsgmR"
      },
      "execution_count": null,
      "outputs": []
    },
    {
      "cell_type": "code",
      "source": [
        "import sympy as sp\n",
        "\n",
        "# Define variables\n",
        "x, y, z, t = sp.symbols('x, y, z, t')\n",
        "\n",
        "# Define equations\n",
        "eq1 = sp.Eq(x + y - z - t, 0)\n",
        "eq2 = sp.Eq(2*x + 3*y - 2*z + t, 4)\n",
        "eq3 = sp.Eq(3*x + 5*z, 0)\n",
        "eq4 = sp.Eq(-x + y - 3*z + 2*t, 3)\n",
        "\n",
        "# Solve the system\n",
        "solution = sp.solve((eq1, eq2, eq3, eq4), (x, y, z, t))\n",
        "\n",
        "# Print the solution\n",
        "print(solution)"
      ],
      "metadata": {
        "id": "na6vN6NtskWB"
      },
      "execution_count": null,
      "outputs": []
    },
    {
      "cell_type": "markdown",
      "metadata": {
        "id": "qU3r2MYPqXUs"
      },
      "source": []
    },
    {
      "cell_type": "markdown",
      "metadata": {
        "id": "qvHQjtEPqXUs"
      },
      "source": []
    }
  ],
  "metadata": {
    "kernelspec": {
      "display_name": ".venv",
      "language": "python",
      "name": "python3"
    },
    "language_info": {
      "codemirror_mode": {
        "name": "ipython",
        "version": 3
      },
      "file_extension": ".py",
      "mimetype": "text/x-python",
      "name": "python",
      "nbconvert_exporter": "python",
      "pygments_lexer": "ipython3",
      "version": "3.11.9"
    },
    "colab": {
      "provenance": [],
      "include_colab_link": true
    }
  },
  "nbformat": 4,
  "nbformat_minor": 0
}