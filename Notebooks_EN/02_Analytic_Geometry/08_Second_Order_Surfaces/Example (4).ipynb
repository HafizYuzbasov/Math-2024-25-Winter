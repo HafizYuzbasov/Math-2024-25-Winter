{
  "nbformat": 4,
  "nbformat_minor": 0,
  "metadata": {
    "colab": {
      "provenance": [],
      "include_colab_link": true
    },
    "kernelspec": {
      "name": "python3",
      "display_name": "Python 3"
    },
    "language_info": {
      "name": "python"
    }
  },
  "cells": [
    {
      "cell_type": "markdown",
      "metadata": {
        "id": "view-in-github",
        "colab_type": "text"
      },
      "source": [
        "<a href=\"https://colab.research.google.com/github/HafizYuzbasov/Math-2024-25-Winter/blob/main/Notebooks_EN/02_Analytic_Geometry/08_Second_Order_Surfaces/Example%20(4).ipynb\" target=\"_parent\"><img src=\"https://colab.research.google.com/assets/colab-badge.svg\" alt=\"Open In Colab\"/></a>"
      ]
    },
    {
      "cell_type": "markdown",
      "source": [
        "# Line or whatever subject\n",
        "\n",
        "Write notes on your own! In each geometry folder make a separate file. Use ChatGPT to generate notes based on list of topics:\n",
        "\n",
        "\tAnalytical Geometry\n",
        "\n",
        "\tLines\n",
        "\tTypes of line equations in the plane.\n",
        "\tGeneral equation of a line.\n",
        "\tCanonical equation of a line.\n",
        "\tLine equation in intercept form on the coordinate axes.\n",
        "\tLine equation in slope form.\n",
        "\tLine equation passing through a given point in a given direction.\n",
        "\tLine equation passing through two given points.\n",
        "\tRelative positions of lines in the plane.\n",
        "\tIntersection of two lines.\n",
        "\tAngle between two lines.\n",
        "\tConditions for parallelism and perpendicularity of two lines.\n",
        "\n",
        "\tPlanes\n",
        "\tPlanes in space.\n",
        "\tVector equation of a plane.\n",
        "\tGeneral equation of a plane.\n",
        "\tPlane equation passing through three points.\n",
        "\tPlane equation in intercept form on the coordinate axes.\n",
        "\tSpecial cases of plane positioning.\n",
        "\tAngle between two planes.\n",
        "\tConditions for parallelism and perpendicularity of two planes.\n",
        "\tLine in space.\n",
        "\tTypes of line equations in space.\n",
        "\tRelative positions of a line and a plane.\n",
        "\tRelative positions of two lines.\n",
        "\tAngle between a line and a plane.\n",
        "\n",
        "\tSecond-Order Curves\n",
        "\tCanonical equations of the circle, ellipse, hyperbola, and parabola.\n",
        "\tEquations of second-order curves with a shifted center.\n",
        "\tReduction of the general second-order curve equation to canonical form.\n",
        "\n",
        "\tSecond-Order Surfaces\n",
        "\tGeneral equations of the ellipsoid, sphere, and hyperboloid.\n",
        "\tRotational surfaces.\n"
      ],
      "metadata": {
        "id": "SVa9rLOXgzJe"
      }
    },
    {
      "cell_type": "markdown",
      "source": [
        "## Magic formula for ChatGPT\n",
        "\n",
        "**Ask ChatpGPT from OpenAI, Cloude, Full Gemini (don't use Gemini here because it is too small model to handle it):**\n",
        "\n",
        "\n",
        "\n",
        "> Please generate me markdown code academic notes, with plenty of equations (harvard student notes!) for the given list of topics below. As I need it for colab and github make sure you give all equations and math formula using $...$ and $$...$$.\n",
        "\n",
        "List of topics to cover:\n",
        "\n",
        "Types of line equations in the plane.\n",
        "General equation of a line.\n",
        "Canonical equation of a line.\n",
        "Line equation in intercept form on the coordinate axes.\n",
        "Line equation in slope form.\n",
        "Line equation passing through a given point in a given direction.\n",
        "Line equation passing through two given points.\n",
        "Relative positions of lines in the plane.\n",
        "Intersection of two lines.\n",
        "Angle between two lines.\n",
        "Conditions for parallelism and perpendicularity of two lines.\n",
        "\n",
        "\n",
        "\n"
      ],
      "metadata": {
        "id": "5SDlikNRhas0"
      }
    },
    {
      "cell_type": "markdown",
      "source": [],
      "metadata": {
        "id": "YBha9MC0howb"
      }
    },
    {
      "cell_type": "code",
      "execution_count": null,
      "metadata": {
        "colab": {
          "base_uri": "https://localhost:8080/"
        },
        "id": "-IWVfobGgyjY",
        "outputId": "efec93f1-b0ca-47ae-c69b-df9b6f27e33d"
      },
      "outputs": [
        {
          "output_type": "execute_result",
          "data": {
            "text/plain": [
              "5"
            ]
          },
          "metadata": {},
          "execution_count": 1
        }
      ],
      "source": [
        "2+3\n"
      ]
    },
    {
      "cell_type": "markdown",
      "source": [
        "# Exercies copied from github markdowns!\n",
        "\n",
        "(that are no openable in colab!) We like everything in one place, so visit your github directly in browser and just enter edit and copy markdown code."
      ],
      "metadata": {
        "id": "6-kVkPFog8NZ"
      }
    },
    {
      "cell_type": "markdown",
      "source": [
        "# Solutions\n",
        "\n",
        "Text..."
      ],
      "metadata": {
        "id": "3wgcdwT5hFQH"
      }
    },
    {
      "cell_type": "code",
      "source": [],
      "metadata": {
        "id": "LqItIWt0g7mb"
      },
      "execution_count": null,
      "outputs": []
    },
    {
      "cell_type": "markdown",
      "source": [
        "# Tasks related to second-order surfaces\n",
        "\n",
        "**Visualize each task.** - Python, GeoGebra, Wolfram Alpha, ...\n",
        "\n",
        "* Write the equation of a sphere with center at point $P=(1,2,3)$ and radius $r=3$.\n",
        "* Do the spheres with equations $x^2 + y^2 + z^2 = 1$ and $x^2 + y^2 + z^2 = 2$ have any common points?\n",
        "* What curve in space is formed by the intersection of the sphere $x^2 + y^2 + z^2 = 1$ with the sphere $(x-1)^2 + y^2 + z^2 = 1$? Find the equation of this curve.\n",
        "* Write the equation of the tangent plane to the paraboloid $z=(x-1)^2+y^2+1$ at point $P=(1,0,1)$."
      ],
      "metadata": {
        "id": "6LyXlC3ZOVFy"
      }
    },
    {
      "cell_type": "markdown",
      "source": [
        "TASK 1\n",
        "\n",
        "\n",
        "\n",
        "\n",
        "\n",
        "\n",
        "$$\n",
        "(x - x_0)^2 + (y - y_0)^2 + (z - z_0)^2 = r^2\n",
        "$$\n",
        "\n",
        "\n",
        "\n",
        " $ P = (1, 2, 3) $, so $ x_0 = 1 $, $ y_0 = 2 $, and $ z_0 = 3 $.\n",
        " $ r = 3 $.\n",
        "\n",
        "\n",
        "\n",
        "x_0 = 1 $, $ y_0 = 2 $, $ z_0 = 3 $, and $ r = 3 $\n",
        "\n",
        "$$\n",
        "(x - 1)^2 + (y - 2)^2 + (z - 3)^2 = 3^2\n",
        "$$\n",
        "\n",
        "\n",
        "\n",
        " $ 3^2 = 9 $,\n",
        "\n",
        "$$\n",
        "(x - 1)^2 + (y - 2)^2 + (z - 3)^2 = 9\n",
        "$$\n",
        "\n",
        "\n",
        "\n",
        " $ P = (1, 2, 3) $ and radius $ r = 3 $\n",
        "\n",
        "$$\n",
        "(x - 1)^2 + (y - 2)^2 + (z - 3)^2 = 9\n",
        "$$"
      ],
      "metadata": {
        "id": "P2Qv59UUOw2-"
      }
    },
    {
      "cell_type": "markdown",
      "source": [
        "TASK 2\n",
        "\n",
        "\n",
        "\n",
        "\n",
        "\n",
        "1. $ x^2 + y^2 + z^2 = 1 $\n",
        "2. $ x^2 + y^2 + z^2 = 2 $\n",
        "\n",
        "\n",
        "- The first sphere, $ x^2 + y^2 + z^2 = 1 $, has its center at the origin $ (0, 0, 0) $ and a radius $ r_1 = 1 $.\n",
        "- The second sphere, $ x^2 + y^2 + z^2 = 2 $, also has its center at the origin $ (0, 0, 0) $ and a radius $ r_2 = \\sqrt{2} $.\n",
        "\n",
        "\n",
        "\n",
        "\n",
        "\n",
        "$$\n",
        "x^2 + y^2 + z^2 = 1\n",
        "$$\n",
        "\n",
        "and\n",
        "\n",
        "$$\n",
        "x^2 + y^2 + z^2 = 2\n",
        "$$\n",
        "\n"
      ],
      "metadata": {
        "id": "4v9R35qSPsWy"
      }
    },
    {
      "cell_type": "markdown",
      "source": [
        "TASK 3\n",
        "\n",
        "\n",
        "\n",
        "\n",
        "\n",
        "1. $ x^2 + y^2 + z^2 = 1 $\n",
        "2. $ (x - 1)^2 + y^2 + z^2 = 1 $\n",
        "\n",
        "\n",
        "\n",
        "$$\n",
        "(x - 1)^2 + y^2 + z^2 = 1\n",
        "$$\n",
        "\n",
        " $ (x - 1)^2 $:\n",
        "\n",
        "$$\n",
        "(x - 1)^2 = x^2 - 2x + 1\n",
        "$$\n",
        "\n",
        "\n",
        "\n",
        "$$\n",
        "x^2 - 2x + 1 + y^2 + z^2 = 1\n",
        "$$\n",
        "\n",
        "\n",
        "\n",
        "$$\n",
        "x^2 + y^2 + z^2 - 2x + 1 = 1\n",
        "$$\n",
        "\n",
        "\n",
        "\n",
        "$$\n",
        "x^2 + y^2 + z^2 - 2x = 0\n",
        "$$\n",
        "\n",
        "Now, use the first equation $ x^2 + y^2 + z^2 = 1 $ to substitute for $ x^2 + y^2 + z^2 $\n",
        "\n",
        "$$\n",
        "1 - 2x = 0\n",
        "$$\n",
        "\n",
        "\n",
        "\n",
        "$$\n",
        "2x = 1 \\quad \\Rightarrow \\quad x = \\frac{1}{2}\n",
        "$$\n",
        "\n",
        "\n",
        "\n",
        "$$\n",
        "\\left( \\frac{1}{2} \\right)^2 + y^2 + z^2 = 1\n",
        "$$\n",
        "\n",
        "\n",
        "\n",
        "$$\n",
        "\\frac{1}{4} + y^2 + z^2 = 1\n",
        "$$\n",
        "\n",
        "\n",
        "\n",
        "$$\n",
        "y^2 + z^2 = \\frac{3}{4}\n",
        "$$\n",
        "\n",
        "\n",
        "\n",
        "\n",
        "\n",
        "\n",
        "$$\n",
        "x = \\frac{1}{2}, \\quad y^2 + z^2 = \\frac{3}{4}\n",
        "$$\n",
        "\n"
      ],
      "metadata": {
        "id": "hyJRWtoRQSnw"
      }
    },
    {
      "cell_type": "markdown",
      "source": [
        "TASK 4\n",
        "\n",
        "\n",
        "\n",
        "\n",
        "\n",
        "\n",
        "$$\n",
        "z - z_0 = f_x(x_0, y_0)(x - x_0) + f_y(x_0, y_0)(y - y_0)\n",
        "$$\n",
        "\n",
        "\n",
        "\n",
        "$$\n",
        "z = (x - 1)^2 + y^2 + 1\n",
        "$$\n",
        "\n",
        "\n",
        "\n",
        "$$\n",
        "f(x, y) = (x - 1)^2 + y^2 + 1\n",
        "$$\n",
        "\n",
        "\n",
        "\n",
        "$$\n",
        "f_x(x, y) = \\frac{\\partial}{\\partial x} \\left( (x - 1)^2 + y^2 + 1 \\right) = 2(x - 1)\n",
        "$$\n",
        "\n",
        "\n",
        "\n",
        "$$\n",
        "f_y(x, y) = \\frac{\\partial}{\\partial y} \\left( (x - 1)^2 + y^2 + 1 \\right) = 2y\n",
        "$$\n",
        "\n",
        "\n",
        "\n",
        "$ P = (1, 0, 1) $, $ f_x(1, 0) $\n",
        "\n",
        "$$\n",
        "f_x(1, 0) = 2(1 - 1) = 0\n",
        "$$\n",
        "\n",
        " $ P = (1, 0, 1) $, $ f_y(1, 0) $\n",
        "\n",
        "$$\n",
        "f_y(1, 0) = 2(0) = 0\n",
        "$$\n",
        "\n",
        "\n",
        "\n",
        "$$\n",
        "z - 1 = 0(x - 1) + 0(y - 0)\n",
        "$$\n",
        "\n",
        "\n",
        "\n",
        "$$\n",
        "z - 1 = 0\n",
        "$$\n",
        "\n",
        "\n",
        "\n",
        "$$\n",
        "z = 1\n",
        "$$\n",
        "\n",
        "\n",
        "\n",
        "$$\n",
        "z = 1\n",
        "$$"
      ],
      "metadata": {
        "id": "MoWRSDD4RT8K"
      }
    }
  ]
}