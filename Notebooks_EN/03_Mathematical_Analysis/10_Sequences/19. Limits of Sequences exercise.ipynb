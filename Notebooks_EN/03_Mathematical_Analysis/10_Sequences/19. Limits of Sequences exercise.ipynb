{
  "nbformat": 4,
  "nbformat_minor": 0,
  "metadata": {
    "colab": {
      "provenance": [],
      "include_colab_link": true
    },
    "kernelspec": {
      "name": "python3",
      "display_name": "Python 3"
    },
    "language_info": {
      "name": "python"
    }
  },
  "cells": [
    {
      "cell_type": "markdown",
      "metadata": {
        "id": "view-in-github",
        "colab_type": "text"
      },
      "source": [
        "<a href=\"https://colab.research.google.com/github/HafizYuzbasov/Math-2024-25-Winter/blob/main/Notebooks_EN/03_Mathematical_Analysis/10_Sequences/19.%20Limits%20of%20Sequences.ipynb\" target=\"_parent\"><img src=\"https://colab.research.google.com/assets/colab-badge.svg\" alt=\"Open In Colab\"/></a>"
      ]
    },
    {
      "cell_type": "code",
      "source": [],
      "metadata": {
        "id": "LqItIWt0g7mb"
      },
      "execution_count": null,
      "outputs": []
    },
    {
      "cell_type": "markdown",
      "source": [
        "## 19. Limits of Sequences\n",
        "\n",
        "1. Calculate:\n",
        "   - $\\displaystyle \\lim_{n \\to \\infty} \\frac{n^2 + 3n}{2 n^2 - 2n}$\n",
        "\n",
        "   - $\\displaystyle \\lim_{n \\to \\infty} \\frac{(2n+3)^3}{n^3-1}$\n",
        "\n",
        "2. Prove using the squeeze theorem:\n",
        "   - $\\displaystyle\\lim_{n \\to \\infty} \\frac{\\sin(n)}{n}$\n",
        "\n",
        "4. Find the limit of the sequence:\n",
        "   - $a_n = (1+\\frac{1}{n})^n$"
      ],
      "metadata": {
        "id": "RdWG9P_ifn3g"
      }
    },
    {
      "cell_type": "markdown",
      "source": [
        "TASK 1\n",
        "\n",
        "\n",
        "\n",
        "\n",
        "$$\\lim_{n \\to \\infty} \\frac{n^2 + 3n}{2n^2 - 2n}$$\n",
        "\n",
        "\n",
        "$$\n",
        "\\frac{n^2(1 + \\frac{3}{n})}{n^2(2 - \\frac{2}{n})} = \\frac{1 + \\frac{3}{n}}{2 - \\frac{2}{n}}\n",
        "$$\n",
        "\n",
        "\n",
        "$$\n",
        "\\lim_{n \\to \\infty} \\frac{1 + \\frac{3}{n}}{2 - \\frac{2}{n}} = \\frac{1}{2}\n",
        "$$\n",
        "\n",
        "\n",
        "$$\n",
        "\\frac{1}{2}\n",
        "$$\n",
        "\n",
        "....\n",
        "\n",
        "\n",
        "$$\\lim_{n \\to \\infty} \\frac{(2n + 3)^3}{n^3 - 1}$$\n",
        "\n",
        "\n",
        "$$\n",
        "(2n + 3)^3 = 8n^3 + 36n^2 + 54n + 27\n",
        "$$\n",
        "\n",
        "\n",
        "$$\n",
        "\\frac{8n^3 + 36n^2 + 54n + 27}{n^3 - 1} = \\frac{8 + \\frac{36}{n} + \\frac{54}{n^2} + \\frac{27}{n^3}}{1 - \\frac{1}{n^3}}\n",
        "$$\n",
        "\n",
        "\n",
        "$$\n",
        "\\lim_{n \\to \\infty} \\frac{8 + \\frac{36}{n} + \\frac{54}{n^2} + \\frac{27}{n^3}}{1 - \\frac{1}{n^3}} = \\frac{8}{1} = 8\n",
        "$$\n",
        "\n",
        "\n",
        "$$\n",
        "8\n",
        "$$\n",
        "\n",
        "\n"
      ],
      "metadata": {
        "id": "tGJvc_GZgYpn"
      }
    },
    {
      "cell_type": "markdown",
      "source": [
        "TASK 2\n",
        "\n",
        "Prove:\n",
        "$$\\lim_{n \\to \\infty} \\frac{\\sin(n)}{n} = 0$$\n",
        "\n",
        "\n",
        "$$\n",
        "-1 \\leq \\sin(n) \\leq 1\n",
        "$$\n",
        "\n",
        "\n",
        "$$\n",
        "-\\frac{1}{n} \\leq \\frac{\\sin(n)}{n} \\leq \\frac{1}{n}\n",
        "$$\n",
        "\n",
        "\n",
        "$$\n",
        "\\lim_{n \\to \\infty} \\frac{\\sin(n)}{n} = 0\n",
        "$$\n"
      ],
      "metadata": {
        "id": "AMWizR1gg2QY"
      }
    },
    {
      "cell_type": "markdown",
      "source": [
        "TASK 3\n",
        "\n",
        "\n",
        "\n",
        "\n",
        "$$\n",
        "a_n = \\left(1 + \\frac{1}{n}\\right)^n\n",
        "$$\n",
        "\n",
        "\n",
        "$$\n",
        "\\lim_{n \\to \\infty} \\left(1 + \\frac{1}{n}\\right)^n = e\n",
        "$$\n",
        "\n",
        "result\n",
        "$$\n",
        "\\lim_{n \\to \\infty} a_n = e\n",
        "$$"
      ],
      "metadata": {
        "id": "FRag1F0Eg78x"
      }
    }
  ]
}
