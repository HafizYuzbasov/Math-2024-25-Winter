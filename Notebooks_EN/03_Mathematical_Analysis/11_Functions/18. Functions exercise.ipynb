{
  "nbformat": 4,
  "nbformat_minor": 0,
  "metadata": {
    "colab": {
      "provenance": [],
      "include_colab_link": true
    },
    "kernelspec": {
      "name": "python3",
      "display_name": "Python 3"
    },
    "language_info": {
      "name": "python"
    }
  },
  "cells": [
    {
      "cell_type": "markdown",
      "metadata": {
        "id": "view-in-github",
        "colab_type": "text"
      },
      "source": [
        "<a href=\"https://colab.research.google.com/github/HafizYuzbasov/Math-2024-25-Winter/blob/main/Notebooks_EN/03_Mathematical_Analysis/11_Functions/18.%20Functions.ipynb\" target=\"_parent\"><img src=\"https://colab.research.google.com/assets/colab-badge.svg\" alt=\"Open In Colab\"/></a>"
      ]
    },
    {
      "cell_type": "markdown",
      "source": [
        "1. Draw in a single Geogebra notebook the following functions:\n",
        "   - $f(x) = x^2$\n",
        "   - $g(x) = \\sqrt{x}$\n",
        "   - $h(x) = \\frac{1}{x}$\n",
        "   - $j(x) = \\sin(x)$\n",
        "\n",
        "Find value of all the above functions at $x = 2$.\n",
        "\n",
        "2. Let $f(x) = 3x - 1$ and $g(x) = \\sqrt{x}$. Find:\n",
        "   - $f(g(x))$\n",
        "   - $g(f(x))$\n",
        "   - $f(f(x))$\n",
        "   - $g(g(x))$\n",
        "\n",
        "and visualize functions in a single Geogebra notebook.\n",
        "\n",
        "3. Let $f(x) = e^x$ and $g(x) = \\ln(x)$. Check: $f(g(x))$ and $g(f(x))$. What do you notice?\n",
        "\n",
        "4. We have function $f=\\{(1,7), (2,9), (3,11)\\}$. Give inverse function $f^{-1}$.\n",
        "\n",
        "5. We have function $f=\\{(1,7), (2,7), (3,11)\\}$. Give inverse function $f^{-1}$.\n",
        "\n",
        "6. We have function $f(x)= x-1$. Give inverse function $f^{-1}$. Show both functions on the same Geogebra notebook."
      ],
      "metadata": {
        "id": "EapNcBnXta6i"
      }
    },
    {
      "cell_type": "markdown",
      "source": [
        "EXERCISE 1\n",
        "\n",
        "\n",
        "https://www.geogebra.org/calculator/efuhpahn\n",
        "\n",
        "https://www.geogebra.org/calculator/cjtdqxgy\n",
        "\n",
        "https://www.geogebra.org/calculator/fmsn6qfd\n",
        "\n",
        "https://www.geogebra.org/calculator/fqwnutsq"
      ],
      "metadata": {
        "id": "k1t1thCrtcmz"
      }
    },
    {
      "cell_type": "markdown",
      "source": [
        "EXERCISE 2\n",
        "\n",
        "\n",
        "\n",
        "https://www.geogebra.org/calculator/dbmxxrqh\n",
        "\n",
        "https://www.geogebra.org/calculator/ufg2hbqs\n",
        "\n",
        "https://www.geogebra.org/calculator/yghq8ncb"
      ],
      "metadata": {
        "id": "Z1kVbEVdQl1v"
      }
    },
    {
      "cell_type": "markdown",
      "source": [
        "TASK 4\n",
        "\n",
        "https://www.geogebra.org/calculator/duqkpzxa"
      ],
      "metadata": {
        "id": "G_vg_9UwSamq"
      }
    },
    {
      "cell_type": "markdown",
      "source": [
        "TASK 5\n",
        "\n",
        "https://www.geogebra.org/calculator/ztzy6rt8"
      ],
      "metadata": {
        "id": "mweXiaZIeBcT"
      }
    }
  ]
}
