{
  "nbformat": 4,
  "nbformat_minor": 0,
  "metadata": {
    "colab": {
      "provenance": [],
      "include_colab_link": true
    },
    "kernelspec": {
      "name": "python3",
      "display_name": "Python 3"
    },
    "language_info": {
      "name": "python"
    }
  },
  "cells": [
    {
      "cell_type": "markdown",
      "metadata": {
        "id": "view-in-github",
        "colab_type": "text"
      },
      "source": [
        "<a href=\"https://colab.research.google.com/github/HafizYuzbasov/Math-2024-25-Winter/blob/main/Notebooks_EN/03_Mathematical_Analysis/12_Derivatives/Example.ipynb\" target=\"_parent\"><img src=\"https://colab.research.google.com/assets/colab-badge.svg\" alt=\"Open In Colab\"/></a>"
      ]
    },
    {
      "cell_type": "markdown",
      "source": [
        "# Line or whatever subject\n",
        "\n",
        "Write notes on your own! In each geometry folder make a separate file. Use ChatGPT to generate notes based on list of topics:\n",
        "\n",
        "\tAnalytical Geometry\n",
        "\n",
        "\tLines\n",
        "\tTypes of line equations in the plane.\n",
        "\tGeneral equation of a line.\n",
        "\tCanonical equation of a line.\n",
        "\tLine equation in intercept form on the coordinate axes.\n",
        "\tLine equation in slope form.\n",
        "\tLine equation passing through a given point in a given direction.\n",
        "\tLine equation passing through two given points.\n",
        "\tRelative positions of lines in the plane.\n",
        "\tIntersection of two lines.\n",
        "\tAngle between two lines.\n",
        "\tConditions for parallelism and perpendicularity of two lines.\n",
        "\n",
        "\tPlanes\n",
        "\tPlanes in space.\n",
        "\tVector equation of a plane.\n",
        "\tGeneral equation of a plane.\n",
        "\tPlane equation passing through three points.\n",
        "\tPlane equation in intercept form on the coordinate axes.\n",
        "\tSpecial cases of plane positioning.\n",
        "\tAngle between two planes.\n",
        "\tConditions for parallelism and perpendicularity of two planes.\n",
        "\tLine in space.\n",
        "\tTypes of line equations in space.\n",
        "\tRelative positions of a line and a plane.\n",
        "\tRelative positions of two lines.\n",
        "\tAngle between a line and a plane.\n",
        "\n",
        "\tSecond-Order Curves\n",
        "\tCanonical equations of the circle, ellipse, hyperbola, and parabola.\n",
        "\tEquations of second-order curves with a shifted center.\n",
        "\tReduction of the general second-order curve equation to canonical form.\n",
        "\n",
        "\tSecond-Order Surfaces\n",
        "\tGeneral equations of the ellipsoid, sphere, and hyperboloid.\n",
        "\tRotational surfaces.\n"
      ],
      "metadata": {
        "id": "SVa9rLOXgzJe"
      }
    },
    {
      "cell_type": "markdown",
      "source": [
        "## Magic formula for ChatGPT\n",
        "\n",
        "**Ask ChatpGPT from OpenAI, Cloude, Full Gemini (don't use Gemini here because it is too small model to handle it):**\n",
        "\n",
        "\n",
        "\n",
        "> Please generate me markdown code academic notes, with plenty of equations (harvard student notes!) for the given list of topics below. As I need it for colab and github make sure you give all equations and math formula using $...$ and $$...$$.\n",
        "\n",
        "List of topics to cover:\n",
        "\n",
        "Types of line equations in the plane.\n",
        "General equation of a line.\n",
        "Canonical equation of a line.\n",
        "Line equation in intercept form on the coordinate axes.\n",
        "Line equation in slope form.\n",
        "Line equation passing through a given point in a given direction.\n",
        "Line equation passing through two given points.\n",
        "Relative positions of lines in the plane.\n",
        "Intersection of two lines.\n",
        "Angle between two lines.\n",
        "Conditions for parallelism and perpendicularity of two lines.\n",
        "\n",
        "\n",
        "\n"
      ],
      "metadata": {
        "id": "5SDlikNRhas0"
      }
    },
    {
      "cell_type": "markdown",
      "source": [],
      "metadata": {
        "id": "YBha9MC0howb"
      }
    },
    {
      "cell_type": "code",
      "execution_count": null,
      "metadata": {
        "colab": {
          "base_uri": "https://localhost:8080/"
        },
        "id": "-IWVfobGgyjY",
        "outputId": "efec93f1-b0ca-47ae-c69b-df9b6f27e33d"
      },
      "outputs": [
        {
          "output_type": "execute_result",
          "data": {
            "text/plain": [
              "5"
            ]
          },
          "metadata": {},
          "execution_count": 1
        }
      ],
      "source": [
        "2+3\n"
      ]
    },
    {
      "cell_type": "markdown",
      "source": [
        "# Exercies copied from github markdowns!\n",
        "\n",
        "(that are no openable in colab!) We like everything in one place, so visit your github directly in browser and just enter edit and copy markdown code."
      ],
      "metadata": {
        "id": "6-kVkPFog8NZ"
      }
    },
    {
      "cell_type": "markdown",
      "source": [
        "# Solutions\n",
        "\n",
        "Text..."
      ],
      "metadata": {
        "id": "3wgcdwT5hFQH"
      }
    },
    {
      "cell_type": "code",
      "source": [],
      "metadata": {
        "id": "LqItIWt0g7mb"
      },
      "execution_count": null,
      "outputs": []
    },
    {
      "cell_type": "markdown",
      "source": [
        "## 21. Derivatives\n",
        "\n",
        "1. Compute derivatives of functions:\n",
        "   * $y(x) = -3x+3$\n",
        "   * $y(x) = \\pi x + \\sin(1)$\n",
        "   * $y(x) = 4+\\sin(2)$\n",
        "   * $y(x) = 2x^3 - 3x^2 + 8x - 9$\n",
        "   * $y(x) = 6 x^{1/3}$\n",
        "   * $y(x) = \\sqrt{x}$\n",
        "   * $y(x) = \\cos(x) + \\sin(x)$\n",
        "   * $y(x) = 2\\sin(x) \\cos(x)$\n",
        "   * $y(x) = x\\sin(x)$\n",
        "   * $y(x) = (x+1)(x+1)$\n",
        "   * $y(x) = \\frac{x}{x+1}$\n",
        "   * $y(x) = (x+1)\\exp(x)$\n",
        "   * $y(x) = \\sin(x^2)$\n",
        "   * $y(x) = \\exp(-2x)$\n",
        "   * $y(x) = \\frac{1}{\\sin(x+1)}$\n",
        "   * $y(x) = \\sqrt{2x+1}$\n",
        "\n",
        "2. Prove:\n",
        "   - $\\frac{d}{dx} (\\ln(\\sin(x))) = \\cot(x)$\n",
        "\n",
        "3. For $f(x) = \\cos(x)$, verify that $f''(x) = -f(x)$.\n",
        "\n",
        "4. Using de l'Hospital's Rule, find the improper limits:\n",
        "   - $\\displaystyle \\lim_{x\\to 0} \\frac{\\sin{x}}{x}$\n",
        "\n",
        "   - $\\displaystyle \\lim_{x\\to \\infty} \\frac{\\ln x}{x}$\n",
        "\n",
        "   - $\\displaystyle \\lim_{x\\to \\infty} \\frac{\\exp(x)}{x}$\n",
        "\n",
        "5. In physics, the position of a particle is given by $x(t) = 3t^2 - 6t + 1$. Find the velocity $V(t)=x'(t)$ and acceleration $a(t)=V'(t)=x''(t)$ of the particle at time $t = 2$."
      ],
      "metadata": {
        "id": "ddTriS2WQfzU"
      }
    },
    {
      "cell_type": "markdown",
      "source": [
        "\n",
        "\n",
        "1. **$y(x) = -3x + 3$**\n",
        "\n",
        "   The derivative is:\n",
        "   $$ y'(x) = -3 $$\n",
        "   https://www.geogebra.org/calculator/xnvgmjqb\n",
        "\n",
        "2. **$y(x) = \\pi x + \\sin(1)$**\n",
        "\n",
        "   The derivative is:\n",
        "   $$ y'(x) = \\pi $$\n",
        "   https://www.geogebra.org/calculator/dgr3nbqc\n",
        "\n",
        "3. **$y(x) = 4 + \\sin(2)$**\n",
        "\n",
        "   The derivative is:\n",
        "   $$ y'(x) = 0 $$\n",
        "   https://www.geogebra.org/calculator/g7zzw4mh\n",
        "\n",
        "4. **$y(x) = 2x^3 - 3x^2 + 8x - 9$**\n",
        "\n",
        "   The derivative is:\n",
        "   $$ y'(x) = 6x^2 - 6x + 8 $$\n",
        "   https://www.geogebra.org/calculator/pzhu2hrw\n",
        "\n",
        "5. **$y(x) = 6x^{1/3}$**\n",
        "\n",
        "   The derivative is:\n",
        "   $$ y'(x) = \\frac{2}{x^{2/3}} $$\n",
        "  https://www.geogebra.org/calculator/juaccd6b\n",
        "\n",
        "6. **$y(x) = \\sqrt{x}$**\n",
        "\n",
        "   The derivative is:\n",
        "   $$ y'(x) = \\frac{1}{2\\sqrt{x}} $$\n",
        "\n",
        "7. **$y(x) = \\cos(x) + \\sin(x)$**\n",
        "\n",
        "   The derivative is:\n",
        "   $$ y'(x) = -\\sin(x) + \\cos(x) $$\n",
        "   https://www.geogebra.org/calculator/kpruxwk2\n",
        "\n",
        "8. **$y(x) = 2\\sin(x)\\cos(x)$**\n",
        "\n",
        "   Using the product rule:\n",
        "   $$ y'(x) = 2[\\cos(x)\\cos(x) - \\sin(x)\\sin(x)] = 2\\cos(2x) $$\n",
        "   https://www.geogebra.org/calculator/kqm2mkaw\n",
        "\n",
        "9. **$y(x) = x\\sin(x)$**\n",
        "\n",
        "   Using the product rule:\n",
        "   $$ y'(x) = \\sin(x) + x\\cos(x) $$\n",
        "\n",
        "   https://www.geogebra.org/calculator/annapgfv\n",
        "\n",
        "10. **$y(x) = (x+1)(x+1)$**\n",
        "\n",
        "    This is a simple polynomial:\n",
        "    $$ y(x) = (x+1)^2 $$\n",
        "    The derivative is:\n",
        "    $$ y'(x) = 2(x+1) $$\n",
        "    https://www.geogebra.org/calculator/jg4m7vgu\n",
        "\n",
        "11. **$y(x) = \\frac{x}{x+1}$**\n",
        "\n",
        "    Using the quotient rule:\n",
        "    $$ y'(x) = \\frac{(x+1)(1) - x(1)}{(x+1)^2} = \\frac{1}{(x+1)^2} $$\n",
        "    https://www.geogebra.org/calculator/epfmdsc8\n",
        "\n",
        "12. **$y(x) = (x+1)\\exp(x)$**\n",
        "\n",
        "    Using the product rule:\n",
        "    $$ y'(x) = \\exp(x) + (x+1)\\exp(x) = (x+2)\\exp(x) $$\n",
        "    https://www.geogebra.org/calculator/jrw2wgnu\n",
        "\n",
        "13. **$y(x) = \\sin(x^2)$**\n",
        "\n",
        "    Using the chain rule:\n",
        "    $$ y'(x) = 2x\\cos(x^2) $$\n",
        "    https://www.geogebra.org/calculator/vwusfehf\n",
        "\n",
        "14. **$y(x) = \\exp(-2x)$**\n",
        "\n",
        "    The derivative is:\n",
        "    $$ y'(x) = -2\\exp(-2x) $$\n",
        "    https://www.geogebra.org/calculator/ftbhrr7s\n",
        "\n",
        "15. **$y(x) = \\frac{1}{\\sin(x+1)}$**\n",
        "\n",
        "    Using the chain rule:\n",
        "    $$ y'(x) = -\\frac{\\cos(x+1)}{\\sin^2(x+1)} $$\n",
        "    https://www.geogebra.org/calculator/naft3c7y\n",
        "\n",
        "16. **$y(x) = \\sqrt{2x+1}$**\n",
        "\n",
        "    Using the chain rule:\n",
        "    $$ y'(x) = \\frac{1}{\\sqrt{2x+1}} $$\n",
        "    https://www.geogebra.org/calculator/vzuaekhr\n",
        "\n",
        "---\n",
        "\n",
        "### 2. Prove:  $\\frac{d}{dx} (\\ln(\\sin(x))) = \\cot(x)$\n",
        "\n",
        "\n",
        "$$\n",
        "\\frac{d}{dx} \\left( \\ln(\\sin(x)) \\right) = \\frac{1}{\\sin(x)} \\cdot \\cos(x) = \\cot(x)\n",
        "$$\n",
        "\n",
        "---\n",
        "\n",
        "### 3. For **$f(x) = \\cos(x)$**, verify that **$f''(x) = -f(x)$**.\n",
        "\n",
        "First, find **$f'(x)$**:\n",
        "$$\n",
        "f'(x) = -\\sin(x)\n",
        "$$\n",
        "Second, find **$f''(x)$**:\n",
        "$$\n",
        "f''(x) = -\\cos(x)\n",
        "$$\n",
        "Thus:\n",
        "$$\n",
        "f''(x) = -\\cos(x) = -f(x)\n",
        "$$\n",
        "Therefore, the statement is verified.\n",
        "\n",
        "---\n",
        "\n",
        "### 4. Using **de l'Hôpital's Rule**, find the improper limits:\n",
        "\n",
        "- **$\\displaystyle \\lim_{x \\to 0} \\frac{\\sin(x)}{x}$**\n",
        "\n",
        "\n",
        "  $$\n",
        "  \\lim_{x \\to 0} \\frac{\\sin(x)}{x} = \\lim_{x \\to 0} \\frac{\\cos(x)}{1} = 1\n",
        "  $$\n",
        "\n",
        "- **$\\displaystyle \\lim_{x \\to \\infty} \\frac{\\ln(x)}{x}$**\n",
        "\n",
        "\n",
        "  $$\n",
        "  \\lim_{x \\to \\infty} \\frac{\\ln(x)}{x} = \\lim_{x \\to \\infty} \\frac{1/x}{1} = 0\n",
        "  $$\n",
        "\n",
        "- **$\\displaystyle \\lim_{x \\to \\infty} \\frac{\\exp(x)}{x}$**\n",
        "\n",
        "\n",
        "  $$\n",
        "  \\lim_{x \\to \\infty} \\frac{\\exp(x)}{x} = \\lim_{x \\to \\infty} \\frac{\\exp(x)}{1} = \\infty\n",
        "  $$\n",
        "\n",
        "---\n",
        "\n",
        "### 5. In physics, the position of a particle is given by **$x(t) = 3t^2 - 6t + 1$**. Find the velocity **$V(t) = x'(t)$** and acceleration **$a(t) = V'(t) = x''(t)$** at time **$t = 2$**.\n",
        "\n",
        "\n",
        "$$\n",
        "V(t) = \\frac{d}{dt}(3t^2 - 6t + 1) = 6t - 6\n",
        "$$\n",
        "At **$t = 2$**:\n",
        "$$\n",
        "V(2) = 6(2) - 6 = 12 - 6 = 6\n",
        "$$\n",
        "\n",
        "\n",
        "$$\n",
        "a(t) = \\frac{d}{dt}(6t - 6) = 6\n",
        "$$\n",
        "So, at **$t = 2$**:\n",
        "$$\n",
        "a(2) = 6\n",
        "$$\n"
      ],
      "metadata": {
        "id": "arG5WaIsRNjB"
      }
    }
  ]
}